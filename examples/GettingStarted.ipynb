{
 "cells": [
  {
   "cell_type": "markdown",
   "metadata": {},
   "source": [
    "# Getting Started\n",
    "\n",
    "This is an Notebook containing the examples from the **Getting Started** section in the documentation. Refer to the documentation for very verbose description of this code."
   ]
  },
  {
   "cell_type": "markdown",
   "metadata": {},
   "source": [
    "### Optimizing a Policy"
   ]
  },
  {
   "cell_type": "code",
   "execution_count": null,
   "metadata": {
    "collapsed": true
   },
   "outputs": [],
   "source": [
    "# import the classes we need\n",
    "from SafeRLBench.envs import LinearCar\n",
    "from SafeRLBench.policy import LinearPolicy\n",
    "from SafeRLBench.algo import PolicyGradient"
   ]
  },
  {
   "cell_type": "code",
   "execution_count": null,
   "metadata": {
    "collapsed": false
   },
   "outputs": [],
   "source": [
    "# get an instance of `LinearCar` with the default arguments.\n",
    "linear_car = LinearCar()\n",
    "# we need a policy which maps R^2 to R\n",
    "policy = LinearPolicy(2, 1)\n",
    "# setup parameters\n",
    "policy.parameters = [-1, -1, 1]\n",
    "\n",
    "# plug the environment and policy into the algorithm\n",
    "optimizer = PolicyGradient(linear_car, policy, estimator='central_fd')\n",
    "\n",
    "# run optimization\n",
    "optimizer.optimize()"
   ]
  },
  {
   "cell_type": "markdown",
   "metadata": {},
   "source": [
    "Lets take a look at what happened during the run. For this we can access the monitor and generate some plots. "
   ]
  },
  {
   "cell_type": "code",
   "execution_count": null,
   "metadata": {
    "collapsed": false
   },
   "outputs": [],
   "source": [
    "import matplotlib.pyplot as plt\n",
    "\n",
    "y = optimizer.monitor.rewards\n",
    "\n",
    "plt.plot(range(len(y)), y)\n",
    "plt.show()"
   ]
  },
  {
   "cell_type": "markdown",
   "metadata": {},
   "source": [
    "### Configuration"
   ]
  },
  {
   "cell_type": "code",
   "execution_count": null,
   "metadata": {
    "collapsed": true
   },
   "outputs": [],
   "source": [
    "# import the configuration object\n",
    "from SafeRLBench import config"
   ]
  },
  {
   "cell_type": "code",
   "execution_count": null,
   "metadata": {
    "collapsed": true
   },
   "outputs": [],
   "source": [
    "# setup stream handler\n",
    "config.logger_add_stream_handler()\n",
    "# setup logger level\n",
    "config.logger_set_level(config.DEBUG)\n",
    "# raise monitor verbosity\n",
    "config.monitor_set_verbosity(2)"
   ]
  },
  {
   "cell_type": "markdown",
   "metadata": {},
   "source": [
    "After changing these values, please run the cell which invokes `optimizer.optimize` again to see what happens."
   ]
  },
  {
   "cell_type": "code",
   "execution_count": null,
   "metadata": {
    "collapsed": true
   },
   "outputs": [],
   "source": []
  }
 ],
 "metadata": {
  "kernelspec": {
   "display_name": "Python (py36-srb)",
   "language": "python",
   "name": "py36-srb"
  },
  "language_info": {
   "codemirror_mode": {
    "name": "ipython",
    "version": 3
   },
   "file_extension": ".py",
   "mimetype": "text/x-python",
   "name": "python",
   "nbconvert_exporter": "python",
   "pygments_lexer": "ipython3",
   "version": "3.6.1"
  }
 },
 "nbformat": 4,
 "nbformat_minor": 2
}
