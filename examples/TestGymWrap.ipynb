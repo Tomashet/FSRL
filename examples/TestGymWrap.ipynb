{
 "cells": [
  {
   "cell_type": "code",
   "execution_count": null,
   "metadata": {
    "collapsed": false
   },
   "outputs": [],
   "source": [
    "import sys, os\n",
    "\n",
    "sys.path.append(os.path.abspath('..'))\n",
    "\n",
    "from SafeRLBench import config\n",
    "from SafeRLBench.algo import PolicyGradient\n",
    "from SafeRLBench.envs import GymWrap\n",
    "from SafeRLBench.policy import DiscreteLinearPolicy\n",
    "from SafeRLBench.spaces import BoundedSpace\n",
    "\n",
    "from numpy import array\n",
    "\n",
    "import gym\n",
    "\n",
    "import logging"
   ]
  },
  {
   "cell_type": "code",
   "execution_count": null,
   "metadata": {
    "collapsed": false
   },
   "outputs": [],
   "source": [
    "config.logger_set_level(logging.DEBUG)\n",
    "config.logger_add_stream_handler()"
   ]
  },
  {
   "cell_type": "code",
   "execution_count": null,
   "metadata": {
    "collapsed": false
   },
   "outputs": [],
   "source": [
    "env = gym.make('MountainCar-v0')\n",
    "wrap = GymWrap(env, 500, render=True)"
   ]
  },
  {
   "cell_type": "code",
   "execution_count": null,
   "metadata": {
    "collapsed": false
   },
   "outputs": [],
   "source": [
    "policy = DiscreteLinearPolicy(2, 1)\n",
    "policy.parameter_space = BoundedSpace(-2, 2, (3,))\n",
    "policy.parameters = array([10, 500, 7])\n",
    "opt = PolicyGradient(wrap, policy, estimator='central_fd', eps=0.0000000001, var=1)"
   ]
  },
  {
   "cell_type": "code",
   "execution_count": null,
   "metadata": {
    "collapsed": false
   },
   "outputs": [],
   "source": [
    "opt.optimize()"
   ]
  },
  {
   "cell_type": "code",
   "execution_count": null,
   "metadata": {
    "collapsed": false,
    "scrolled": true
   },
   "outputs": [],
   "source": [
    "for i in range(100):\n",
    "    wrap.environment.render()\n",
    "    print(wrap.update(1))"
   ]
  },
  {
   "cell_type": "code",
   "execution_count": null,
   "metadata": {
    "collapsed": true
   },
   "outputs": [],
   "source": []
  }
 ],
 "metadata": {
  "kernelspec": {
   "display_name": "Python 3",
   "language": "python",
   "name": "python3"
  },
  "language_info": {
   "codemirror_mode": {
    "name": "ipython",
    "version": 3
   },
   "file_extension": ".py",
   "mimetype": "text/x-python",
   "name": "python",
   "nbconvert_exporter": "python",
   "pygments_lexer": "ipython3",
   "version": "3.5.3"
  }
 },
 "nbformat": 4,
 "nbformat_minor": 1
}
