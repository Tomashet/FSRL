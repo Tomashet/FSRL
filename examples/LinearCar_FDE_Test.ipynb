{
 "cells": [
  {
   "cell_type": "code",
   "execution_count": 1,
   "metadata": {
    "collapsed": true
   },
   "outputs": [],
   "source": [
    "import matplotlib.pyplot as plt\n",
    "import numpy as np\n",
    "\n",
    "try:\n",
    "    import SafeRLBench as srb\n",
    "    import SafeRLBench.envs as envs\n",
    "    import SafeRLBench.tools as tools\n",
    "except ImportError:\n",
    "    import sys\n",
    "    import os\n",
    "    module_path = os.path.abspath('..')\n",
    "    sys.path.append(module_path)\n",
    "    import SafeRLBench as srb\n",
    "    import SafeRLBench.envs as envs\n",
    "    import SafeRLBench.tools as tools\n",
    "    \n",
    "np.set_printoptions(precision=5)"
   ]
  },
  {
   "cell_type": "code",
   "execution_count": 2,
   "metadata": {
    "collapsed": false
   },
   "outputs": [],
   "source": [
    "lincar = envs.LinearCar()\n",
    "executer = tools.Rollout(lincar, max_it=100)\n",
    "par_policy = lambda par: (lambda x: par[0] + par[1:].dot(x))\n",
    "policy = tools.Policy(par_policy,(3))\n",
    "optimizer = srb.LinearFDEstimator(executer, lincar, max_it=500, eps=0.01, var = 0.1, \n",
    "                                  parameter_domain=np.array([-1,1]), rate = 0.5)"
   ]
  },
  {
   "cell_type": "code",
   "execution_count": 3,
   "metadata": {
    "collapsed": false
   },
   "outputs": [
    {
     "name": "stdout",
     "output_type": "stream",
     "text": [
      "Start Linear Finite Difference optimization:\n",
      "Initial Parameters: [ 0.69535 -0.59493 -0.80002]\n",
      "Run: 0  \tParameter: \t[ 0.69535 -0.59493 -0.80002]\tReward: -64.2571561702\n",
      "\t\tGradient: \t[ -0.47609 -14.77789  -0.30568]\n",
      "Run: 10  \tParameter: \t[ 1.49944 -7.87861 -0.99046]\tReward: -83.785121214\n",
      "\t\tGradient: \t[ 0.22668  0.04298 -0.00564]\n",
      "Run: 20  \tParameter: \t[ 2.70701 -7.56617 -1.03956]\tReward: -68.8882250851\n",
      "\t\tGradient: \t[ 0.27437  0.09521 -0.00528]\n",
      "Run: 30  \tParameter: \t[ 3.77679 -7.01257 -0.99911]\tReward: -30.4945588031\n",
      "\t\tGradient: \t[ 0.10823  0.03889 -0.05166]\n",
      "Run: 40  \tParameter: \t[ 4.12622 -6.93026 -1.33111]\tReward: -48.6664526719\n",
      "\t\tGradient: \t[ 0.04189  0.01285 -0.0912 ]\n",
      "Run: 50  \tParameter: \t[ 4.30182 -6.94516 -1.77792]\tReward: -46.9979174483\n",
      "\t\tGradient: \t[ 0.03159 -0.00401 -0.08381]\n",
      "Run: 60  \tParameter: \t[ 4.46233 -6.98032 -2.1709 ]\tReward: -45.2788173314\n",
      "\t\tGradient: \t[ 0.03144 -0.01127 -0.07468]\n",
      "Run: 70  \tParameter: \t[ 4.61471 -7.02513 -2.54164]\tReward: -44.0497742085\n",
      "\t\tGradient: \t[ 0.02718 -0.00572 -0.07389]\n",
      "Run: 80  \tParameter: \t[ 4.73042 -7.04176 -2.90661]\tReward: -43.0146081647\n",
      "\t\tGradient: \t[ 0.01907  0.00109 -0.07095]\n",
      "Run: 90  \tParameter: \t[ 4.84597 -7.0352  -3.26027]\tReward: -41.9161636992\n",
      "\t\tGradient: \t[ 0.0092   0.00367 -0.0698 ]\n",
      "Run: 100  \tParameter: \t[ 4.89594 -6.99267 -3.59225]\tReward: -41.0888237314\n",
      "\t\tGradient: \t[ 0.00836  0.01355 -0.0615 ]\n",
      "Run: 110  \tParameter: \t[ 4.92955 -6.91265 -3.88234]\tReward: -40.4072562685\n",
      "\t\tGradient: \t[ 0.00583  0.01743 -0.05508]\n",
      "Run: 120  \tParameter: \t[ 4.95639 -6.82501 -4.15875]\tReward: -39.7478581532\n",
      "\t\tGradient: \t[ 0.00577  0.01757 -0.05544]\n",
      "Run: 130  \tParameter: \t[ 4.98813 -6.73663 -4.4338 ]\tReward: -39.0927184183\n",
      "\t\tGradient: \t[ 0.00539  0.0188  -0.05421]\n",
      "Run: 140  \tParameter: \t[ 5.00678 -6.63567 -4.69917]\tReward: -38.4823592978\n",
      "\t\tGradient: \t[ 0.00173  0.02177 -0.05195]\n",
      "Run: 150  \tParameter: \t[ 5.00777 -6.51938 -4.95399]\tReward: -37.8632154711\n",
      "\t\tGradient: \t[-0.00075  0.02545 -0.04925]\n",
      "Run: 160  \tParameter: \t[ 4.99947 -6.38926 -5.18952]\tReward: -37.2635735903\n",
      "\t\tGradient: \t[-0.00285  0.02604 -0.04446]\n",
      "Run: 170  \tParameter: \t[ 4.98199 -6.26192 -5.40684]\tReward: -36.60915267\n",
      "\t\tGradient: \t[-0.00348  0.02471 -0.04263]\n",
      "Run: 180  \tParameter: \t[ 4.96673 -6.14481 -5.67932]\tReward: -35.6382268338\n",
      "\t\tGradient: \t[-0.00208  0.02207 -0.05862]\n",
      "Run: 190  \tParameter: \t[ 4.96093 -6.04133 -5.98504]\tReward: -34.5636665051\n",
      "\t\tGradient: \t[-0.00148  0.01968 -0.06126]\n",
      "Run: 200  \tParameter: \t[ 4.94901 -5.94671 -6.25247]\tReward: -33.6469116023\n",
      "\t\tGradient: \t[-0.00239  0.01865 -0.06376]\n",
      "Run: 210  \tParameter: \t[ 4.9326  -5.85547 -6.48251]\tReward: -32.9119291312\n",
      "\t\tGradient: \t[-0.00393  0.01782 -0.04414]\n",
      "Run: 220  \tParameter: \t[ 4.91182 -5.76907 -6.70331]\tReward: -32.2407564678\n",
      "\t\tGradient: \t[-0.0044   0.0168  -0.04421]\n",
      "Run: 230  \tParameter: \t[ 4.8887  -5.68558 -6.92402]\tReward: -31.5524521408\n",
      "\t\tGradient: \t[-0.00507  0.01647 -0.04422]\n",
      "Run: 240  \tParameter: \t[ 4.86164 -5.60436 -7.14403]\tReward: -30.8491821239\n",
      "\t\tGradient: \t[-0.00523  0.01568 -0.04359]\n",
      "Run: 250  \tParameter: \t[ 4.83537 -5.52801 -7.36136]\tReward: -30.1714963379\n",
      "\t\tGradient: \t[-0.00528  0.01464 -0.04337]\n",
      "Run: 260  \tParameter: \t[ 4.80853 -5.4579  -7.57867]\tReward: -29.5258957767\n",
      "\t\tGradient: \t[-0.00538  0.01302 -0.04338]\n",
      "Run: 270  \tParameter: \t[ 4.78346 -5.39671 -7.79499]\tReward: -28.8953574132\n",
      "\t\tGradient: \t[-0.00427  0.01137 -0.04307]\n",
      "Run: 280  \tParameter: \t[ 4.78544 -5.40577 -8.00756]\tReward: -28.5485340903\n",
      "\t\tGradient: \t[ 0.00239 -0.04178 -0.04181]\n",
      "Run: 290  \tParameter: \t[ 4.81953 -5.47152 -8.20894]\tReward: -28.3213636362\n",
      "\t\tGradient: \t[ 0.01145 -0.03245 -0.03922]\n",
      "Run: 300  \tParameter: \t[ 4.87414 -5.51085 -8.40379]\tReward: -28.0073685508\n",
      "\t\tGradient: \t[ 0.01112 -0.04269 -0.03848]\n",
      "Run: 310  \tParameter: \t[ 4.95102 -5.59638 -8.59391]\tReward: -27.8005868075\n",
      "\t\tGradient: \t[ 0.01412 -0.04474 -0.03761]\n",
      "Run: 320  \tParameter: \t[ 5.0443  -5.72799 -8.77844]\tReward: -27.7572946133\n",
      "\t\tGradient: \t[ 0.02184 -0.02733 -0.03581]\n",
      "Run: 330  \tParameter: \t[ 5.1478  -5.81752 -8.95518]\tReward: -27.547875869\n",
      "\t\tGradient: \t[ 0.01871  0.03169 -0.035  ]\n",
      "Run: 340  \tParameter: \t[ 5.23609 -5.91177 -9.12872]\tReward: -27.4071064808\n",
      "\t\tGradient: \t[ 0.02066 -0.0332  -0.0337 ]\n",
      "Run: 350  \tParameter: \t[ 5.3391  -5.98555 -9.29478]\tReward: -27.1794219349\n",
      "\t\tGradient: \t[ 0.01471 -0.04796 -0.03398]\n",
      "Run: 360  \tParameter: \t[ 5.42738 -6.09601 -9.46006]\tReward: -27.1352134924\n",
      "\t\tGradient: \t[ 0.01892 -0.0391  -0.03243]\n",
      "Run: 370  \tParameter: \t[ 5.51827 -6.20037 -9.62112]\tReward: -27.1356212365\n",
      "\t\tGradient: \t[ 0.01942 -0.03698 -0.03122]\n",
      "Run: 380  \tParameter: \t[ 5.61    -6.25505 -9.7769 ]\tReward: -26.8665484821\n",
      "\t\tGradient: \t[ 0.01248 -0.05709 -0.03266]\n",
      "Run: 390  \tParameter: \t[ 5.69491 -6.34366 -9.87441]\tReward: -26.8693514857\n",
      "\t\tGradient: \t[ 0.01106 -0.05185 -0.03254]\n",
      "Run: 400  \tParameter: \t[  5.76307  -6.42491 -10.03058]\tReward: -26.8338695895\n",
      "\t\tGradient: \t[ 0.01278 -0.04882 -0.03109]\n",
      "Run: 410  \tParameter: \t[  5.83841  -6.52207 -10.1801 ]\tReward: -26.868468362\n",
      "\t\tGradient: \t[ 0.01548 -0.04094 -0.02932]\n",
      "Run: 420  \tParameter: \t[  5.91508  -6.61425 -10.32497]\tReward: -26.8723078179\n",
      "\t\tGradient: \t[ 0.01705  0.03552 -0.02798]\n",
      "Run: 430  \tParameter: \t[  5.98214  -6.66221 -10.46898]\tReward: -26.6738964663\n",
      "\t\tGradient: \t[ 0.01397  0.03295 -0.02809]\n",
      "Run: 440  \tParameter: \t[  6.05816  -6.72355 -10.54855]\tReward: -26.5996355317\n",
      "\t\tGradient: \t[ 0.00997 -0.0536  -0.02893]\n",
      "Run: 450  \tParameter: \t[  6.117    -6.81043 -10.69034]\tReward: -26.6422746818\n",
      "\t\tGradient: \t[ 0.01408  0.03416 -0.02782]\n",
      "Run: 460  \tParameter: \t[  6.18185  -6.89085 -10.82961]\tReward: -26.6312870819\n",
      "\t\tGradient: \t[ 0.01615  0.03627 -0.02724]\n",
      "Run: 470  \tParameter: \t[  6.25325  -6.95915 -10.9668 ]\tReward: -26.5436455992\n",
      "\t\tGradient: \t[ 0.01529 -0.04355 -0.02718]\n",
      "Run: 480  \tParameter: \t[  6.32622  -7.01932 -11.04288]\tReward: -26.4932807927\n",
      "\t\tGradient: \t[ 0.01202 -0.04561 -0.02782]\n",
      "Run: 490  \tParameter: \t[  6.39376  -7.12206 -11.18044]\tReward: -26.5710963883\n",
      "\t\tGradient: \t[ 0.01661  0.03776 -0.02723]\n"
     ]
    }
   ],
   "source": [
    "par, conv = optimizer.optimize(policy)"
   ]
  },
  {
   "cell_type": "code",
   "execution_count": 4,
   "metadata": {
    "collapsed": false
   },
   "outputs": [
    {
     "name": "stdout",
     "output_type": "stream",
     "text": [
      "Best Parameter:\t[ 3.63358 -7.08404 -0.97842]\n",
      "Best Reward: \t-10.0340421325\n"
     ]
    },
    {
     "data": {
      "image/png": "[encoded data removed]",
      "text/plain": [
       "<matplotlib.figure.Figure at 0x10d263550>"
      ]
     },
     "metadata": {},
     "output_type": "display_data"
    }
   ],
   "source": [
    "print(\"Best Parameter:\\t\"+str(optimizer.best_parameter))\n",
    "print(\"Best Reward: \\t\"+str(optimizer.best_reward))\n",
    "\n",
    "policy.setParameter(optimizer.best_parameter)\n",
    "trace, i, achieved = executer.rollout(policy)\n",
    "\n",
    "y = np.array([t[0] for t in [s[1] for s in trace]])\n",
    "x = np.arange(0,i+1)\n",
    "\n",
    "plt.plot(x,y)\n",
    "plt.show()"
   ]
  },
  {
   "cell_type": "code",
   "execution_count": 5,
   "metadata": {
    "collapsed": false
   },
   "outputs": [
    {
     "name": "stdout",
     "output_type": "stream",
     "text": [
      "Last Parameter:\t[  6.45248  -7.12624 -11.31836]\n",
      "Last Reward: \t-26.2502473599\n"
     ]
    },
    {
     "data": {
      "image/png": "[encoded data removed]",
      "text/plain": [
       "<matplotlib.figure.Figure at 0x10d28efd0>"
      ]
     },
     "metadata": {},
     "output_type": "display_data"
    }
   ],
   "source": [
    "policy.setParameter(par)\n",
    "trace, i, achieved = executer.rollout(policy)\n",
    "\n",
    "print(\"Last Parameter:\\t\"+str(par))\n",
    "print(\"Last Reward: \\t\"+str(sum([t[2] for t in trace])))\n",
    "\n",
    "y = np.array([t[0] for t in [s[1] for s in trace]])\n",
    "x = np.arange(0,i+1)\n",
    "\n",
    "plt.plot(x,y)\n",
    "plt.show()"
   ]
  },
  {
   "cell_type": "code",
   "execution_count": 6,
   "metadata": {
    "collapsed": false
   },
   "outputs": [
    {
     "data": {
      "text/plain": [
       "[1.0,\n",
       " 1.0,\n",
       " 1.0,\n",
       " 1.0,\n",
       " 1.0,\n",
       " 1.0,\n",
       " 1.0,\n",
       " 1.0,\n",
       " 1.0,\n",
       " 1.0,\n",
       " 1.0,\n",
       " array([ 0.50413]),\n",
       " array([-0.37274]),\n",
       " -1.0,\n",
       " -1.0,\n",
       " -1.0,\n",
       " -1.0,\n",
       " -1.0,\n",
       " -1.0,\n",
       " -1.0,\n",
       " -1.0,\n",
       " -1.0,\n",
       " -1.0,\n",
       " -1.0,\n",
       " -1.0,\n",
       " -1.0,\n",
       " -1.0,\n",
       " -1.0,\n",
       " -1.0,\n",
       " -1.0,\n",
       " -1.0,\n",
       " -1.0,\n",
       " array([-0.50521]),\n",
       " array([ 0.14871]),\n",
       " array([ 0.71802]),\n",
       " 1.0,\n",
       " 1.0,\n",
       " 1.0,\n",
       " 1.0,\n",
       " 1.0,\n",
       " 1.0,\n",
       " 1.0,\n",
       " 1.0,\n",
       " 1.0,\n",
       " 1.0,\n",
       " 1.0,\n",
       " 1.0,\n",
       " array([ 0.67472]),\n",
       " array([ 0.2301]),\n",
       " array([-0.1806]),\n",
       " array([-0.53195]),\n",
       " array([-0.80562]),\n",
       " array([-0.9909]),\n",
       " -1.0,\n",
       " -1.0,\n",
       " -1.0,\n",
       " array([-0.93504]),\n",
       " array([-0.75464]),\n",
       " array([-0.54088]),\n",
       " array([-0.31278]),\n",
       " array([-0.0882]),\n",
       " array([ 0.11725]),\n",
       " array([ 0.29109]),\n",
       " array([ 0.4245]),\n",
       " array([ 0.51257]),\n",
       " array([ 0.55414]),\n",
       " array([ 0.55152]),\n",
       " array([ 0.50989]),\n",
       " array([ 0.43664]),\n",
       " array([ 0.34056]),\n",
       " array([ 0.23109]),\n",
       " array([ 0.11754]),\n",
       " array([ 0.00846]),\n",
       " array([-0.08887]),\n",
       " array([-0.16885]),\n",
       " array([-0.22775]),\n",
       " array([-0.26375]),\n",
       " array([-0.27688]),\n",
       " array([-0.26879]),\n",
       " array([-0.24247]),\n",
       " array([-0.20184]),\n",
       " array([-0.15143]),\n",
       " array([-0.09593]),\n",
       " array([-0.03988]),\n",
       " array([ 0.01267]),\n",
       " array([ 0.05837]),\n",
       " array([ 0.09473]),\n",
       " array([ 0.12023]),\n",
       " array([ 0.13428]),\n",
       " array([ 0.13717]),\n",
       " array([ 0.12995]),\n",
       " array([ 0.11429]),\n",
       " array([ 0.09226]),\n",
       " array([ 0.06615]),\n",
       " array([ 0.03828]),\n",
       " array([ 0.01083]),\n",
       " array([-0.01428]),\n",
       " array([-0.03553]),\n",
       " array([-0.05184]),\n",
       " array([-0.06261])]"
      ]
     },
     "execution_count": 6,
     "metadata": {},
     "output_type": "execute_result"
    }
   ],
   "source": [
    "[t[0] for t in trace]"
   ]
  },
  {
   "cell_type": "code",
   "execution_count": 7,
   "metadata": {
    "collapsed": false,
    "scrolled": false
   },
   "outputs": [
    {
     "name": "stdout",
     "output_type": "stream",
     "text": [
      "Start Linear Finite Difference optimization:\n",
      "Initial Parameters: [-0.76457 -0.07739  0.34679]\n",
      "Run: 0  \tParameter: \t[-0.76457 -0.07739  0.34679]\tReward: -873.61067118\n",
      "\t\tGradient: \t[ 11.9229  -13.89015  -2.30611]\n",
      "Run: 10  \tParameter: \t[ 4.78803 -7.28977 -1.11928]\tReward: -54.2199722458\n",
      "\t\tGradient: \t[-0.08031 -0.05651 -0.08673]\n",
      "Run: 20  \tParameter: \t[ 4.50218 -7.49716 -1.58589]\tReward: -49.2637078298\n",
      "\t\tGradient: \t[-0.03172 -0.03644 -0.09009]\n",
      "Run: 30  \tParameter: \t[ 4.46593 -7.63676 -1.99856]\tReward: -47.5787127493\n",
      "\t\tGradient: \t[ 0.00662 -0.01779 -0.07073]\n",
      "Run: 40  \tParameter: \t[ 4.53922 -7.69037 -2.31824]\tReward: -46.375885591\n",
      "\t\tGradient: \t[ 0.02006 -0.00868 -0.05917]\n",
      "Run: 50  \tParameter: \t[ 4.63454 -7.74087 -2.61449]\tReward: -45.2953573131\n",
      "\t\tGradient: \t[ 0.01854 -0.01035 -0.05891]\n",
      "Run: 60  \tParameter: \t[ 4.72803 -7.78866 -2.90531]\tReward: -44.5594716635\n",
      "\t\tGradient: \t[ 0.01917 -0.00669 -0.05756]\n",
      "Run: 70  \tParameter: \t[ 4.83119 -7.81468 -3.1904 ]\tReward: -43.5832931664\n",
      "\t\tGradient: \t[ 0.04545 -0.00439 -0.05721]\n",
      "Run: 80  \tParameter: \t[ 4.96695 -7.74242 -3.51711]\tReward: -42.3720017691\n",
      "\t\tGradient: \t[ 0.00616  0.02494 -0.0675 ]\n",
      "Run: 90  \tParameter: \t[ 4.96957 -7.60849 -3.84255]\tReward: -41.6374363383\n",
      "\t\tGradient: \t[-0.00251  0.03063 -0.06169]\n",
      "Run: 100  \tParameter: \t[ 4.95836 -7.43145 -4.13632]\tReward: -40.9587996251\n",
      "\t\tGradient: \t[-0.00287  0.04158 -0.05902]\n",
      "Run: 110  \tParameter: \t[ 4.94578 -7.24498 -4.44362]\tReward: -39.9369249601\n",
      "\t\tGradient: \t[-0.00105  0.03338 -0.06242]\n",
      "Run: 120  \tParameter: \t[ 4.93137 -7.04504 -4.75497]\tReward: -39.142396379\n",
      "\t\tGradient: \t[-0.0047   0.04059 -0.06134]\n",
      "Run: 130  \tParameter: \t[ 4.9231  -6.97688 -5.04333]\tReward: -38.3772453926\n",
      "\t\tGradient: \t[ 0.00108  0.01606 -0.05365]\n",
      "Run: 140  \tParameter: \t[ 4.92993 -6.88388 -5.29595]\tReward: -38.0164239637\n",
      "\t\tGradient: \t[ 0.00089  0.02109 -0.04622]\n",
      "Run: 150  \tParameter: \t[ 4.93221 -6.76924 -5.53285]\tReward: -37.6870696829\n",
      "\t\tGradient: \t[  7.23494e-05   2.25491e-02  -4.56465e-02]\n",
      "Run: 160  \tParameter: \t[ 4.9342  -6.67033 -5.77278]\tReward: -37.2026490775\n",
      "\t\tGradient: \t[ 0.00145  0.01736 -0.04801]\n",
      "Run: 170  \tParameter: \t[ 4.94322 -6.58779 -6.01438]\tReward: -36.526100903\n",
      "\t\tGradient: \t[ 0.00243  0.01587 -0.03763]\n",
      "Run: 180  \tParameter: \t[ 4.95726 -6.51361 -6.24462]\tReward: -35.87351841\n",
      "\t\tGradient: \t[ 0.00326  0.01388 -0.0451 ]\n",
      "Run: 190  \tParameter: \t[ 4.97262 -6.45069 -6.42083]\tReward: -35.360415361\n",
      "\t\tGradient: \t[ 0.00266  0.0115  -0.03349]\n",
      "Run: 200  \tParameter: \t[ 4.98493 -6.39417 -6.58566]\tReward: -34.883175643\n",
      "\t\tGradient: \t[ 0.00223  0.01175 -0.03269]\n",
      "Run: 210  \tParameter: \t[ 4.99179 -6.33192 -6.75058]\tReward: -34.4391083111\n",
      "\t\tGradient: \t[ 0.00053  0.01227 -0.03303]\n",
      "Run: 220  \tParameter: \t[ 4.98254 -6.18172 -6.91706]\tReward: -33.9554795637\n",
      "\t\tGradient: \t[-0.01303  0.05304 -0.03538]\n",
      "Run: 230  \tParameter: \t[ 4.88512 -5.95883 -7.0957 ]\tReward: -33.3642063455\n",
      "\t\tGradient: \t[-0.0193  -0.00148 -0.03514]\n",
      "Run: 240  \tParameter: \t[ 4.83331 -5.93225 -7.26464]\tReward: -33.0110589143\n",
      "\t\tGradient: \t[-0.0054   0.00968 -0.03304]\n",
      "Run: 250  \tParameter: \t[ 4.81152 -5.87952 -7.42964]\tReward: -32.6435459301\n",
      "\t\tGradient: \t[-0.00268  0.01117 -0.03282]\n",
      "Run: 260  \tParameter: \t[ 4.80023 -5.8232  -7.59275]\tReward: -32.2701335875\n",
      "\t\tGradient: \t[-0.00196  0.01111 -0.0325 ]\n",
      "Run: 270  \tParameter: \t[ 4.79068 -5.76836 -7.75477]\tReward: -31.8904903015\n",
      "\t\tGradient: \t[-0.002    0.01091 -0.03236]\n",
      "Run: 280  \tParameter: \t[ 4.78016 -5.71484 -7.9161 ]\tReward: -31.4845678512\n",
      "\t\tGradient: \t[-0.00222  0.01033 -0.03217]\n",
      "Run: 290  \tParameter: \t[ 4.76845 -5.66469 -8.07684]\tReward: -31.0875762928\n",
      "\t\tGradient: \t[-0.00254  0.00982 -0.03217]\n",
      "Run: 300  \tParameter: \t[ 4.75459 -5.6152  -8.23778]\tReward: -30.7038889627\n",
      "\t\tGradient: \t[-0.00303  0.00995 -0.03199]\n",
      "Run: 310  \tParameter: \t[ 4.74142 -5.56651 -8.39639]\tReward: -30.3403345796\n",
      "\t\tGradient: \t[-0.0023   0.0092  -0.03144]\n",
      "Run: 320  \tParameter: \t[ 4.73062 -5.5231  -8.55263]\tReward: -29.9713573172\n",
      "\t\tGradient: \t[-0.00208  0.00818 -0.03104]\n",
      "Run: 330  \tParameter: \t[ 4.7202  -5.48314 -8.70745]\tReward: -29.5985309596\n",
      "\t\tGradient: \t[-0.00221  0.00794 -0.03089]\n",
      "Run: 340  \tParameter: \t[ 4.70771 -5.44395 -8.86164]\tReward: -29.247688007\n",
      "\t\tGradient: \t[-0.00278 -0.04419 -0.03072]\n",
      "Run: 350  \tParameter: \t[ 4.71344 -5.44243 -9.01329]\tReward: -29.0016596381\n",
      "\t\tGradient: \t[ -6.19299e-05   8.94971e-03  -3.02123e-02]\n",
      "Run: 360  \tParameter: \t[ 4.73425 -5.46747 -9.16205]\tReward: -28.8107921359\n",
      "\t\tGradient: \t[ 0.00452 -0.04385 -0.02974]\n",
      "Run: 370  \tParameter: \t[ 4.78101 -5.53054 -9.30692]\tReward: -28.6981884326\n",
      "\t\tGradient: \t[ 0.00966 -0.03989 -0.02891]\n",
      "Run: 380  \tParameter: \t[ 4.83387 -5.56257 -9.45044]\tReward: -28.4590352627\n",
      "\t\tGradient: \t[ 0.00663 -0.04615 -0.02933]\n",
      "Run: 390  \tParameter: \t[ 4.8875  -5.62818 -9.59313]\tReward: -28.3258710524\n",
      "\t\tGradient: \t[ 0.01048 -0.04244 -0.02855]\n",
      "Run: 400  \tParameter: \t[ 4.95665 -5.70866 -9.73299]\tReward: -28.2220182031\n",
      "\t\tGradient: \t[ 0.01342 -0.03939 -0.028  ]\n",
      "Run: 410  \tParameter: \t[ 5.03167 -5.77465 -9.87107]\tReward: -28.0641284089\n",
      "\t\tGradient: \t[ 0.0111  -0.04447 -0.02826]\n",
      "Run: 420  \tParameter: \t[  5.09384  -5.86064 -10.01063]\tReward: -28.0646786508\n",
      "\t\tGradient: \t[ 0.01439  0.0231  -0.02745]\n",
      "Run: 430  \tParameter: \t[  5.15813  -5.93611 -10.10074]\tReward: -28.0825822915\n",
      "\t\tGradient: \t[ 0.01508  0.02452 -0.02722]\n",
      "Run: 440  \tParameter: \t[  5.22284  -5.97685 -10.19009]\tReward: -27.9374942583\n",
      "\t\tGradient: \t[ 0.01018 -0.04116 -0.02797]\n",
      "Run: 450  \tParameter: \t[  5.28786  -6.04806 -10.27818]\tReward: -27.9380536257\n",
      "\t\tGradient: \t[ 0.01011 -0.04095 -0.02791]\n",
      "Run: 460  \tParameter: \t[  5.33637  -6.0764  -10.41767]\tReward: -27.7406035192\n",
      "\t\tGradient: \t[ 0.00786 -0.04712 -0.02816]\n",
      "Run: 470  \tParameter: \t[  5.38936  -6.13733 -10.55464]\tReward: -27.6740502121\n",
      "\t\tGradient: \t[ 0.00998 -0.04549 -0.02737]\n",
      "Run: 480  \tParameter: \t[  5.44987  -6.22471 -10.68851]\tReward: -27.6870395033\n",
      "\t\tGradient: \t[ 0.01497  0.02437 -0.02598]\n",
      "Run: 490  \tParameter: \t[  5.51648  -6.27208 -10.76907]\tReward: -27.5963393897\n",
      "\t\tGradient: \t[ 0.01024 -0.04418 -0.027  ]\n"
     ]
    }
   ],
   "source": [
    "par_policy = lambda par: (lambda x: np.exp(par[0] + par[1:].dot(x)) - 1)\n",
    "policy = tools.Policy(par_policy,(3))\n",
    "optimizer.reset()\n",
    "par, conv = optimizer.optimize(policy)"
   ]
  },
  {
   "cell_type": "code",
   "execution_count": 8,
   "metadata": {
    "collapsed": false
   },
   "outputs": [
    {
     "name": "stdout",
     "output_type": "stream",
     "text": [
      "Best Parameter: [  5.54976  -6.31094 -10.8346 ]\n",
      "Best Reward: -27.5753021636\n"
     ]
    },
    {
     "data": {
      "image/png": "[encoded data removed]",
      "text/plain": [
       "<matplotlib.figure.Figure at 0x10d39bd30>"
      ]
     },
     "metadata": {},
     "output_type": "display_data"
    }
   ],
   "source": [
    "print(\"Best Parameter: \"+str(optimizer.best_parameter))\n",
    "print(\"Best Reward: \"+str(optimizer.best_reward))\n",
    "\n",
    "policy.setParameter(optimizer.best_parameter)\n",
    "trace, i, achieved = executer.rollout(policy)\n",
    "\n",
    "y = np.array([t[0] for t in [s[1] for s in trace]])\n",
    "x = np.arange(0,i+1)\n",
    "\n",
    "plt.plot(x,y)\n",
    "plt.show()"
   ]
  },
  {
   "cell_type": "code",
   "execution_count": null,
   "metadata": {
    "collapsed": true
   },
   "outputs": [],
   "source": []
  }
 ],
 "metadata": {
  "kernelspec": {
   "display_name": "Python 3",
   "language": "python",
   "name": "python3"
  },
  "language_info": {
   "codemirror_mode": {
    "name": "ipython",
    "version": 3
   },
   "file_extension": ".py",
   "mimetype": "text/x-python",
   "name": "python",
   "nbconvert_exporter": "python",
   "pygments_lexer": "ipython3",
   "version": "3.5.2"
  }
 },
 "nbformat": 4,
 "nbformat_minor": 1
}
