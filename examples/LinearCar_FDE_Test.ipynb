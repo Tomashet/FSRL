{
 "cells": [
  {
   "cell_type": "code",
   "execution_count": 5,
   "metadata": {
    "collapsed": false
   },
   "outputs": [],
   "source": [
    "import matplotlib.pyplot as plt\n",
    "import numpy as np\n",
    "\n",
    "try:\n",
    "    import SafeRLBench as srb\n",
    "    import SafeRLBench.envs as envs\n",
    "    import SafeRLBench.tools as tools\n",
    "except ImportError:\n",
    "    import sys\n",
    "    import os\n",
    "    module_path = os.path.abspath('..')\n",
    "    sys.path.append(module_path)\n",
    "    import SafeRLBench as srb\n",
    "    import SafeRLBench.envs as envs\n",
    "    import SafeRLBench.tools as tools\n",
    "    \n",
    "np.set_printoptions(precision=5)"
   ]
  },
  {
   "cell_type": "code",
   "execution_count": 6,
   "metadata": {
    "collapsed": false
   },
   "outputs": [],
   "source": [
    "lincar = envs.LinearCar()\n",
    "\n",
    "#policy_par = lambda par: (lambda x: par[0] + par[1:].dot(x))\n",
    "\n",
    "policy_par = lambda par: (lambda x: np.exp(par[0] - par[1:].dot(x)) - 1.5)\n",
    "\n",
    "policy = tools.Policy(policy_par,(3))\n",
    "optimizer = srb.PolicyGradient(lincar, estimator='central_fd', max_it=10000, eps=0.000001,  \n",
    "                       parameter_domain=np.array([0,1]), rate = 1)\n",
    "optimizer.estimator.var = 0.5"
   ]
  },
  {
   "cell_type": "code",
   "execution_count": 8,
   "metadata": {
    "collapsed": false
   },
   "outputs": [
    {
     "name": "stdout",
     "output_type": "stream",
     "text": [
      "Start Central Finite Differences optimization:\n",
      "Initial Parameters: [ 0.73464  0.87948  0.81683]\n",
      "Run: 0  \tParameter: \t[ 0.73464  0.87948  0.81683]\tReward: -58.9279990679\n",
      "\t\tGradient: \t[ 2.16576 -1.01555 -0.05632]\n",
      "Run: 100  \tParameter: \t[ 4.56072  5.01647  5.28221]\tReward: -30.1352221258\n",
      "\t\tGradient: \t[-0.01998 -0.04968  0.0511 ]\n",
      "\t\tAverage Time: \t0.01s/step\n",
      "Run: 200  \tParameter: \t[ 3.54241  3.27073  9.03446]\tReward: -17.129380101\n",
      "\t\tGradient: \t[ 0.06123 -0.06942  0.02254]\n",
      "\t\tAverage Time: \t0.01s/step\n",
      "Run: 300  \tParameter: \t[  3.64152   3.6611   10.78174]\tReward: -19.7635962987\n",
      "\t\tGradient: \t[ 0.28427 -0.27458  0.00982]\n",
      "\t\tAverage Time: \t0.01s/step\n",
      "Run: 400  \tParameter: \t[  4.16895   3.51923  12.22331]\tReward: -18.9816493187\n",
      "\t\tGradient: \t[-0.48317  0.47738  0.01257]\n",
      "\t\tAverage Time: \t0.01s/step\n",
      "Run: 500  \tParameter: \t[  4.00813   4.05285  13.4593 ]\tReward: -18.6864388242\n",
      "\t\tGradient: \t[ 0.28282 -0.26849  0.00693]\n",
      "\t\tAverage Time: \t0.01s/step\n",
      "Run: 600  \tParameter: \t[  4.0426    4.27212  14.55903]\tReward: -20.7741147117\n",
      "\t\tGradient: \t[ 0.30757 -0.26792  0.00474]\n",
      "\t\tAverage Time: \t0.01s/step\n",
      "Run: 700  \tParameter: \t[  4.56498   4.02373  15.53488]\tReward: -14.6436985615\n",
      "\t\tGradient: \t[-0.28158  0.28125  0.01104]\n",
      "\t\tAverage Time: \t0.01s/step\n",
      "Run: 800  \tParameter: \t[  4.60252   4.20663  16.42195]\tReward: -11.8728600151\n",
      "\t\tGradient: \t[-0.07102  0.06477  0.01049]\n",
      "\t\tAverage Time: \t0.01s/step\n",
      "Run: 900  \tParameter: \t[  4.7454    4.3243   17.21867]\tReward: -11.8210564705\n",
      "\t\tGradient: \t[-0.10286  0.09613  0.00985]\n",
      "\t\tAverage Time: \t0.01s/step\n",
      "Run: 1000  \tParameter: \t[  4.88622   4.36915  17.96024]\tReward: -13.302865022\n",
      "\t\tGradient: \t[-0.22866  0.22309  0.00807]\n",
      "\t\tAverage Time: \t0.01s/step\n",
      "Run: 1100  \tParameter: \t[  4.97153   4.47609  18.64172]\tReward: -12.695101648\n",
      "\t\tGradient: \t[-0.19464  0.18814  0.00728]\n",
      "\t\tAverage Time: \t0.01s/step\n",
      "Run: 1200  \tParameter: \t[  5.0736    4.53478  19.26671]\tReward: -13.3783918697\n",
      "\t\tGradient: \t[-0.24703  0.24068  0.00708]\n",
      "\t\tAverage Time: \t0.01s/step\n",
      "Run: 1300  \tParameter: \t[  5.19108   4.56846  19.85064]\tReward: -14.847770805\n",
      "\t\tGradient: \t[-0.34851  0.34402  0.00724]\n",
      "\t\tAverage Time: \t0.01s/step\n",
      "Run: 1400  \tParameter: \t[  5.26723   4.65002  20.40468]\tReward: -14.5775871229\n",
      "\t\tGradient: \t[-0.33661  0.3309   0.00691]\n",
      "\t\tAverage Time: \t0.01s/step\n",
      "Run: 1500  \tParameter: \t[  5.35532   4.71902  20.93023]\tReward: -14.7898063408\n",
      "\t\tGradient: \t[-0.35435  0.34872  0.00677]\n",
      "\t\tAverage Time: \t0.01s/step\n",
      "Run: 1600  \tParameter: \t[  5.41338   4.81432  21.43185]\tReward: -13.9592421916\n",
      "\t\tGradient: \t[-0.30212  0.29723  0.00616]\n",
      "\t\tAverage Time: \t0.01s/step\n",
      "Run: 1700  \tParameter: \t[  5.49871   4.87427  21.91276]\tReward: -14.2998663551\n",
      "\t\tGradient: \t[-0.32777  0.32298  0.00604]\n",
      "\t\tAverage Time: \t0.01s/step\n",
      "Run: 1800  \tParameter: \t[  5.55715   4.95875  22.3754 ]\tReward: -13.7205573946\n",
      "\t\tGradient: \t[-0.29118  0.28677  0.00557]\n",
      "\t\tAverage Time: \t0.01s/step\n",
      "Run: 1900  \tParameter: \t[  5.63563   5.01591  22.82188]\tReward: -13.9919203545\n",
      "\t\tGradient: \t[-0.3118   0.30743  0.00548]\n",
      "\t\tAverage Time: \t0.01s/step\n",
      "Run: 2000  \tParameter: \t[  5.69794   5.0848   23.25469]\tReward: -13.7770409668\n",
      "\t\tGradient: \t[-0.29954  0.29534  0.0053 ]\n",
      "\t\tAverage Time: \t0.01s/step\n",
      "Run: 2100  \tParameter: \t[  5.75799   5.15327  23.67519]\tReward: -13.5401062461\n",
      "\t\tGradient: \t[-0.28542  0.28155  0.00512]\n",
      "\t\tAverage Time: \t0.01s/step\n",
      "Run: 2200  \tParameter: \t[  5.82448   5.21357  24.08429]\tReward: -13.5575639846\n",
      "\t\tGradient: \t[-0.28841  0.28469  0.00501]\n",
      "\t\tAverage Time: \t0.01s/step\n",
      "Run: 2300  \tParameter: \t[  5.88475   5.27902  24.48094]\tReward: -13.3891424831\n",
      "\t\tGradient: \t[-0.27858  0.2751   0.00487]\n",
      "\t\tAverage Time: \t0.01s/step\n",
      "Run: 2400  \tParameter: \t[  5.94568   5.34051  24.86458]\tReward: -13.304582303\n",
      "\t\tGradient: \t[-0.27424  0.27093  0.00478]\n",
      "\t\tAverage Time: \t0.01s/step\n",
      "Run: 2500  \tParameter: \t[  5.99865   5.40433  25.2351 ]\tReward: -13.062446177\n",
      "\t\tGradient: \t[-0.25891  0.25575  0.00459]\n",
      "\t\tAverage Time: \t0.01s/step\n",
      "Run: 2600  \tParameter: \t[  6.04321   5.4678   25.58612]\tReward: -12.7026196511\n",
      "\t\tGradient: \t[-0.23536  0.23238  0.00434]\n",
      "\t\tAverage Time: \t0.01s/step\n",
      "Run: 2700  \tParameter: \t[  6.09206   5.52234  25.92296]\tReward: -12.5593428238\n",
      "\t\tGradient: \t[-0.22663  0.22373  0.00418]\n",
      "\t\tAverage Time: \t0.01s/step\n",
      "Run: 2800  \tParameter: \t[  6.14291   5.57299  26.25075]\tReward: -12.5124224267\n",
      "\t\tGradient: \t[-0.22447  0.22163  0.00406]\n",
      "\t\tAverage Time: \t0.01s/step\n",
      "Run: 2900  \tParameter: \t[  6.1926    5.62194  26.56999]\tReward: -12.4756745262\n",
      "\t\tGradient: \t[-0.22302  0.22016  0.00395]\n",
      "\t\tAverage Time: \t0.01s/step\n",
      "Run: 3000  \tParameter: \t[  6.24048   5.66908  26.88089]\tReward: -12.4407568887\n",
      "\t\tGradient: \t[-0.22166  0.21879  0.00383]\n",
      "\t\tAverage Time: \t0.01s/step\n",
      "Run: 3100  \tParameter: \t[  6.28677   5.71465  27.18414]\tReward: -12.4071892687\n",
      "\t\tGradient: \t[-0.22037  0.21748  0.00375]\n",
      "\t\tAverage Time: \t0.01s/step\n",
      "Run: 3200  \tParameter: \t[  6.33285   5.76011  27.48158]\tReward: -12.3737323287\n",
      "\t\tGradient: \t[-0.219    0.2162   0.00369]\n",
      "\t\tAverage Time: \t0.01s/step\n",
      "Run: 3300  \tParameter: \t[  6.37927   5.806    27.77373]\tReward: -12.3406486421\n",
      "\t\tGradient: \t[-0.21758  0.21486  0.00363]\n",
      "\t\tAverage Time: \t0.01s/step\n",
      "Run: 3400  \tParameter: \t[  6.42552   5.85179  28.05948]\tReward: -12.3082916716\n",
      "\t\tGradient: \t[-0.21613  0.21349  0.00358]\n",
      "\t\tAverage Time: \t0.01s/step\n",
      "Run: 3500  \tParameter: \t[  6.4712    5.89708  28.33773]\tReward: -12.2766014308\n",
      "\t\tGradient: \t[-0.21467  0.21209  0.00353]\n",
      "\t\tAverage Time: \t0.01s/step\n",
      "Run: 3600  \tParameter: \t[  6.51619   5.94174  28.6092 ]\tReward: -12.2455989087\n",
      "\t\tGradient: \t[-0.2132   0.21069  0.00348]\n",
      "\t\tAverage Time: \t0.01s/step\n",
      "Run: 3700  \tParameter: \t[  6.56047   5.98574  28.87638]\tReward: -12.2150799641\n",
      "\t\tGradient: \t[-0.21174  0.20929  0.00343]\n",
      "\t\tAverage Time: \t0.01s/step\n",
      "Run: 3800  \tParameter: \t[  6.59864   6.03425  29.14004]\tReward: -12.0355430108\n",
      "\t\tGradient: \t[-0.19975  0.19748  0.00335]\n",
      "\t\tAverage Time: \t0.01s/step\n",
      "Run: 3900  \tParameter: \t[  6.57855   6.0981   29.40604]\tReward: -10.8345701148\n",
      "\t\tGradient: \t[-0.11457  0.11368  0.00304]\n",
      "\t\tAverage Time: \t0.01s/step\n",
      "Run: 4000  \tParameter: \t[  6.5554    6.13084  29.67453]\tReward: -10.0378584331\n",
      "\t\tGradient: \t[-0.05796  0.05742  0.00276]\n",
      "\t\tAverage Time: \t0.01s/step\n",
      "Run: 4100  \tParameter: \t[  6.5559    6.14375  29.92895]\tReward: -9.84091891216\n",
      "\t\tGradient: \t[-0.04481  0.04449  0.00254]\n",
      "\t\tAverage Time: \t0.01s/step\n",
      "Run: 4200  \tParameter: \t[  6.57117   6.1677   30.1718 ]\tReward: -9.75189202462\n",
      "\t\tGradient: \t[-0.03543  0.03536  0.0025 ]\n",
      "\t\tAverage Time: \t0.01s/step\n",
      "Run: 4300  \tParameter: \t[  6.59012   6.20354  30.41324]\tReward: -9.87564201051\n",
      "\t\tGradient: \t[-0.0179   0.0182   0.00245]\n",
      "\t\tAverage Time: \t0.01s/step\n",
      "Run: 4400  \tParameter: \t[  6.61693   6.24379  30.65203]\tReward: -9.97947542362\n",
      "\t\tGradient: \t[-0.00396  0.00461  0.00238]\n",
      "\t\tAverage Time: \t0.01s/step\n",
      "Run: 4500  \tParameter: \t[  6.65361   6.28415  30.88718]\tReward: -9.9987496455\n",
      "\t\tGradient: \t[  3.79111e-05   7.60602e-04   2.33469e-03]\n",
      "\t\tAverage Time: \t0.01s/step\n",
      "Run: 4600  \tParameter: \t[  6.69485   6.32552  31.11895]\tReward: -9.98727507041\n",
      "\t\tGradient: \t[ 0.00041  0.00043  0.0023 ]\n",
      "\t\tAverage Time: \t0.01s/step\n",
      "Run: 4700  \tParameter: \t[  6.73746   6.36795  31.34682]\tReward: -9.9740065901\n",
      "\t\tGradient: \t[ 0.00043  0.00043  0.00224]\n",
      "\t\tAverage Time: \t0.01s/step\n",
      "Run: 4800  \tParameter: \t[  6.78018   6.4105   31.56619]\tReward: -9.96268282075\n",
      "\t\tGradient: \t[ 0.00042  0.00042  0.00215]\n",
      "\t\tAverage Time: \t0.01s/step\n",
      "Run: 4900  \tParameter: \t[  6.8222    6.45238  31.77693]\tReward: -9.95349953312\n",
      "\t\tGradient: \t[ 0.00042  0.00041  0.00207]\n",
      "\t\tAverage Time: \t0.01s/step\n",
      "Run: 5000  \tParameter: \t[  6.86331   6.49335  31.98341]\tReward: -9.94458557077\n",
      "\t\tGradient: \t[ 0.00041  0.00041  0.00206]\n",
      "\t\tAverage Time: \t0.01s/step\n",
      "Run: 5100  \tParameter: \t[  6.90385   6.53375  32.18814]\tReward: -9.9357371634\n",
      "\t\tGradient: \t[ 0.0004   0.0004   0.00204]\n",
      "\t\tAverage Time: \t0.01s/step\n",
      "Run: 5200  \tParameter: \t[  6.94403   6.57378  32.39117]\tReward: -9.9270554134\n",
      "\t\tGradient: \t[ 0.0004   0.0004   0.00202]\n",
      "\t\tAverage Time: \t0.01s/step\n",
      "Run: 5300  \tParameter: \t[  6.98388   6.61349  32.59253]\tReward: -9.91855271593\n",
      "\t\tGradient: \t[ 0.0004   0.0004   0.00201]\n",
      "\t\tAverage Time: \t0.01s/step\n",
      "Run: 5400  \tParameter: \t[  7.02343   6.65291  32.79226]\tReward: -9.91023284647\n",
      "\t\tGradient: \t[ 0.00039  0.00039  0.00199]\n",
      "\t\tAverage Time: \t0.01s/step\n",
      "Run: 5500  \tParameter: \t[  7.06271   6.69204  32.99039]\tReward: -9.90209510187\n",
      "\t\tGradient: \t[ 0.00039  0.00039  0.00197]\n",
      "\t\tAverage Time: \t0.01s/step\n",
      "Run: 5600  \tParameter: \t[  7.10173   6.73092  33.18697]\tReward: -9.89413650211\n",
      "\t\tGradient: \t[ 0.00039  0.00039  0.00196]\n",
      "\t\tAverage Time: \t0.01s/step\n",
      "Run: 5700  \tParameter: \t[  7.14049   6.76955  33.38202]\tReward: -9.88635296781\n",
      "\t\tGradient: \t[ 0.00039  0.00039  0.00194]\n",
      "\t\tAverage Time: \t0.01s/step\n",
      "Run: 5800  \tParameter: \t[  7.17901   6.80793  33.5756 ]\tReward: -9.87873995369\n",
      "\t\tGradient: \t[ 0.00038  0.00038  0.00193]\n",
      "\t\tAverage Time: \t0.01s/step\n",
      "Run: 5900  \tParameter: \t[  7.2173    6.84609  33.76772]\tReward: -9.87129279025\n",
      "\t\tGradient: \t[ 0.00038  0.00038  0.00191]\n",
      "\t\tAverage Time: \t0.01s/step\n",
      "Run: 6000  \tParameter: \t[  7.25536   6.88402  33.95843]\tReward: -9.86400686782\n",
      "\t\tGradient: \t[ 0.00038  0.00038  0.0019 ]\n",
      "\t\tAverage Time: \t0.01s/step\n",
      "Run: 6100  \tParameter: \t[  7.2932    6.92173  34.14776]\tReward: -9.85687773516\n",
      "\t\tGradient: \t[ 0.00038  0.00038  0.00189]\n",
      "\t\tAverage Time: \t0.01s/step\n",
      "Run: 6200  \tParameter: \t[  7.33083   6.95923  34.33574]\tReward: -9.84990115144\n",
      "\t\tGradient: \t[ 0.00038  0.00037  0.00187]\n",
      "\t\tAverage Time: \t0.01s/step\n",
      "Run: 6300  \tParameter: \t[  7.36756   6.99585  34.52239]\tReward: -9.84299377555\n",
      "\t\tGradient: \t[ 0.00035  0.00035  0.00186]\n",
      "\t\tAverage Time: \t0.01s/step\n",
      "Run: 6400  \tParameter: \t[  7.40163   7.02979  34.70755]\tReward: -9.83529821728\n",
      "\t\tGradient: \t[ 0.00033  0.00033  0.00184]\n",
      "\t\tAverage Time: \t0.01s/step\n",
      "Run: 6500  \tParameter: \t[  7.43382   7.06182  34.89105]\tReward: -9.82706617264\n",
      "\t\tGradient: \t[ 0.00031  0.00031  0.00183]\n",
      "\t\tAverage Time: \t0.01s/step\n",
      "Run: 6600  \tParameter: \t[  7.46524   7.0931   35.07281]\tReward: -9.81895883282\n",
      "\t\tGradient: \t[ 0.00032  0.00032  0.00181]\n",
      "\t\tAverage Time: \t0.01s/step\n",
      "Run: 6700  \tParameter: \t[  7.49767   7.12542  35.25292]\tReward: -9.8116577754\n",
      "\t\tGradient: \t[ 0.00033  0.00033  0.00179]\n",
      "\t\tAverage Time: \t0.01s/step\n",
      "Run: 6800  \tParameter: \t[  7.53076   7.15842  35.43151]\tReward: -9.80489249056\n",
      "\t\tGradient: \t[ 0.00033  0.00033  0.00178]\n",
      "\t\tAverage Time: \t0.01s/step\n",
      "Run: 6900  \tParameter: \t[  7.56419   7.19176  35.6087 ]\tReward: -9.79849750749\n",
      "\t\tGradient: \t[ 0.00034  0.00033  0.00177]\n",
      "\t\tAverage Time: \t0.01s/step\n",
      "Run: 7000  \tParameter: \t[  7.59773   7.22522  35.78455]\tReward: -9.79236939803\n",
      "\t\tGradient: \t[ 0.00034  0.00033  0.00175]\n",
      "\t\tAverage Time: \t0.01s/step\n",
      "Run: 7100  \tParameter: \t[  7.63126   7.25868  35.95912]\tReward: -9.78644337654\n",
      "\t\tGradient: \t[ 0.00034  0.00033  0.00174]\n",
      "\t\tAverage Time: \t0.01s/step\n",
      "Run: 7200  \tParameter: \t[  7.66471   7.29206  36.13245]\tReward: -9.78067849935\n",
      "\t\tGradient: \t[ 0.00033  0.00033  0.00173]\n",
      "\t\tAverage Time: \t0.01s/step\n",
      "Run: 7300  \tParameter: \t[  7.69803   7.32531  36.30456]\tReward: -9.77504849365\n",
      "\t\tGradient: \t[ 0.00033  0.00033  0.00172]\n",
      "\t\tAverage Time: \t0.01s/step\n",
      "Run: 7400  \tParameter: \t[  7.73119   7.3584   36.4755 ]\tReward: -9.76953613013\n",
      "\t\tGradient: \t[ 0.00033  0.00033  0.0017 ]\n",
      "\t\tAverage Time: \t0.01s/step\n",
      "Run: 7500  \tParameter: \t[  7.76417   7.39131  36.64527]\tReward: -9.76412978225\n",
      "\t\tGradient: \t[ 0.00033  0.00033  0.00169]\n",
      "\t\tAverage Time: \t0.01s/step\n",
      "Run: 7600  \tParameter: \t[  7.79697   7.42404  36.81392]\tReward: -9.75882132172\n",
      "\t\tGradient: \t[ 0.00033  0.00033  0.00168]\n",
      "\t\tAverage Time: \t0.01s/step\n",
      "Run: 7700  \tParameter: \t[  7.82958   7.45659  36.98144]\tReward: -9.75360482779\n",
      "\t\tGradient: \t[ 0.00033  0.00032  0.00167]\n",
      "\t\tAverage Time: \t0.01s/step\n",
      "Run: 7800  \tParameter: \t[  7.862     7.48894  37.14788]\tReward: -9.7484757921\n",
      "\t\tGradient: \t[ 0.00032  0.00032  0.00166]\n",
      "\t\tAverage Time: \t0.01s/step\n",
      "Run: 7900  \tParameter: \t[  7.89422   7.5211   37.31323]\tReward: -9.7434306261\n",
      "\t\tGradient: \t[ 0.00032  0.00032  0.00165]\n",
      "\t\tAverage Time: \t0.01s/step\n",
      "Run: 8000  \tParameter: \t[  7.92626   7.55308  37.47753]\tReward: -9.73846635399\n",
      "\t\tGradient: \t[ 0.00032  0.00032  0.00164]\n",
      "\t\tAverage Time: \t0.01s/step\n",
      "Run: 8100  \tParameter: \t[  7.95812   7.58486  37.64079]\tReward: -9.73358041976\n",
      "\t\tGradient: \t[ 0.00032  0.00032  0.00163]\n",
      "\t\tAverage Time: \t0.01s/step\n",
      "Run: 8200  \tParameter: \t[  7.98978   7.61647  37.80303]\tReward: -9.72877056504\n",
      "\t\tGradient: \t[ 0.00032  0.00032  0.00162]\n",
      "\t\tAverage Time: \t0.01s/step\n",
      "Run: 8300  \tParameter: \t[  8.02127   7.64789  37.96426]\tReward: -9.72403475095\n",
      "\t\tGradient: \t[ 0.00031  0.00031  0.00161]\n",
      "\t\tAverage Time: \t0.01s/step\n",
      "Run: 8400  \tParameter: \t[  8.05258   7.67913  38.1245 ]\tReward: -9.71937110766\n",
      "\t\tGradient: \t[ 0.00031  0.00031  0.0016 ]\n",
      "\t\tAverage Time: \t0.01s/step\n",
      "Run: 8500  \tParameter: \t[  8.08355   7.71004  38.28376]\tReward: -9.71475542082\n",
      "\t\tGradient: \t[ 0.00031  0.00031  0.00159]\n",
      "\t\tAverage Time: \t0.01s/step\n",
      "Run: 8600  \tParameter: \t[  8.11398   7.74041  38.44202]\tReward: -9.71007239895\n",
      "\t\tGradient: \t[ 0.0003   0.0003   0.00158]\n",
      "\t\tAverage Time: \t0.01s/step\n",
      "Run: 8700  \tParameter: \t[  8.14401   7.77037  38.59929]\tReward: -9.70536835179\n",
      "\t\tGradient: \t[ 0.0003   0.0003   0.00157]\n",
      "\t\tAverage Time: \t0.01s/step\n",
      "Run: 8800  \tParameter: \t[  8.17373   7.80002  38.75554]\tReward: -9.70068051645\n",
      "\t\tGradient: \t[ 0.0003   0.0003   0.00156]\n",
      "\t\tAverage Time: \t0.01s/step\n",
      "Run: 8900  \tParameter: \t[  8.2032    7.82941  38.9108 ]\tReward: -9.69603163203\n",
      "\t\tGradient: \t[ 0.00029  0.00029  0.00155]\n",
      "\t\tAverage Time: \t0.01s/step\n",
      "Run: 9000  \tParameter: \t[  8.23255   7.85868  39.06508]\tReward: -9.6914423785\n",
      "\t\tGradient: \t[ 0.00029  0.00029  0.00154]\n",
      "\t\tAverage Time: \t0.01s/step\n",
      "Run: 9100  \tParameter: \t[  8.26204   7.8881   39.2184 ]\tReward: -9.68702713419\n",
      "\t\tGradient: \t[ 0.0003   0.00029  0.00153]\n",
      "\t\tAverage Time: \t0.01s/step\n",
      "Run: 9200  \tParameter: \t[  8.29158   7.91757  39.37081]\tReward: -9.68275983296\n",
      "\t\tGradient: \t[ 0.0003   0.00029  0.00152]\n",
      "\t\tAverage Time: \t0.01s/step\n",
      "Run: 9300  \tParameter: \t[  8.32109   7.94702  39.52234]\tReward: -9.67860551979\n",
      "\t\tGradient: \t[ 0.00029  0.00029  0.00151]\n",
      "\t\tAverage Time: \t0.01s/step\n",
      "Run: 9400  \tParameter: \t[  8.35053   7.9764   39.673  ]\tReward: -9.6745421391\n",
      "\t\tGradient: \t[ 0.00029  0.00029  0.0015 ]\n",
      "\t\tAverage Time: \t0.01s/step\n",
      "Run: 9500  \tParameter: \t[  8.37987   8.00568  39.82282]\tReward: -9.67055554935\n",
      "\t\tGradient: \t[ 0.00029  0.00029  0.00149]\n",
      "\t\tAverage Time: \t0.01s/step\n",
      "Run: 9600  \tParameter: \t[  8.4091    8.03484  39.97181]\tReward: -9.66663649128\n",
      "\t\tGradient: \t[ 0.00029  0.00029  0.00149]\n",
      "\t\tAverage Time: \t0.01s/step\n",
      "Run: 9700  \tParameter: \t[  8.4382    8.06388  40.11998]\tReward: -9.66277873521\n",
      "\t\tGradient: \t[ 0.00029  0.00029  0.00148]\n",
      "\t\tAverage Time: \t0.01s/step\n",
      "Run: 9800  \tParameter: \t[  8.46716   8.09278  40.26735]\tReward: -9.65897794353\n",
      "\t\tGradient: \t[ 0.00029  0.00029  0.00147]\n",
      "\t\tAverage Time: \t0.01s/step\n",
      "Run: 9900  \tParameter: \t[  8.49599   8.12155  40.41393]\tReward: -9.65523096946\n",
      "\t\tGradient: \t[ 0.00029  0.00029  0.00146]\n",
      "\t\tAverage Time: \t0.01s/step\n",
      "Finished\n"
     ]
    }
   ],
   "source": [
    "par, conv = optimizer.optimize(policy)"
   ]
  },
  {
   "cell_type": "code",
   "execution_count": 8,
   "metadata": {
    "collapsed": false
   },
   "outputs": [
    {
     "data": {
      "image/png": "[encoded data removed]",
      "text/plain": [
       "<matplotlib.figure.Figure at 0x109684f60>"
      ]
     },
     "metadata": {},
     "output_type": "display_data"
    }
   ],
   "source": [
    "rewards = optimizer.rewards\n",
    "plt.plot(np.arange(0,len(rewards)),rewards)\n",
    "plt.show()"
   ]
  },
  {
   "cell_type": "code",
   "execution_count": 9,
   "metadata": {
    "collapsed": false
   },
   "outputs": [
    {
     "name": "stdout",
     "output_type": "stream",
     "text": [
      "Best Parameter:\t[  8.72239   8.3446   42.5139 ]\n",
      "Best Reward: \t-10.4552116712\n"
     ]
    },
    {
     "data": {
      "image/png": "[encoded data removed]",
      "text/plain": [
       "<matplotlib.figure.Figure at 0x10ce09198>"
      ]
     },
     "metadata": {},
     "output_type": "display_data"
    }
   ],
   "source": [
    "print(\"Best Parameter:\\t\"+str(optimizer.best_parameter))\n",
    "print(\"Best Reward: \\t\"+str(optimizer.best_reward))\n",
    "\n",
    "policy.setParameter(optimizer.best_parameter)\n",
    "trace, i, achieved = executer.rollout(policy)\n",
    "\n",
    "y = np.array([t[0] for t in [s[1] for s in trace]])\n",
    "x = np.arange(0,i+1)\n",
    "\n",
    "plt.plot(x,y)\n",
    "plt.show()"
   ]
  },
  {
   "cell_type": "code",
   "execution_count": 5,
   "metadata": {
    "collapsed": false,
    "scrolled": false
   },
   "outputs": [],
   "source": [
    "policy_par = lambda par: (lambda x: par[0] + par[1:].dot(x))\n",
    "\n",
    "#policy_par = lambda par: (lambda x: np.exp(par[0] - par[1:].dot(x)) - 1.5)\n",
    "\n",
    "policy = tools.Policy(policy_par,(3))\n",
    "optimizer = srb.PolicyGradient(executer, lincar, estimator='forward_fd', max_it=1000, eps=0.0001,  \n",
    "                       parameter_domain=np.array([-1,1]), rate = 0.2)\n",
    "optimizer.estimator.var = 0.5"
   ]
  },
  {
   "cell_type": "code",
   "execution_count": 6,
   "metadata": {
    "collapsed": false
   },
   "outputs": [
    {
     "ename": "KeyboardInterrupt",
     "evalue": "",
     "output_type": "error",
     "traceback": [
      "\u001b[0;31m---------------------------------------------------------------------------\u001b[0m",
      "\u001b[0;31mKeyboardInterrupt\u001b[0m                         Traceback (most recent call last)",
      "\u001b[0;32m<ipython-input-6-bfa720d7696d>\u001b[0m in \u001b[0;36m<module>\u001b[0;34m()\u001b[0m\n\u001b[0;32m----> 1\u001b[0;31m \u001b[0mpar\u001b[0m\u001b[0;34m,\u001b[0m \u001b[0mconv\u001b[0m \u001b[0;34m=\u001b[0m \u001b[0moptimizer\u001b[0m\u001b[0;34m.\u001b[0m\u001b[0moptimize\u001b[0m\u001b[0;34m(\u001b[0m\u001b[0mpolicy\u001b[0m\u001b[0;34m)\u001b[0m\u001b[0;34m\u001b[0m\u001b[0m\n\u001b[0m",
      "\u001b[0;32m/Users/TheUser/Documents/University/safe_rl_benchmark/SafeRLBench/policygradient.py\u001b[0m in \u001b[0;36moptimize\u001b[0;34m(self, policy)\u001b[0m\n\u001b[1;32m     47\u001b[0m         \u001b[0mestimator\u001b[0m \u001b[0;34m=\u001b[0m \u001b[0mself\u001b[0m\u001b[0;34m.\u001b[0m\u001b[0mestimator\u001b[0m\u001b[0;34m\u001b[0m\u001b[0m\n\u001b[1;32m     48\u001b[0m \u001b[0;34m\u001b[0m\u001b[0m\n\u001b[0;32m---> 49\u001b[0;31m         \u001b[0mparameter\u001b[0m \u001b[0;34m=\u001b[0m \u001b[0mself\u001b[0m\u001b[0;34m.\u001b[0m\u001b[0m_initialize_parameters\u001b[0m\u001b[0;34m(\u001b[0m\u001b[0mpolicy\u001b[0m\u001b[0;34m)\u001b[0m\u001b[0;34m\u001b[0m\u001b[0m\n\u001b[0m\u001b[1;32m     50\u001b[0m \u001b[0;34m\u001b[0m\u001b[0m\n\u001b[1;32m     51\u001b[0m         \u001b[0mconverged\u001b[0m \u001b[0;34m=\u001b[0m \u001b[0;32mFalse\u001b[0m\u001b[0;34m\u001b[0m\u001b[0m\n",
      "\u001b[0;32m/Users/TheUser/Documents/University/safe_rl_benchmark/SafeRLBench/policygradient.py\u001b[0m in \u001b[0;36m_initialize_parameters\u001b[0;34m(self, policy)\u001b[0m\n\u001b[1;32m    103\u001b[0m             \u001b[0mparameter\u001b[0m \u001b[0;34m=\u001b[0m \u001b[0mrand\u001b[0m\u001b[0;34m(\u001b[0m\u001b[0mself\u001b[0m\u001b[0;34m.\u001b[0m\u001b[0mpar_dim\u001b[0m\u001b[0;34m)\u001b[0m \u001b[0;34m*\u001b[0m \u001b[0;34m(\u001b[0m\u001b[0mpard\u001b[0m\u001b[0;34m[\u001b[0m\u001b[0;36m1\u001b[0m\u001b[0;34m]\u001b[0m \u001b[0;34m-\u001b[0m \u001b[0mpard\u001b[0m\u001b[0;34m[\u001b[0m\u001b[0;36m0\u001b[0m\u001b[0;34m]\u001b[0m\u001b[0;34m)\u001b[0m \u001b[0;34m+\u001b[0m \u001b[0mpard\u001b[0m\u001b[0;34m[\u001b[0m\u001b[0;36m0\u001b[0m\u001b[0;34m]\u001b[0m\u001b[0;34m\u001b[0m\u001b[0m\n\u001b[1;32m    104\u001b[0m \u001b[0;34m\u001b[0m\u001b[0m\n\u001b[0;32m--> 105\u001b[0;31m             \u001b[0mgrad\u001b[0m\u001b[0;34m,\u001b[0m \u001b[0m_\u001b[0m\u001b[0;34m,\u001b[0m \u001b[0m_\u001b[0m \u001b[0;34m=\u001b[0m \u001b[0mself\u001b[0m\u001b[0;34m.\u001b[0m\u001b[0mestimator\u001b[0m\u001b[0;34m(\u001b[0m\u001b[0mpolicy\u001b[0m\u001b[0;34m,\u001b[0m \u001b[0mparameter\u001b[0m\u001b[0;34m)\u001b[0m\u001b[0;34m\u001b[0m\u001b[0m\n\u001b[0m\u001b[1;32m    106\u001b[0m \u001b[0;34m\u001b[0m\u001b[0m\n\u001b[1;32m    107\u001b[0m             \u001b[0;32mif\u001b[0m \u001b[0;34m(\u001b[0m\u001b[0mnorm\u001b[0m\u001b[0;34m(\u001b[0m\u001b[0mgrad\u001b[0m\u001b[0;34m)\u001b[0m \u001b[0;34m>=\u001b[0m \u001b[0mself\u001b[0m\u001b[0;34m.\u001b[0m\u001b[0meps\u001b[0m\u001b[0;34m)\u001b[0m\u001b[0;34m:\u001b[0m\u001b[0;34m\u001b[0m\u001b[0m\n",
      "\u001b[0;32m/Users/TheUser/Documents/University/safe_rl_benchmark/SafeRLBench/policygradient.py\u001b[0m in \u001b[0;36m__call__\u001b[0;34m(self, policy, parameter)\u001b[0m\n\u001b[1;32m    123\u001b[0m \u001b[0;34m\u001b[0m\u001b[0m\n\u001b[1;32m    124\u001b[0m     \u001b[0;32mdef\u001b[0m \u001b[0m__call__\u001b[0m\u001b[0;34m(\u001b[0m\u001b[0mself\u001b[0m\u001b[0;34m,\u001b[0m \u001b[0mpolicy\u001b[0m\u001b[0;34m,\u001b[0m \u001b[0mparameter\u001b[0m\u001b[0;34m)\u001b[0m\u001b[0;34m:\u001b[0m\u001b[0;34m\u001b[0m\u001b[0m\n\u001b[0;32m--> 125\u001b[0;31m         \u001b[0;32mreturn\u001b[0m \u001b[0mself\u001b[0m\u001b[0;34m.\u001b[0m\u001b[0m_estimate_gradient\u001b[0m\u001b[0;34m(\u001b[0m\u001b[0mpolicy\u001b[0m\u001b[0;34m,\u001b[0m \u001b[0mparameter\u001b[0m\u001b[0;34m)\u001b[0m\u001b[0;34m\u001b[0m\u001b[0m\n\u001b[0m\u001b[1;32m    126\u001b[0m \u001b[0;34m\u001b[0m\u001b[0m\n\u001b[1;32m    127\u001b[0m \u001b[0;34m\u001b[0m\u001b[0m\n",
      "\u001b[0;32m/Users/TheUser/Documents/University/safe_rl_benchmark/SafeRLBench/policygradient.py\u001b[0m in \u001b[0;36m_estimate_gradient\u001b[0;34m(self, policy, parameter)\u001b[0m\n\u001b[1;32m    150\u001b[0m \u001b[0;34m\u001b[0m\u001b[0m\n\u001b[1;32m    151\u001b[0m             \u001b[0mpolicy\u001b[0m\u001b[0;34m.\u001b[0m\u001b[0msetParameter\u001b[0m\u001b[0;34m(\u001b[0m\u001b[0mparameter\u001b[0m \u001b[0;34m+\u001b[0m \u001b[0mvariation\u001b[0m\u001b[0;34m)\u001b[0m\u001b[0;34m\u001b[0m\u001b[0m\n\u001b[0;32m--> 152\u001b[0;31m             \u001b[0mtrace_n\u001b[0m\u001b[0;34m,\u001b[0m \u001b[0mi_n\u001b[0m\u001b[0;34m,\u001b[0m \u001b[0machieved\u001b[0m \u001b[0;34m=\u001b[0m \u001b[0mexecuter\u001b[0m\u001b[0;34m.\u001b[0m\u001b[0mrollout\u001b[0m\u001b[0;34m(\u001b[0m\u001b[0mpolicy\u001b[0m\u001b[0;34m)\u001b[0m\u001b[0;34m\u001b[0m\u001b[0m\n\u001b[0m\u001b[1;32m    153\u001b[0m \u001b[0;34m\u001b[0m\u001b[0m\n\u001b[1;32m    154\u001b[0m             \u001b[0mJn\u001b[0m \u001b[0;34m=\u001b[0m \u001b[0msum\u001b[0m\u001b[0;34m(\u001b[0m\u001b[0;34m[\u001b[0m\u001b[0mx\u001b[0m\u001b[0;34m[\u001b[0m\u001b[0;36m2\u001b[0m\u001b[0;34m]\u001b[0m \u001b[0;32mfor\u001b[0m \u001b[0mx\u001b[0m \u001b[0;32min\u001b[0m \u001b[0mtrace\u001b[0m\u001b[0;34m]\u001b[0m\u001b[0;34m)\u001b[0m\u001b[0;34m/\u001b[0m\u001b[0mi_n\u001b[0m\u001b[0;34m\u001b[0m\u001b[0m\n",
      "\u001b[0;32m/Users/TheUser/Documents/University/safe_rl_benchmark/SafeRLBench/tools/rollout.py\u001b[0m in \u001b[0;36mrollout\u001b[0;34m(self, policy)\u001b[0m\n\u001b[1;32m     25\u001b[0m         \u001b[0;32mfor\u001b[0m \u001b[0mi\u001b[0m \u001b[0;32min\u001b[0m \u001b[0mrange\u001b[0m\u001b[0;34m(\u001b[0m\u001b[0mself\u001b[0m\u001b[0;34m.\u001b[0m\u001b[0mmax_it\u001b[0m\u001b[0;34m)\u001b[0m\u001b[0;34m:\u001b[0m\u001b[0;34m\u001b[0m\u001b[0m\n\u001b[1;32m     26\u001b[0m             \u001b[0maction\u001b[0m \u001b[0;34m=\u001b[0m \u001b[0mpolicy\u001b[0m\u001b[0;34m(\u001b[0m\u001b[0mstate\u001b[0m\u001b[0;34m)\u001b[0m\u001b[0;34m\u001b[0m\u001b[0m\n\u001b[0;32m---> 27\u001b[0;31m             \u001b[0maction\u001b[0m\u001b[0;34m,\u001b[0m \u001b[0mstate\u001b[0m\u001b[0;34m,\u001b[0m \u001b[0mreward\u001b[0m\u001b[0;34m,\u001b[0m \u001b[0machieved\u001b[0m \u001b[0;34m=\u001b[0m \u001b[0menvironment\u001b[0m\u001b[0;34m.\u001b[0m\u001b[0mupdate\u001b[0m\u001b[0;34m(\u001b[0m\u001b[0maction\u001b[0m\u001b[0;34m)\u001b[0m\u001b[0;34m\u001b[0m\u001b[0m\n\u001b[0m\u001b[1;32m     28\u001b[0m             \u001b[0mtrace\u001b[0m\u001b[0;34m.\u001b[0m\u001b[0mappend\u001b[0m\u001b[0;34m(\u001b[0m\u001b[0;34m(\u001b[0m\u001b[0maction\u001b[0m\u001b[0;34m,\u001b[0m \u001b[0mnp\u001b[0m\u001b[0;34m.\u001b[0m\u001b[0mcopy\u001b[0m\u001b[0;34m(\u001b[0m\u001b[0mstate\u001b[0m\u001b[0;34m)\u001b[0m\u001b[0;34m,\u001b[0m \u001b[0mreward\u001b[0m\u001b[0;34m)\u001b[0m\u001b[0;34m)\u001b[0m\u001b[0;34m\u001b[0m\u001b[0m\n\u001b[1;32m     29\u001b[0m             \u001b[0;32mif\u001b[0m \u001b[0mself\u001b[0m\u001b[0;34m.\u001b[0m\u001b[0mabort\u001b[0m \u001b[0;32mand\u001b[0m \u001b[0machieved\u001b[0m\u001b[0;34m:\u001b[0m\u001b[0;34m\u001b[0m\u001b[0m\n",
      "\u001b[0;32m/Users/TheUser/Documents/University/safe_rl_benchmark/SafeRLBench/envs/linear_car.py\u001b[0m in \u001b[0;36mupdate\u001b[0;34m(self, action)\u001b[0m\n\u001b[1;32m     22\u001b[0m         \u001b[0mself\u001b[0m\u001b[0;34m.\u001b[0m\u001b[0mstate\u001b[0m\u001b[0;34m[\u001b[0m\u001b[0;36m0\u001b[0m\u001b[0;34m]\u001b[0m \u001b[0;34m+=\u001b[0m \u001b[0mself\u001b[0m\u001b[0;34m.\u001b[0m\u001b[0mstate\u001b[0m\u001b[0;34m[\u001b[0m\u001b[0;36m1\u001b[0m\u001b[0;34m]\u001b[0m\u001b[0;34m\u001b[0m\u001b[0m\n\u001b[1;32m     23\u001b[0m \u001b[0;34m\u001b[0m\u001b[0m\n\u001b[0;32m---> 24\u001b[0;31m         \u001b[0;32mreturn\u001b[0m\u001b[0;34m(\u001b[0m\u001b[0maction\u001b[0m\u001b[0;34m,\u001b[0m \u001b[0mself\u001b[0m\u001b[0;34m.\u001b[0m\u001b[0mstate\u001b[0m\u001b[0;34m,\u001b[0m \u001b[0mself\u001b[0m\u001b[0;34m.\u001b[0m\u001b[0m_reward\u001b[0m\u001b[0;34m(\u001b[0m\u001b[0;34m)\u001b[0m\u001b[0;34m,\u001b[0m \u001b[0mself\u001b[0m\u001b[0;34m.\u001b[0m\u001b[0m_achieved\u001b[0m\u001b[0;34m(\u001b[0m\u001b[0;34m)\u001b[0m\u001b[0;34m)\u001b[0m\u001b[0;34m\u001b[0m\u001b[0m\n\u001b[0m\u001b[1;32m     25\u001b[0m \u001b[0;34m\u001b[0m\u001b[0m\n\u001b[1;32m     26\u001b[0m     \u001b[0;32mdef\u001b[0m \u001b[0mreset\u001b[0m\u001b[0;34m(\u001b[0m\u001b[0mself\u001b[0m\u001b[0;34m)\u001b[0m\u001b[0;34m:\u001b[0m\u001b[0;34m\u001b[0m\u001b[0m\n",
      "\u001b[0;32m/Users/TheUser/Documents/University/safe_rl_benchmark/SafeRLBench/envs/linear_car.py\u001b[0m in \u001b[0;36m_achieved\u001b[0;34m(self)\u001b[0m\n\u001b[1;32m     31\u001b[0m \u001b[0;34m\u001b[0m\u001b[0m\n\u001b[1;32m     32\u001b[0m     \u001b[0;32mdef\u001b[0m \u001b[0m_achieved\u001b[0m\u001b[0;34m(\u001b[0m\u001b[0mself\u001b[0m\u001b[0;34m)\u001b[0m\u001b[0;34m:\u001b[0m\u001b[0;34m\u001b[0m\u001b[0m\n\u001b[0;32m---> 33\u001b[0;31m         \u001b[0;32mreturn\u001b[0m \u001b[0;34m(\u001b[0m\u001b[0;34m-\u001b[0m\u001b[0mself\u001b[0m\u001b[0;34m.\u001b[0m\u001b[0m_reward\u001b[0m\u001b[0;34m(\u001b[0m\u001b[0;34m)\u001b[0m \u001b[0;34m<\u001b[0m \u001b[0mself\u001b[0m\u001b[0;34m.\u001b[0m\u001b[0meps\u001b[0m\u001b[0;34m)\u001b[0m\u001b[0;34m\u001b[0m\u001b[0m\n\u001b[0m",
      "\u001b[0;32m/Users/TheUser/Documents/University/safe_rl_benchmark/SafeRLBench/envs/linear_car.py\u001b[0m in \u001b[0;36m_reward\u001b[0;34m(self)\u001b[0m\n\u001b[1;32m     28\u001b[0m \u001b[0;34m\u001b[0m\u001b[0m\n\u001b[1;32m     29\u001b[0m     \u001b[0;32mdef\u001b[0m \u001b[0m_reward\u001b[0m\u001b[0;34m(\u001b[0m\u001b[0mself\u001b[0m\u001b[0;34m)\u001b[0m\u001b[0;34m:\u001b[0m\u001b[0;34m\u001b[0m\u001b[0m\n\u001b[0;32m---> 30\u001b[0;31m         \u001b[0;32mreturn\u001b[0m \u001b[0;34m-\u001b[0m\u001b[0mnorm\u001b[0m\u001b[0;34m(\u001b[0m\u001b[0mself\u001b[0m\u001b[0;34m.\u001b[0m\u001b[0mstate\u001b[0m\u001b[0;34m[\u001b[0m\u001b[0;36m0\u001b[0m\u001b[0;34m]\u001b[0m \u001b[0;34m-\u001b[0m \u001b[0mself\u001b[0m\u001b[0;34m.\u001b[0m\u001b[0mgoal_position\u001b[0m\u001b[0;34m)\u001b[0m\u001b[0;34m-\u001b[0m\u001b[0mnorm\u001b[0m\u001b[0;34m(\u001b[0m\u001b[0mself\u001b[0m\u001b[0;34m.\u001b[0m\u001b[0mstate\u001b[0m\u001b[0;34m[\u001b[0m\u001b[0;36m1\u001b[0m\u001b[0;34m]\u001b[0m\u001b[0;34m)\u001b[0m\u001b[0;34m\u001b[0m\u001b[0m\n\u001b[0m\u001b[1;32m     31\u001b[0m \u001b[0;34m\u001b[0m\u001b[0m\n\u001b[1;32m     32\u001b[0m     \u001b[0;32mdef\u001b[0m \u001b[0m_achieved\u001b[0m\u001b[0;34m(\u001b[0m\u001b[0mself\u001b[0m\u001b[0;34m)\u001b[0m\u001b[0;34m:\u001b[0m\u001b[0;34m\u001b[0m\u001b[0m\n",
      "\u001b[0;31mKeyboardInterrupt\u001b[0m: "
     ]
    }
   ],
   "source": [
    "par, conv = optimizer.optimize(policy)"
   ]
  },
  {
   "cell_type": "code",
   "execution_count": null,
   "metadata": {
    "collapsed": true
   },
   "outputs": [],
   "source": [
    "rewards = optimizer.rewards\n",
    "plt.plot(np.arange(0,len(rewards)),rewards)\n",
    "plt.show()"
   ]
  },
  {
   "cell_type": "code",
   "execution_count": 8,
   "metadata": {
    "collapsed": false
   },
   "outputs": [
    {
     "name": "stdout",
     "output_type": "stream",
     "text": [
      "Best Parameter: [  5.54976  -6.31094 -10.8346 ]\n",
      "Best Reward: -27.5753021636\n"
     ]
    },
    {
     "data": {
      "image/png": "[encoded data removed]",
      "text/plain": [
       "<matplotlib.figure.Figure at 0x10d39bd30>"
      ]
     },
     "metadata": {},
     "output_type": "display_data"
    }
   ],
   "source": [
    "print(\"Best Parameter: \"+str(optimizer.best_parameter))\n",
    "print(\"Best Reward: \"+str(optimizer.best_reward))\n",
    "\n",
    "policy.setParameter(optimizer.best_parameter)\n",
    "trace, i, achieved = executer.rollout(policy)\n",
    "\n",
    "y = np.array([t[0] for t in [s[1] for s in trace]])\n",
    "x = np.arange(0,i+1)\n",
    "\n",
    "plt.plot(x,y)\n",
    "plt.show()"
   ]
  },
  {
   "cell_type": "code",
   "execution_count": null,
   "metadata": {
    "collapsed": true
   },
   "outputs": [],
   "source": []
  },
  {
   "cell_type": "code",
   "execution_count": null,
   "metadata": {
    "collapsed": true
   },
   "outputs": [],
   "source": []
  }
 ],
 "metadata": {
  "kernelspec": {
   "display_name": "Python 3",
   "language": "python",
   "name": "python3"
  },
  "language_info": {
   "codemirror_mode": {
    "name": "ipython",
    "version": 3
   },
   "file_extension": ".py",
   "mimetype": "text/x-python",
   "name": "python",
   "nbconvert_exporter": "python",
   "pygments_lexer": "ipython3",
   "version": "3.5.2"
  }
 },
 "nbformat": 4,
 "nbformat_minor": 1
}
