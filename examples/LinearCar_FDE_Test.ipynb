{
 "cells": [
  {
   "cell_type": "code",
   "execution_count": 1,
   "metadata": {
    "collapsed": true
   },
   "outputs": [],
   "source": [
    "import matplotlib.pyplot as plt\n",
    "import numpy as np\n",
    "\n",
    "try:\n",
    "    import SafeRLBench as srb\n",
    "    import SafeRLBench.envs as envs\n",
    "    import SafeRLBench.tools as tools\n",
    "except ImportError:\n",
    "    import sys\n",
    "    import os\n",
    "    module_path = os.path.abspath('..')\n",
    "    sys.path.append(module_path)\n",
    "    import SafeRLBench as srb\n",
    "    import SafeRLBench.envs as envs\n",
    "    import SafeRLBench.tools as tools\n",
    "    \n",
    "np.set_printoptions(precision=5)"
   ]
  },
  {
   "cell_type": "code",
   "execution_count": 2,
   "metadata": {
    "collapsed": false
   },
   "outputs": [],
   "source": [
    "lincar = envs.LinearCar()\n",
    "executer = tools.Rollout(lincar, max_it=100, abort=False)\n",
    "\n",
    "policy_par = lambda par: (lambda x: par[0] + par[1:].dot(x))\n",
    "\n",
    "#policy_par = lambda par: (lambda x: np.exp(par[0] - par[1:].dot(x)) - 1.5)\n",
    "\n",
    "policy = tools.Policy(policy_par,(3))\n",
    "optimizer = srb.PolicyGradient(executer, lincar, estimator='central_fd', max_it=1000, eps=0.0001,  \n",
    "                       parameter_domain=np.array([-1,1]), rate = 0.2)\n",
    "optimizer.estimator.var = 0.5"
   ]
  },
  {
   "cell_type": "code",
   "execution_count": 22,
   "metadata": {
    "collapsed": false
   },
   "outputs": [
    {
     "name": "stdout",
     "output_type": "stream",
     "text": [
      "Start Central Finite Differences optimization:\n",
      "Initial Parameters: [ 0.5447   0.54725  0.33186]\n",
      "Run: 0  \tParameter: \t[ 0.5447   0.54725  0.33186]\tReward: -1466.30352663\n",
      "\t\tGradient: \t[-18.24423  -3.76076  -0.65937]\n",
      "Run: 10  \tParameter: \t[-1.95235 -7.53203 -0.14394]\tReward: -129.642688591\n",
      "\t\tGradient: \t[ 0.2031  -0.04628  0.03078]\n",
      "\t\tAverage Time: \t0.13s/step\n",
      "Run: 20  \tParameter: \t[-1.40492 -7.65212 -0.15653]\tReward: -121.071762824\n",
      "\t\tGradient: \t[ 0.34093 -0.07245 -0.03614]\n",
      "\t\tAverage Time: \t0.15s/step\n",
      "Run: 30  \tParameter: \t[-0.80711 -7.7221  -0.17172]\tReward: -112.326145576\n",
      "\t\tGradient: \t[ 0.30685 -0.01865 -0.00876]\n",
      "\t\tAverage Time: \t0.13s/step\n",
      "Run: 40  \tParameter: \t[-0.19117 -7.7466  -0.18328]\tReward: -102.912935545\n",
      "\t\tGradient: \t[ 0.29723 -0.00442 -0.00209]\n",
      "\t\tAverage Time: \t0.13s/step\n",
      "Run: 50  \tParameter: \t[ 0.31636 -7.74586 -0.18632]\tReward: -96.5900183715\n",
      "\t\tGradient: \t[ 0.21775  0.00451 -0.00361]\n",
      "\t\tAverage Time: \t0.13s/step\n",
      "Run: 60  \tParameter: \t[ 0.75213 -7.73117 -0.19809]\tReward: -91.8806708444\n",
      "\t\tGradient: \t[ 0.21807  0.01087 -0.0087 ]\n",
      "\t\tAverage Time: \t0.13s/step\n",
      "Run: 70  \tParameter: \t[ 1.17447 -7.70271 -0.22488]\tReward: -87.4880547927\n",
      "\t\tGradient: \t[ 0.22056  0.02401 -0.02414]\n",
      "\t\tAverage Time: \t0.13s/step\n",
      "Run: 80  \tParameter: \t[ 1.7077  -7.59846 -0.21925]\tReward: -79.6586461312\n",
      "\t\tGradient: \t[ 0.26124  0.0637   0.01155]\n",
      "\t\tAverage Time: \t0.13s/step\n",
      "Run: 90  \tParameter: \t[ 2.09234 -7.51917 -0.28788]\tReward: -76.0274419848\n",
      "\t\tGradient: \t[ 0.16145  0.03462 -0.05961]\n",
      "\t\tAverage Time: \t0.13s/step\n",
      "Run: 100  \tParameter: \t[ 2.52967 -7.38884 -0.34467]\tReward: -70.2905804734\n",
      "\t\tGradient: \t[ 0.31633  0.11892  0.02259]\n",
      "\t\tAverage Time: \t0.13s/step\n",
      "Run: 110  \tParameter: \t[ 3.20822 -7.11492 -0.27614]\tReward: -56.7423255932\n",
      "\t\tGradient: \t[ 0.25395  0.11349  0.00228]\n",
      "\t\tAverage Time: \t0.13s/step\n",
      "Run: 120  \tParameter: \t[ 3.54773 -6.94972 -0.35374]\tReward: -52.9887084603\n",
      "\t\tGradient: \t[ 0.08899  0.04336 -0.0579 ]\n",
      "\t\tAverage Time: \t0.13s/step\n",
      "Run: 130  \tParameter: \t[ 3.66335 -6.89936 -0.50518]\tReward: -51.4594999381\n",
      "\t\tGradient: \t[ 0.03556  0.01384 -0.08229]\n",
      "\t\tAverage Time: \t0.13s/step\n",
      "Run: 140  \tParameter: \t[ 3.721   -6.88242 -0.67717]\tReward: -50.6492973721\n",
      "\t\tGradient: \t[ 0.02343  0.00746 -0.09168]\n",
      "\t\tAverage Time: \t0.13s/step\n",
      "Run: 150  \tParameter: \t[ 3.76808 -6.86308 -0.86013]\tReward: -50.1985643424\n",
      "\t\tGradient: \t[ 0.02324  0.01172 -0.09221]\n",
      "\t\tAverage Time: \t0.13s/step\n",
      "Run: 160  \tParameter: \t[ 3.81536 -6.83781 -1.03968]\tReward: -49.5246780524\n",
      "\t\tGradient: \t[ 0.02117  0.01324 -0.08099]\n",
      "\t\tAverage Time: \t0.13s/step\n",
      "Run: 170  \tParameter: \t[ 3.85048 -6.8099  -1.18283]\tReward: -48.84974808\n",
      "\t\tGradient: \t[ 0.0144   0.01529 -0.06265]\n",
      "\t\tAverage Time: \t0.13s/step\n",
      "Run: 180  \tParameter: \t[ 3.87591 -6.77554 -1.30568]\tReward: -48.2776330834\n",
      "\t\tGradient: \t[ 0.01105  0.01671 -0.0606 ]\n",
      "\t\tAverage Time: \t0.13s/step\n",
      "Run: 190  \tParameter: \t[ 3.8972  -6.74307 -1.42709]\tReward: -47.6728336632\n",
      "\t\tGradient: \t[ 0.00998  0.01622 -0.06117]\n",
      "\t\tAverage Time: \t0.12s/step\n",
      "Run: 200  \tParameter: \t[ 3.91829 -6.70907 -1.54974]\tReward: -47.1090053215\n",
      "\t\tGradient: \t[ 0.01235  0.018   -0.06056]\n",
      "\t\tAverage Time: \t0.13s/step\n",
      "Run: 210  \tParameter: \t[ 3.94861 -6.67408 -1.67078]\tReward: -46.5340957974\n",
      "\t\tGradient: \t[ 0.01897  0.01863 -0.06167]\n",
      "\t\tAverage Time: \t0.13s/step\n",
      "Run: 220  \tParameter: \t[ 3.98047 -6.62929 -1.79839]\tReward: -45.926544554\n",
      "\t\tGradient: \t[ 0.01389  0.02354 -0.07022]\n",
      "\t\tAverage Time: \t0.13s/step\n",
      "Run: 230  \tParameter: \t[ 4.01202 -6.58513 -1.94948]\tReward: -45.423275391\n",
      "\t\tGradient: \t[ 0.01916  0.02059 -0.08103]\n",
      "\t\tAverage Time: \t0.13s/step\n",
      "Run: 240  \tParameter: \t[ 4.04817 -6.54389 -2.11066]\tReward: -45.1289449666\n",
      "\t\tGradient: \t[ 0.01391  0.02269 -0.07677]\n",
      "\t\tAverage Time: \t0.13s/step\n",
      "Run: 250  \tParameter: \t[ 4.07372 -6.4938  -2.25471]\tReward: -44.7772541347\n",
      "\t\tGradient: \t[ 0.01075  0.02645 -0.06528]\n",
      "\t\tAverage Time: \t0.13s/step\n",
      "Run: 260  \tParameter: \t[ 4.09382 -6.4496  -2.37731]\tReward: -44.2317983876\n",
      "\t\tGradient: \t[ 0.01027  0.01802 -0.05897]\n",
      "\t\tAverage Time: \t0.18s/step\n",
      "Run: 270  \tParameter: \t[ 4.11565 -6.41775 -2.4877 ]\tReward: -43.7616829887\n",
      "\t\tGradient: \t[ 0.01107  0.01434 -0.05147]\n",
      "\t\tAverage Time: \t0.27s/step\n",
      "Run: 280  \tParameter: \t[ 4.13809 -6.39043 -2.58919]\tReward: -43.3570181099\n",
      "\t\tGradient: \t[ 0.01162  0.01396 -0.05027]\n",
      "\t\tAverage Time: \t0.16s/step\n",
      "Run: 290  \tParameter: \t[ 4.16047 -6.35907 -2.68964]\tReward: -42.9273339024\n",
      "\t\tGradient: \t[ 0.01016  0.01766 -0.05034]\n",
      "\t\tAverage Time: \t0.13s/step\n",
      "Run: 300  \tParameter: \t[ 4.17849 -6.31708 -2.79084]\tReward: -42.4384974995\n",
      "\t\tGradient: \t[ 0.00813  0.02469 -0.05214]\n",
      "\t\tAverage Time: \t0.13s/step\n",
      "Run: 310  \tParameter: \t[ 4.19481 -6.26122 -2.90329]\tReward: -42.0072754577\n",
      "\t\tGradient: \t[ 0.00914  0.03087 -0.06234]\n",
      "\t\tAverage Time: \t0.13s/step\n",
      "Run: 320  \tParameter: \t[ 4.21705 -6.19494 -3.03881]\tReward: -41.6945190227\n",
      "\t\tGradient: \t[ 0.01136  0.03669 -0.06964]\n",
      "\t\tAverage Time: \t0.13s/step\n",
      "Run: 330  \tParameter: \t[ 4.22696 -6.11632 -3.16894]\tReward: -41.37160433\n",
      "\t\tGradient: \t[-0.00204  0.04004 -0.05834]\n",
      "\t\tAverage Time: \t0.12s/step\n",
      "Run: 340  \tParameter: \t[ 4.22089 -6.03815 -3.27872]\tReward: -41.0250275945\n",
      "\t\tGradient: \t[-0.00157  0.03813 -0.05165]\n",
      "\t\tAverage Time: \t0.13s/step\n",
      "Run: 350  \tParameter: \t[ 4.22323 -5.9647  -3.37829]\tReward: -40.5842895821\n",
      "\t\tGradient: \t[ 0.00333  0.03465 -0.04709]\n",
      "\t\tAverage Time: \t0.13s/step\n",
      "Run: 360  \tParameter: \t[ 4.23031 -5.89581 -3.46643]\tReward: -40.0969227893\n",
      "\t\tGradient: \t[ 0.00273  0.03484 -0.04017]\n",
      "\t\tAverage Time: \t0.13s/step\n",
      "Run: 370  \tParameter: \t[ 4.23377 -5.82571 -3.54749]\tReward: -39.6641719864\n",
      "\t\tGradient: \t[ 0.00223  0.03525 -0.04386]\n",
      "\t\tAverage Time: \t0.20s/step\n",
      "Run: 380  \tParameter: \t[ 4.24056 -5.76013 -3.64316]\tReward: -39.31225182\n",
      "\t\tGradient: \t[ 0.00075  0.02884 -0.05225]\n",
      "\t\tAverage Time: \t0.14s/step\n",
      "Run: 390  \tParameter: \t[ 4.23607 -5.6971  -3.74889]\tReward: -38.969287167\n",
      "\t\tGradient: \t[-0.00486  0.0346  -0.05333]\n",
      "\t\tAverage Time: \t0.13s/step\n",
      "Run: 400  \tParameter: \t[ 4.22054 -5.62347 -3.85475]\tReward: -38.5814849173\n",
      "\t\tGradient: \t[-0.01057  0.03771 -0.05175]\n",
      "\t\tAverage Time: \t0.13s/step\n",
      "Run: 410  \tParameter: \t[ 4.19843 -5.54756 -3.95437]\tReward: -38.1720026528\n",
      "\t\tGradient: \t[-0.01123  0.03803 -0.04803]\n",
      "\t\tAverage Time: \t0.13s/step\n",
      "Run: 420  \tParameter: \t[ 4.17624 -5.47278 -4.0492 ]\tReward: -37.7835485155\n",
      "\t\tGradient: \t[-0.01107  0.03724 -0.04694]\n",
      "\t\tAverage Time: \t0.12s/step\n",
      "Run: 430  \tParameter: \t[ 4.15375 -5.39707 -4.14531]\tReward: -37.4214200418\n",
      "\t\tGradient: \t[-0.01205  0.03851 -0.05007]\n",
      "\t\tAverage Time: \t0.12s/step\n",
      "Run: 440  \tParameter: \t[ 4.12894 -5.31932 -4.24821]\tReward: -37.0382539112\n",
      "\t\tGradient: \t[-0.0118  0.0397 -0.0521]\n",
      "\t\tAverage Time: \t0.13s/step\n",
      "Run: 450  \tParameter: \t[ 4.1071  -5.24025 -4.35316]\tReward: -36.5891036595\n",
      "\t\tGradient: \t[-0.01012  0.03879 -0.05313]\n",
      "\t\tAverage Time: \t0.12s/step\n",
      "Run: 460  \tParameter: \t[ 4.08632 -5.16307 -4.45974]\tReward: -36.1643774765\n",
      "\t\tGradient: \t[-0.01054  0.03852 -0.05301]\n",
      "\t\tAverage Time: \t0.12s/step\n",
      "Run: 470  \tParameter: \t[ 4.06505 -5.08721 -4.56595]\tReward: -35.7254248417\n",
      "\t\tGradient: \t[-0.01019  0.0379  -0.05436]\n",
      "\t\tAverage Time: \t0.12s/step\n",
      "Run: 480  \tParameter: \t[ 4.04485 -5.01048 -4.67745]\tReward: -35.2339800942\n",
      "\t\tGradient: \t[-0.01126  0.03907 -0.05697]\n",
      "\t\tAverage Time: \t0.12s/step\n",
      "Run: 490  \tParameter: \t[ 4.02042 -4.92697 -4.79282]\tReward: -34.7797906052\n",
      "\t\tGradient: \t[-0.01303  0.04346 -0.05852]\n",
      "\t\tAverage Time: \t0.12s/step\n",
      "Run: 500  \tParameter: \t[ 3.99444 -4.84085 -4.91023]\tReward: -34.2863888417\n",
      "\t\tGradient: \t[-0.01194  0.04209 -0.05881]\n",
      "\t\tAverage Time: \t0.12s/step\n",
      "Run: 510  \tParameter: \t[ 3.97235 -4.75763 -5.02837]\tReward: -33.7916516382\n",
      "\t\tGradient: \t[-0.01043  0.04134 -0.05925]\n",
      "\t\tAverage Time: \t0.13s/step\n",
      "Run: 520  \tParameter: \t[ 3.95111 -4.67496 -5.14701]\tReward: -33.2900871291\n",
      "\t\tGradient: \t[-0.01095  0.0415  -0.05917]\n",
      "\t\tAverage Time: \t0.13s/step\n",
      "Run: 530  \tParameter: \t[ 3.92646 -4.59214 -5.26519]\tReward: -32.73561591\n",
      "\t\tGradient: \t[-0.01379  0.04039 -0.05874]\n",
      "\t\tAverage Time: \t0.12s/step\n",
      "Run: 540  \tParameter: \t[ 3.89514 -4.51298 -5.38129]\tReward: -32.1611957729\n",
      "\t\tGradient: \t[-0.01772  0.03841 -0.05685]\n",
      "\t\tAverage Time: \t0.13s/step\n",
      "Run: 550  \tParameter: \t[ 3.85808 -4.43786 -5.4924 ]\tReward: -31.6135789206\n",
      "\t\tGradient: \t[-0.01871  0.03672 -0.05401]\n",
      "\t\tAverage Time: \t0.13s/step\n",
      "Run: 560  \tParameter: \t[ 3.82122 -4.36504 -5.59851]\tReward: -31.0658637761\n",
      "\t\tGradient: \t[-0.01834  0.03604 -0.05218]\n",
      "\t\tAverage Time: \t0.12s/step\n",
      "Run: 570  \tParameter: \t[ 3.78385 -4.29333 -5.70193]\tReward: -30.5295261638\n",
      "\t\tGradient: \t[-0.01953  0.03555 -0.05131]\n",
      "\t\tAverage Time: \t0.12s/step\n",
      "Run: 580  \tParameter: \t[ 3.74337 -4.22336 -5.80488]\tReward: -30.0031473199\n",
      "\t\tGradient: \t[-0.02107  0.0341  -0.05169]\n",
      "\t\tAverage Time: \t0.12s/step\n",
      "Run: 590  \tParameter: \t[ 3.70131 -4.15399 -5.91006]\tReward: -29.4641743556\n",
      "\t\tGradient: \t[-0.02122  0.0357  -0.0545 ]\n",
      "\t\tAverage Time: \t0.12s/step\n",
      "Run: 600  \tParameter: \t[ 3.65775 -4.08124 -6.02179]\tReward: -28.9394165987\n",
      "\t\tGradient: \t[-0.02276  0.03726 -0.05685]\n",
      "\t\tAverage Time: \t0.12s/step\n",
      "Run: 610  \tParameter: \t[ 3.60974 -4.00494 -6.13644]\tReward: -28.4096438625\n",
      "\t\tGradient: \t[-0.02534  0.0392  -0.05727]\n",
      "\t\tAverage Time: \t0.13s/step\n",
      "Run: 620  \tParameter: \t[ 3.55691 -3.92645 -6.24925]\tReward: -27.8799521204\n",
      "\t\tGradient: \t[-0.02806  0.03967 -0.0551 ]\n",
      "\t\tAverage Time: \t0.13s/step\n",
      "Run: 630  \tParameter: \t[ 3.49885 -3.84562 -6.35704]\tReward: -27.3601120621\n",
      "\t\tGradient: \t[-0.02953  0.04115 -0.05282]\n",
      "\t\tAverage Time: \t0.13s/step\n",
      "Run: 640  \tParameter: \t[ 3.44105 -3.76211 -6.46238]\tReward: -26.8438396332\n",
      "\t\tGradient: \t[-0.02902  0.04259 -0.0525 ]\n",
      "\t\tAverage Time: \t0.13s/step\n",
      "Run: 650  \tParameter: \t[ 3.38321 -3.67648 -6.56699]\tReward: -26.2834625509\n",
      "\t\tGradient: \t[-0.02835  0.04226 -0.0521 ]\n",
      "\t\tAverage Time: \t0.13s/step\n",
      "Run: 660  \tParameter: \t[ 3.32737 -3.59408 -6.67053]\tReward: -25.7432176649\n",
      "\t\tGradient: \t[-0.02737  0.03928 -0.05038]\n",
      "\t\tAverage Time: \t0.12s/step\n",
      "Run: 670  \tParameter: \t[ 3.27493 -3.52113 -6.769  ]\tReward: -25.2838517209\n",
      "\t\tGradient: \t[-0.02367  0.03352 -0.04783]\n",
      "\t\tAverage Time: \t0.13s/step\n",
      "Run: 680  \tParameter: \t[ 3.23116 -3.45867 -6.86311]\tReward: -24.8751223744\n",
      "\t\tGradient: \t[-0.01989  0.02848 -0.04596]\n",
      "\t\tAverage Time: \t0.13s/step\n",
      "Run: 690  \tParameter: \t[ 3.1946  -3.40625 -6.9528 ]\tReward: -24.5269515696\n",
      "\t\tGradient: \t[-0.01641  0.0237  -0.04345]\n",
      "\t\tAverage Time: \t0.36s/step\n",
      "Run: 700  \tParameter: \t[ 3.16399 -3.36231 -7.03855]\tReward: -24.2253591891\n",
      "\t\tGradient: \t[-0.0144   0.02028 -0.04263]\n",
      "\t\tAverage Time: \t0.23s/step\n",
      "Run: 710  \tParameter: \t[ 3.13583 -3.32319 -7.12411]\tReward: -23.9513255533\n",
      "\t\tGradient: \t[-0.01377  0.0188  -0.04307]\n",
      "\t\tAverage Time: \t0.24s/step\n",
      "Run: 720  \tParameter: \t[ 3.10889 -3.2864  -7.21083]\tReward: -23.6503673823\n",
      "\t\tGradient: \t[-0.01329  0.01797 -0.04364]\n",
      "\t\tAverage Time: \t0.28s/step\n",
      "Run: 730  \tParameter: \t[ 3.08243 -3.25082 -7.29802]\tReward: -23.353569477\n",
      "\t\tGradient: \t[-0.01311  0.01761 -0.04339]\n",
      "\t\tAverage Time: \t0.16s/step\n",
      "Run: 740  \tParameter: \t[ 3.05631 -3.21574 -7.38452]\tReward: -23.0575685917\n",
      "\t\tGradient: \t[-0.013    0.01743 -0.04312]\n",
      "\t\tAverage Time: \t0.19s/step\n",
      "Run: 750  \tParameter: \t[ 3.03025 -3.1813  -7.47053]\tReward: -22.7571104\n",
      "\t\tGradient: \t[-0.01301  0.01708 -0.04287]\n",
      "\t\tAverage Time: \t0.21s/step\n",
      "Run: 760  \tParameter: \t[ 3.00433 -3.14738 -7.55601]\tReward: -22.46240572\n",
      "\t\tGradient: \t[-0.01288  0.01671 -0.04245]\n",
      "\t\tAverage Time: \t0.21s/step\n",
      "Run: 770  \tParameter: \t[ 2.97861 -3.11433 -7.64096]\tReward: -22.1954593266\n",
      "\t\tGradient: \t[-0.01287  0.01624 -0.04236]\n",
      "\t\tAverage Time: \t0.16s/step\n",
      "Run: 780  \tParameter: \t[ 2.9526  -3.08137 -7.72537]\tReward: -21.9368487459\n",
      "\t\tGradient: \t[-0.01328  0.01667 -0.04199]\n",
      "\t\tAverage Time: \t0.16s/step\n",
      "Run: 790  \tParameter: \t[ 2.92575 -3.04799 -7.8089 ]\tReward: -21.6734576251\n",
      "\t\tGradient: \t[-0.01364  0.01658 -0.04151]\n",
      "\t\tAverage Time: \t0.17s/step\n",
      "Run: 800  \tParameter: \t[ 2.89866 -3.01545 -7.89161]\tReward: -21.4139294669\n",
      "\t\tGradient: \t[-0.01321  0.01584 -0.04116]\n",
      "\t\tAverage Time: \t0.18s/step\n",
      "Run: 810  \tParameter: \t[ 2.87281 -2.98458 -7.97341]\tReward: -21.1618405915\n",
      "\t\tGradient: \t[-0.01264  0.015   -0.04058]\n",
      "\t\tAverage Time: \t0.16s/step\n",
      "Run: 820  \tParameter: \t[ 2.84778 -2.95535 -8.05412]\tReward: -20.9193550768\n",
      "\t\tGradient: \t[-0.01235  0.01415 -0.04007]\n",
      "\t\tAverage Time: \t0.17s/step\n",
      "Run: 830  \tParameter: \t[ 2.82353 -2.92756 -8.13377]\tReward: -20.6858765024\n",
      "\t\tGradient: \t[-0.01186  0.01358 -0.03954]\n",
      "\t\tAverage Time: \t0.19s/step\n",
      "Run: 840  \tParameter: \t[ 2.8002  -2.90078 -8.2124 ]\tReward: -20.4562115374\n",
      "\t\tGradient: \t[-0.01148  0.01319 -0.03906]\n",
      "\t\tAverage Time: \t0.17s/step\n",
      "Run: 850  \tParameter: \t[ 2.77784 -2.875   -8.29   ]\tReward: -20.2318019095\n",
      "\t\tGradient: \t[-0.01061  0.01224 -0.03843]\n",
      "\t\tAverage Time: \t0.17s/step\n",
      "Run: 860  \tParameter: \t[ 2.75768 -2.85169 -8.36616]\tReward: -20.0211956122\n",
      "\t\tGradient: \t[-0.00945  0.01095 -0.03767]\n",
      "\t\tAverage Time: \t0.17s/step\n",
      "Run: 870  \tParameter: \t[ 2.73976 -2.83086 -8.4409 ]\tReward: -19.8211547175\n",
      "\t\tGradient: \t[-0.00838  0.00978 -0.03703]\n",
      "\t\tAverage Time: \t0.17s/step\n",
      "Run: 880  \tParameter: \t[ 2.72385 -2.81223 -8.51441]\tReward: -19.6317591302\n",
      "\t\tGradient: \t[-0.00753  0.00881 -0.03643]\n",
      "\t\tAverage Time: \t0.18s/step\n",
      "Run: 890  \tParameter: \t[ 2.70935 -2.79521 -8.58684]\tReward: -19.4496206899\n",
      "\t\tGradient: \t[-0.00695  0.00821 -0.0361 ]\n",
      "\t\tAverage Time: \t0.22s/step\n",
      "Run: 900  \tParameter: \t[ 2.69588 -2.77932 -8.65917]\tReward: -19.2716624666\n",
      "\t\tGradient: \t[-0.00645  0.00762 -0.03621]\n",
      "\t\tAverage Time: \t0.15s/step\n",
      "Run: 910  \tParameter: \t[ 2.68347 -2.76462 -8.73155]\tReward: -19.0872101454\n",
      "\t\tGradient: \t[-0.00587  0.00696 -0.03616]\n",
      "\t\tAverage Time: \t0.19s/step\n",
      "Run: 920  \tParameter: \t[ 2.67241 -2.7514  -8.8038 ]\tReward: -18.9075662288\n",
      "\t\tGradient: \t[-0.00512  0.00616 -0.03598]\n",
      "\t\tAverage Time: \t0.16s/step\n",
      "Run: 930  \tParameter: \t[ 2.66266 -2.73971 -8.87521]\tReward: -18.7391837901\n",
      "\t\tGradient: \t[-0.00463  0.00553 -0.03537]\n",
      "\t\tAverage Time: \t0.18s/step\n",
      "Run: 940  \tParameter: \t[ 2.65382 -2.72914 -8.94507]\tReward: -18.5788445203\n",
      "\t\tGradient: \t[-0.00416  0.00496 -0.03435]\n",
      "\t\tAverage Time: \t0.22s/step\n",
      "Run: 950  \tParameter: \t[ 2.64602 -2.7198  -9.01297]\tReward: -18.4362824114\n",
      "\t\tGradient: \t[-0.00359  0.00433 -0.03346]\n",
      "\t\tAverage Time: \t0.23s/step\n",
      "Run: 960  \tParameter: \t[ 2.63938 -2.71178 -9.07923]\tReward: -18.3028681845\n",
      "\t\tGradient: \t[-0.00298  0.00363 -0.03278]\n",
      "\t\tAverage Time: \t0.17s/step\n",
      "Run: 970  \tParameter: \t[ 2.63396 -2.7051  -9.14426]\tReward: -18.1769079852\n",
      "\t\tGradient: \t[-0.00239  0.00299 -0.03219]\n",
      "\t\tAverage Time: \t0.18s/step\n",
      "Run: 980  \tParameter: \t[ 2.62968 -2.69964 -9.20814]\tReward: -18.0579285785\n",
      "\t\tGradient: \t[-0.00185  0.00241 -0.03164]\n",
      "\t\tAverage Time: \t0.19s/step\n",
      "Run: 990  \tParameter: \t[ 2.62644 -2.6953  -9.27094]\tReward: -17.9471187332\n",
      "\t\tGradient: \t[-0.00138  0.00189 -0.03113]\n",
      "\t\tAverage Time: \t0.19s/step\n",
      "Finished\n"
     ]
    }
   ],
   "source": [
    "par, conv = optimizer.optimize(policy)"
   ]
  },
  {
   "cell_type": "code",
   "execution_count": 23,
   "metadata": {
    "collapsed": false
   },
   "outputs": [
    {
     "data": {
      "image/png": "[encoded data removed]",
      "text/plain": [
       "<matplotlib.figure.Figure at 0x1156d0668>"
      ]
     },
     "metadata": {},
     "output_type": "display_data"
    }
   ],
   "source": [
    "rewards = optimizer.rewards\n",
    "plt.plot(np.arange(0,len(rewards)),rewards)\n",
    "plt.show()"
   ]
  },
  {
   "cell_type": "code",
   "execution_count": 24,
   "metadata": {
    "collapsed": false
   },
   "outputs": [
    {
     "name": "stdout",
     "output_type": "stream",
     "text": [
      "Best Parameter:\t[ 2.62423 -2.69224 -9.32663]\n",
      "Best Reward: \t-17.8517800303\n"
     ]
    },
    {
     "data": {
      "image/png": "[encoded data removed]",
      "text/plain": [
       "<matplotlib.figure.Figure at 0x1155822b0>"
      ]
     },
     "metadata": {},
     "output_type": "display_data"
    }
   ],
   "source": [
    "print(\"Best Parameter:\\t\"+str(optimizer.best_parameter))\n",
    "print(\"Best Reward: \\t\"+str(optimizer.best_reward))\n",
    "\n",
    "policy.setParameter(optimizer.best_parameter)\n",
    "trace, i, achieved = executer.rollout(policy)\n",
    "\n",
    "y = np.array([t[0] for t in [s[1] for s in trace]])\n",
    "x = np.arange(0,i+1)\n",
    "\n",
    "plt.plot(x,y)\n",
    "plt.show()"
   ]
  },
  {
   "cell_type": "code",
   "execution_count": 5,
   "metadata": {
    "collapsed": false,
    "scrolled": false
   },
   "outputs": [],
   "source": [
    "policy_par = lambda par: (lambda x: par[0] + par[1:].dot(x))\n",
    "\n",
    "#policy_par = lambda par: (lambda x: np.exp(par[0] - par[1:].dot(x)) - 1.5)\n",
    "\n",
    "policy = tools.Policy(policy_par,(3))\n",
    "optimizer = srb.PolicyGradient(executer, lincar, estimator='forward_fd', max_it=1000, eps=0.0001,  \n",
    "                       parameter_domain=np.array([-1,1]), rate = 0.2)\n",
    "optimizer.estimator.var = 0.5"
   ]
  },
  {
   "cell_type": "code",
   "execution_count": 6,
   "metadata": {
    "collapsed": false
   },
   "outputs": [
    {
     "ename": "KeyboardInterrupt",
     "evalue": "",
     "output_type": "error",
     "traceback": [
      "\u001b[0;31m---------------------------------------------------------------------------\u001b[0m",
      "\u001b[0;31mKeyboardInterrupt\u001b[0m                         Traceback (most recent call last)",
      "\u001b[0;32m<ipython-input-6-bfa720d7696d>\u001b[0m in \u001b[0;36m<module>\u001b[0;34m()\u001b[0m\n\u001b[0;32m----> 1\u001b[0;31m \u001b[0mpar\u001b[0m\u001b[0;34m,\u001b[0m \u001b[0mconv\u001b[0m \u001b[0;34m=\u001b[0m \u001b[0moptimizer\u001b[0m\u001b[0;34m.\u001b[0m\u001b[0moptimize\u001b[0m\u001b[0;34m(\u001b[0m\u001b[0mpolicy\u001b[0m\u001b[0;34m)\u001b[0m\u001b[0;34m\u001b[0m\u001b[0m\n\u001b[0m",
      "\u001b[0;32m/Users/TheUser/Documents/University/safe_rl_benchmark/SafeRLBench/policygradient.py\u001b[0m in \u001b[0;36moptimize\u001b[0;34m(self, policy)\u001b[0m\n\u001b[1;32m     47\u001b[0m         \u001b[0mestimator\u001b[0m \u001b[0;34m=\u001b[0m \u001b[0mself\u001b[0m\u001b[0;34m.\u001b[0m\u001b[0mestimator\u001b[0m\u001b[0;34m\u001b[0m\u001b[0m\n\u001b[1;32m     48\u001b[0m \u001b[0;34m\u001b[0m\u001b[0m\n\u001b[0;32m---> 49\u001b[0;31m         \u001b[0mparameter\u001b[0m \u001b[0;34m=\u001b[0m \u001b[0mself\u001b[0m\u001b[0;34m.\u001b[0m\u001b[0m_initialize_parameters\u001b[0m\u001b[0;34m(\u001b[0m\u001b[0mpolicy\u001b[0m\u001b[0;34m)\u001b[0m\u001b[0;34m\u001b[0m\u001b[0m\n\u001b[0m\u001b[1;32m     50\u001b[0m \u001b[0;34m\u001b[0m\u001b[0m\n\u001b[1;32m     51\u001b[0m         \u001b[0mconverged\u001b[0m \u001b[0;34m=\u001b[0m \u001b[0;32mFalse\u001b[0m\u001b[0;34m\u001b[0m\u001b[0m\n",
      "\u001b[0;32m/Users/TheUser/Documents/University/safe_rl_benchmark/SafeRLBench/policygradient.py\u001b[0m in \u001b[0;36m_initialize_parameters\u001b[0;34m(self, policy)\u001b[0m\n\u001b[1;32m    103\u001b[0m             \u001b[0mparameter\u001b[0m \u001b[0;34m=\u001b[0m \u001b[0mrand\u001b[0m\u001b[0;34m(\u001b[0m\u001b[0mself\u001b[0m\u001b[0;34m.\u001b[0m\u001b[0mpar_dim\u001b[0m\u001b[0;34m)\u001b[0m \u001b[0;34m*\u001b[0m \u001b[0;34m(\u001b[0m\u001b[0mpard\u001b[0m\u001b[0;34m[\u001b[0m\u001b[0;36m1\u001b[0m\u001b[0;34m]\u001b[0m \u001b[0;34m-\u001b[0m \u001b[0mpard\u001b[0m\u001b[0;34m[\u001b[0m\u001b[0;36m0\u001b[0m\u001b[0;34m]\u001b[0m\u001b[0;34m)\u001b[0m \u001b[0;34m+\u001b[0m \u001b[0mpard\u001b[0m\u001b[0;34m[\u001b[0m\u001b[0;36m0\u001b[0m\u001b[0;34m]\u001b[0m\u001b[0;34m\u001b[0m\u001b[0m\n\u001b[1;32m    104\u001b[0m \u001b[0;34m\u001b[0m\u001b[0m\n\u001b[0;32m--> 105\u001b[0;31m             \u001b[0mgrad\u001b[0m\u001b[0;34m,\u001b[0m \u001b[0m_\u001b[0m\u001b[0;34m,\u001b[0m \u001b[0m_\u001b[0m \u001b[0;34m=\u001b[0m \u001b[0mself\u001b[0m\u001b[0;34m.\u001b[0m\u001b[0mestimator\u001b[0m\u001b[0;34m(\u001b[0m\u001b[0mpolicy\u001b[0m\u001b[0;34m,\u001b[0m \u001b[0mparameter\u001b[0m\u001b[0;34m)\u001b[0m\u001b[0;34m\u001b[0m\u001b[0m\n\u001b[0m\u001b[1;32m    106\u001b[0m \u001b[0;34m\u001b[0m\u001b[0m\n\u001b[1;32m    107\u001b[0m             \u001b[0;32mif\u001b[0m \u001b[0;34m(\u001b[0m\u001b[0mnorm\u001b[0m\u001b[0;34m(\u001b[0m\u001b[0mgrad\u001b[0m\u001b[0;34m)\u001b[0m \u001b[0;34m>=\u001b[0m \u001b[0mself\u001b[0m\u001b[0;34m.\u001b[0m\u001b[0meps\u001b[0m\u001b[0;34m)\u001b[0m\u001b[0;34m:\u001b[0m\u001b[0;34m\u001b[0m\u001b[0m\n",
      "\u001b[0;32m/Users/TheUser/Documents/University/safe_rl_benchmark/SafeRLBench/policygradient.py\u001b[0m in \u001b[0;36m__call__\u001b[0;34m(self, policy, parameter)\u001b[0m\n\u001b[1;32m    123\u001b[0m \u001b[0;34m\u001b[0m\u001b[0m\n\u001b[1;32m    124\u001b[0m     \u001b[0;32mdef\u001b[0m \u001b[0m__call__\u001b[0m\u001b[0;34m(\u001b[0m\u001b[0mself\u001b[0m\u001b[0;34m,\u001b[0m \u001b[0mpolicy\u001b[0m\u001b[0;34m,\u001b[0m \u001b[0mparameter\u001b[0m\u001b[0;34m)\u001b[0m\u001b[0;34m:\u001b[0m\u001b[0;34m\u001b[0m\u001b[0m\n\u001b[0;32m--> 125\u001b[0;31m         \u001b[0;32mreturn\u001b[0m \u001b[0mself\u001b[0m\u001b[0;34m.\u001b[0m\u001b[0m_estimate_gradient\u001b[0m\u001b[0;34m(\u001b[0m\u001b[0mpolicy\u001b[0m\u001b[0;34m,\u001b[0m \u001b[0mparameter\u001b[0m\u001b[0;34m)\u001b[0m\u001b[0;34m\u001b[0m\u001b[0m\n\u001b[0m\u001b[1;32m    126\u001b[0m \u001b[0;34m\u001b[0m\u001b[0m\n\u001b[1;32m    127\u001b[0m \u001b[0;34m\u001b[0m\u001b[0m\n",
      "\u001b[0;32m/Users/TheUser/Documents/University/safe_rl_benchmark/SafeRLBench/policygradient.py\u001b[0m in \u001b[0;36m_estimate_gradient\u001b[0;34m(self, policy, parameter)\u001b[0m\n\u001b[1;32m    150\u001b[0m \u001b[0;34m\u001b[0m\u001b[0m\n\u001b[1;32m    151\u001b[0m             \u001b[0mpolicy\u001b[0m\u001b[0;34m.\u001b[0m\u001b[0msetParameter\u001b[0m\u001b[0;34m(\u001b[0m\u001b[0mparameter\u001b[0m \u001b[0;34m+\u001b[0m \u001b[0mvariation\u001b[0m\u001b[0;34m)\u001b[0m\u001b[0;34m\u001b[0m\u001b[0m\n\u001b[0;32m--> 152\u001b[0;31m             \u001b[0mtrace_n\u001b[0m\u001b[0;34m,\u001b[0m \u001b[0mi_n\u001b[0m\u001b[0;34m,\u001b[0m \u001b[0machieved\u001b[0m \u001b[0;34m=\u001b[0m \u001b[0mexecuter\u001b[0m\u001b[0;34m.\u001b[0m\u001b[0mrollout\u001b[0m\u001b[0;34m(\u001b[0m\u001b[0mpolicy\u001b[0m\u001b[0;34m)\u001b[0m\u001b[0;34m\u001b[0m\u001b[0m\n\u001b[0m\u001b[1;32m    153\u001b[0m \u001b[0;34m\u001b[0m\u001b[0m\n\u001b[1;32m    154\u001b[0m             \u001b[0mJn\u001b[0m \u001b[0;34m=\u001b[0m \u001b[0msum\u001b[0m\u001b[0;34m(\u001b[0m\u001b[0;34m[\u001b[0m\u001b[0mx\u001b[0m\u001b[0;34m[\u001b[0m\u001b[0;36m2\u001b[0m\u001b[0;34m]\u001b[0m \u001b[0;32mfor\u001b[0m \u001b[0mx\u001b[0m \u001b[0;32min\u001b[0m \u001b[0mtrace\u001b[0m\u001b[0;34m]\u001b[0m\u001b[0;34m)\u001b[0m\u001b[0;34m/\u001b[0m\u001b[0mi_n\u001b[0m\u001b[0;34m\u001b[0m\u001b[0m\n",
      "\u001b[0;32m/Users/TheUser/Documents/University/safe_rl_benchmark/SafeRLBench/tools/rollout.py\u001b[0m in \u001b[0;36mrollout\u001b[0;34m(self, policy)\u001b[0m\n\u001b[1;32m     25\u001b[0m         \u001b[0;32mfor\u001b[0m \u001b[0mi\u001b[0m \u001b[0;32min\u001b[0m \u001b[0mrange\u001b[0m\u001b[0;34m(\u001b[0m\u001b[0mself\u001b[0m\u001b[0;34m.\u001b[0m\u001b[0mmax_it\u001b[0m\u001b[0;34m)\u001b[0m\u001b[0;34m:\u001b[0m\u001b[0;34m\u001b[0m\u001b[0m\n\u001b[1;32m     26\u001b[0m             \u001b[0maction\u001b[0m \u001b[0;34m=\u001b[0m \u001b[0mpolicy\u001b[0m\u001b[0;34m(\u001b[0m\u001b[0mstate\u001b[0m\u001b[0;34m)\u001b[0m\u001b[0;34m\u001b[0m\u001b[0m\n\u001b[0;32m---> 27\u001b[0;31m             \u001b[0maction\u001b[0m\u001b[0;34m,\u001b[0m \u001b[0mstate\u001b[0m\u001b[0;34m,\u001b[0m \u001b[0mreward\u001b[0m\u001b[0;34m,\u001b[0m \u001b[0machieved\u001b[0m \u001b[0;34m=\u001b[0m \u001b[0menvironment\u001b[0m\u001b[0;34m.\u001b[0m\u001b[0mupdate\u001b[0m\u001b[0;34m(\u001b[0m\u001b[0maction\u001b[0m\u001b[0;34m)\u001b[0m\u001b[0;34m\u001b[0m\u001b[0m\n\u001b[0m\u001b[1;32m     28\u001b[0m             \u001b[0mtrace\u001b[0m\u001b[0;34m.\u001b[0m\u001b[0mappend\u001b[0m\u001b[0;34m(\u001b[0m\u001b[0;34m(\u001b[0m\u001b[0maction\u001b[0m\u001b[0;34m,\u001b[0m \u001b[0mnp\u001b[0m\u001b[0;34m.\u001b[0m\u001b[0mcopy\u001b[0m\u001b[0;34m(\u001b[0m\u001b[0mstate\u001b[0m\u001b[0;34m)\u001b[0m\u001b[0;34m,\u001b[0m \u001b[0mreward\u001b[0m\u001b[0;34m)\u001b[0m\u001b[0;34m)\u001b[0m\u001b[0;34m\u001b[0m\u001b[0m\n\u001b[1;32m     29\u001b[0m             \u001b[0;32mif\u001b[0m \u001b[0mself\u001b[0m\u001b[0;34m.\u001b[0m\u001b[0mabort\u001b[0m \u001b[0;32mand\u001b[0m \u001b[0machieved\u001b[0m\u001b[0;34m:\u001b[0m\u001b[0;34m\u001b[0m\u001b[0m\n",
      "\u001b[0;32m/Users/TheUser/Documents/University/safe_rl_benchmark/SafeRLBench/envs/linear_car.py\u001b[0m in \u001b[0;36mupdate\u001b[0;34m(self, action)\u001b[0m\n\u001b[1;32m     22\u001b[0m         \u001b[0mself\u001b[0m\u001b[0;34m.\u001b[0m\u001b[0mstate\u001b[0m\u001b[0;34m[\u001b[0m\u001b[0;36m0\u001b[0m\u001b[0;34m]\u001b[0m \u001b[0;34m+=\u001b[0m \u001b[0mself\u001b[0m\u001b[0;34m.\u001b[0m\u001b[0mstate\u001b[0m\u001b[0;34m[\u001b[0m\u001b[0;36m1\u001b[0m\u001b[0;34m]\u001b[0m\u001b[0;34m\u001b[0m\u001b[0m\n\u001b[1;32m     23\u001b[0m \u001b[0;34m\u001b[0m\u001b[0m\n\u001b[0;32m---> 24\u001b[0;31m         \u001b[0;32mreturn\u001b[0m\u001b[0;34m(\u001b[0m\u001b[0maction\u001b[0m\u001b[0;34m,\u001b[0m \u001b[0mself\u001b[0m\u001b[0;34m.\u001b[0m\u001b[0mstate\u001b[0m\u001b[0;34m,\u001b[0m \u001b[0mself\u001b[0m\u001b[0;34m.\u001b[0m\u001b[0m_reward\u001b[0m\u001b[0;34m(\u001b[0m\u001b[0;34m)\u001b[0m\u001b[0;34m,\u001b[0m \u001b[0mself\u001b[0m\u001b[0;34m.\u001b[0m\u001b[0m_achieved\u001b[0m\u001b[0;34m(\u001b[0m\u001b[0;34m)\u001b[0m\u001b[0;34m)\u001b[0m\u001b[0;34m\u001b[0m\u001b[0m\n\u001b[0m\u001b[1;32m     25\u001b[0m \u001b[0;34m\u001b[0m\u001b[0m\n\u001b[1;32m     26\u001b[0m     \u001b[0;32mdef\u001b[0m \u001b[0mreset\u001b[0m\u001b[0;34m(\u001b[0m\u001b[0mself\u001b[0m\u001b[0;34m)\u001b[0m\u001b[0;34m:\u001b[0m\u001b[0;34m\u001b[0m\u001b[0m\n",
      "\u001b[0;32m/Users/TheUser/Documents/University/safe_rl_benchmark/SafeRLBench/envs/linear_car.py\u001b[0m in \u001b[0;36m_achieved\u001b[0;34m(self)\u001b[0m\n\u001b[1;32m     31\u001b[0m \u001b[0;34m\u001b[0m\u001b[0m\n\u001b[1;32m     32\u001b[0m     \u001b[0;32mdef\u001b[0m \u001b[0m_achieved\u001b[0m\u001b[0;34m(\u001b[0m\u001b[0mself\u001b[0m\u001b[0;34m)\u001b[0m\u001b[0;34m:\u001b[0m\u001b[0;34m\u001b[0m\u001b[0m\n\u001b[0;32m---> 33\u001b[0;31m         \u001b[0;32mreturn\u001b[0m \u001b[0;34m(\u001b[0m\u001b[0;34m-\u001b[0m\u001b[0mself\u001b[0m\u001b[0;34m.\u001b[0m\u001b[0m_reward\u001b[0m\u001b[0;34m(\u001b[0m\u001b[0;34m)\u001b[0m \u001b[0;34m<\u001b[0m \u001b[0mself\u001b[0m\u001b[0;34m.\u001b[0m\u001b[0meps\u001b[0m\u001b[0;34m)\u001b[0m\u001b[0;34m\u001b[0m\u001b[0m\n\u001b[0m",
      "\u001b[0;32m/Users/TheUser/Documents/University/safe_rl_benchmark/SafeRLBench/envs/linear_car.py\u001b[0m in \u001b[0;36m_reward\u001b[0;34m(self)\u001b[0m\n\u001b[1;32m     28\u001b[0m \u001b[0;34m\u001b[0m\u001b[0m\n\u001b[1;32m     29\u001b[0m     \u001b[0;32mdef\u001b[0m \u001b[0m_reward\u001b[0m\u001b[0;34m(\u001b[0m\u001b[0mself\u001b[0m\u001b[0;34m)\u001b[0m\u001b[0;34m:\u001b[0m\u001b[0;34m\u001b[0m\u001b[0m\n\u001b[0;32m---> 30\u001b[0;31m         \u001b[0;32mreturn\u001b[0m \u001b[0;34m-\u001b[0m\u001b[0mnorm\u001b[0m\u001b[0;34m(\u001b[0m\u001b[0mself\u001b[0m\u001b[0;34m.\u001b[0m\u001b[0mstate\u001b[0m\u001b[0;34m[\u001b[0m\u001b[0;36m0\u001b[0m\u001b[0;34m]\u001b[0m \u001b[0;34m-\u001b[0m \u001b[0mself\u001b[0m\u001b[0;34m.\u001b[0m\u001b[0mgoal_position\u001b[0m\u001b[0;34m)\u001b[0m\u001b[0;34m-\u001b[0m\u001b[0mnorm\u001b[0m\u001b[0;34m(\u001b[0m\u001b[0mself\u001b[0m\u001b[0;34m.\u001b[0m\u001b[0mstate\u001b[0m\u001b[0;34m[\u001b[0m\u001b[0;36m1\u001b[0m\u001b[0;34m]\u001b[0m\u001b[0;34m)\u001b[0m\u001b[0;34m\u001b[0m\u001b[0m\n\u001b[0m\u001b[1;32m     31\u001b[0m \u001b[0;34m\u001b[0m\u001b[0m\n\u001b[1;32m     32\u001b[0m     \u001b[0;32mdef\u001b[0m \u001b[0m_achieved\u001b[0m\u001b[0;34m(\u001b[0m\u001b[0mself\u001b[0m\u001b[0;34m)\u001b[0m\u001b[0;34m:\u001b[0m\u001b[0;34m\u001b[0m\u001b[0m\n",
      "\u001b[0;31mKeyboardInterrupt\u001b[0m: "
     ]
    }
   ],
   "source": [
    "par, conv = optimizer.optimize(policy)"
   ]
  },
  {
   "cell_type": "code",
   "execution_count": null,
   "metadata": {
    "collapsed": true
   },
   "outputs": [],
   "source": [
    "rewards = optimizer.rewards\n",
    "plt.plot(np.arange(0,len(rewards)),rewards)\n",
    "plt.show()"
   ]
  },
  {
   "cell_type": "code",
   "execution_count": 8,
   "metadata": {
    "collapsed": false
   },
   "outputs": [
    {
     "name": "stdout",
     "output_type": "stream",
     "text": [
      "Best Parameter: [  5.54976  -6.31094 -10.8346 ]\n",
      "Best Reward: -27.5753021636\n"
     ]
    },
    {
     "data": {
      "image/png": "[encoded data removed]",
      "text/plain": [
       "<matplotlib.figure.Figure at 0x10d39bd30>"
      ]
     },
     "metadata": {},
     "output_type": "display_data"
    }
   ],
   "source": [
    "print(\"Best Parameter: \"+str(optimizer.best_parameter))\n",
    "print(\"Best Reward: \"+str(optimizer.best_reward))\n",
    "\n",
    "policy.setParameter(optimizer.best_parameter)\n",
    "trace, i, achieved = executer.rollout(policy)\n",
    "\n",
    "y = np.array([t[0] for t in [s[1] for s in trace]])\n",
    "x = np.arange(0,i+1)\n",
    "\n",
    "plt.plot(x,y)\n",
    "plt.show()"
   ]
  },
  {
   "cell_type": "code",
   "execution_count": null,
   "metadata": {
    "collapsed": true
   },
   "outputs": [],
   "source": []
  },
  {
   "cell_type": "code",
   "execution_count": null,
   "metadata": {
    "collapsed": true
   },
   "outputs": [],
   "source": []
  }
 ],
 "metadata": {
  "kernelspec": {
   "display_name": "Python 3",
   "language": "python",
   "name": "python3"
  },
  "language_info": {
   "codemirror_mode": {
    "name": "ipython",
    "version": 3
   },
   "file_extension": ".py",
   "mimetype": "text/x-python",
   "name": "python",
   "nbconvert_exporter": "python",
   "pygments_lexer": "ipython3",
   "version": "3.5.2"
  }
 },
 "nbformat": 4,
 "nbformat_minor": 1
}
