{
 "cells": [
  {
   "cell_type": "code",
   "execution_count": 1,
   "metadata": {
    "collapsed": true
   },
   "outputs": [],
   "source": [
    "import matplotlib.pyplot as plt\n",
    "import numpy as np\n",
    "import cProfile\n",
    "\n",
    "try:\n",
    "    import SafeRLBench as srb\n",
    "    import SafeRLBench.envs as envs\n",
    "    import SafeRLBench.tools as tools\n",
    "except ImportError:\n",
    "    import sys\n",
    "    import os\n",
    "    module_path = os.path.abspath('..')\n",
    "    sys.path.append(module_path)\n",
    "    import SafeRLBench as srb\n",
    "    import SafeRLBench.envs as envs\n",
    "    import SafeRLBench.tools as tools\n",
    "    \n",
    "np.set_printoptions(precision=5)"
   ]
  },
  {
   "cell_type": "code",
   "execution_count": 6,
   "metadata": {
    "collapsed": false
   },
   "outputs": [],
   "source": [
    "lincar = envs.LinearCar()\n",
    "executer = tools.Rollout(lincar, max_it=100, abort=False)\n",
    "\n",
    "#policy_par = lambda par: (lambda x: par[0] + par[1:].dot(x))\n",
    "\n",
    "policy_par = lambda par: (lambda x: np.exp(par[0] - par[1:].dot(x)) - 1.5)\n",
    "\n",
    "policy = tools.Policy(policy_par,(3))\n",
    "optimizer = srb.PolicyGradient(executer, lincar, estimator='central_fd', max_it=10000, eps=0.000001,  \n",
    "                       parameter_domain=np.array([0,1]), rate = 1)\n",
    "optimizer.estimator.var = 0.5"
   ]
  },
  {
   "cell_type": "code",
   "execution_count": 7,
   "metadata": {
    "collapsed": false
   },
   "outputs": [
    {
     "name": "stdout",
     "output_type": "stream",
     "text": [
      "Start Central Finite Differences optimization:\n",
      "Initial Parameters: [ 0.45639  0.02938  0.82225]\n",
      "Run: 0  \tParameter: \t[ 0.45639  0.02938  0.82225]\tReward: -58.0191622188\n",
      "\t\tGradient: \t[ -1.45249  12.98194   0.31028]\n",
      "Run: 100  \tParameter: \t[  6.4386   10.3026    2.84466]\tReward: -45.522951356\n",
      "\t\tGradient: \t[ 0.02862 -0.03457  0.05037]\n",
      "\t\tAverage Time: \t0.02s/step\n",
      "Run: 200  \tParameter: \t[ 6.57686  8.20755  5.56117]\tReward: -38.0041042679\n",
      "\t\tGradient: \t[ 0.01078 -0.00902  0.03043]\n",
      "\t\tAverage Time: \t0.02s/step\n",
      "Run: 300  \tParameter: \t[ 5.62581  5.4106   9.48737]\tReward: -25.0044586989\n",
      "\t\tGradient: \t[-0.03801 -0.03079  0.04248]\n",
      "\t\tAverage Time: \t0.02s/step\n",
      "Run: 400  \tParameter: \t[  4.29725   3.70653  12.13254]\tReward: -19.3223209142\n",
      "\t\tGradient: \t[-0.39873  0.38286  0.01769]\n",
      "\t\tAverage Time: \t0.02s/step\n",
      "Run: 500  \tParameter: \t[  4.02114   3.89037  13.52031]\tReward: -17.5422904636\n",
      "\t\tGradient: \t[ 0.26043 -0.27214  0.01037]\n",
      "\t\tAverage Time: \t0.02s/step\n",
      "Run: 600  \tParameter: \t[  4.21569   3.96827  14.67519]\tReward: -15.4563095479\n",
      "\t\tGradient: \t[ 0.13388 -0.14641  0.01099]\n",
      "\t\tAverage Time: \t0.02s/step\n",
      "Run: 700  \tParameter: \t[  4.41518   4.03994  15.74593]\tReward: -13.4441849705\n",
      "\t\tGradient: \t[-0.05083  0.04335  0.01161]\n",
      "\t\tAverage Time: \t0.02s/step\n",
      "Run: 800  \tParameter: \t[  4.59991   4.0562   16.67183]\tReward: -15.4644099357\n",
      "\t\tGradient: \t[-0.29425  0.28874  0.01021]\n",
      "\t\tAverage Time: \t0.02s/step\n",
      "Run: 900  \tParameter: \t[  4.6711    4.24848  17.50996]\tReward: -12.7997249767\n",
      "\t\tGradient: \t[-0.1096   0.10364  0.01007]\n",
      "\t\tAverage Time: \t0.02s/step\n",
      "Run: 1000  \tParameter: \t[  4.89427   4.22875  18.28377]\tReward: -17.5047225603\n",
      "\t\tGradient: \t[-0.43127  0.4295   0.00966]\n",
      "\t\tAverage Time: \t0.02s/step\n",
      "Run: 1100  \tParameter: \t[  4.97434   4.36468  18.99458]\tReward: -16.0428303941\n",
      "\t\tGradient: \t[-0.35911  0.35195  0.00893]\n",
      "\t\tAverage Time: \t0.02s/step\n",
      "Run: 1200  \tParameter: \t[  5.06539   4.47331  19.66158]\tReward: -15.4599406111\n",
      "\t\tGradient: \t[-0.32684  0.31932  0.00832]\n",
      "\t\tAverage Time: \t0.02s/step\n",
      "Run: 1300  \tParameter: \t[  5.17283   4.54609  20.28352]\tReward: -15.95118616\n",
      "\t\tGradient: \t[-0.36484  0.3573   0.00809]\n",
      "\t\tAverage Time: \t0.02s/step\n",
      "Run: 1400  \tParameter: \t[  5.17747   4.73673  20.86938]\tReward: -12.2935574186\n",
      "\t\tGradient: \t[-0.1151   0.10965  0.00664]\n",
      "\t\tAverage Time: \t0.02s/step\n",
      "Run: 1500  \tParameter: \t[  5.30011   4.77374  21.42112]\tReward: -13.7390067931\n",
      "\t\tGradient: \t[-0.22151  0.21562  0.00628]\n",
      "\t\tAverage Time: \t0.02s/step\n",
      "Run: 1600  \tParameter: \t[  5.36821   4.86907  21.95015]\tReward: -13.1380052541\n",
      "\t\tGradient: \t[-0.18274  0.17721  0.00594]\n",
      "\t\tAverage Time: \t0.02s/step\n",
      "Run: 1700  \tParameter: \t[  5.43503   4.96199  22.45748]\tReward: -12.5863241533\n",
      "\t\tGradient: \t[-0.14657  0.14166  0.00561]\n",
      "\t\tAverage Time: \t0.02s/step\n",
      "Run: 1800  \tParameter: \t[  5.526     5.01996  22.94813]\tReward: -13.0715297319\n",
      "\t\tGradient: \t[-0.18378  0.1788   0.00555]\n",
      "\t\tAverage Time: \t0.02s/step\n",
      "Run: 1900  \tParameter: \t[  5.59174   5.09966  23.4191 ]\tReward: -12.7488192795\n",
      "\t\tGradient: \t[-0.16341  0.15905  0.00524]\n",
      "\t\tAverage Time: \t0.02s/step\n",
      "Run: 2000  \tParameter: \t[  5.66928   5.15939  23.87171]\tReward: -12.9716991366\n",
      "\t\tGradient: \t[-0.18154  0.17737  0.00512]\n",
      "\t\tAverage Time: \t0.02s/step\n",
      "Run: 2100  \tParameter: \t[  5.73691   5.23003  24.30794]\tReward: -12.8494165032\n",
      "\t\tGradient: \t[-0.17479  0.17112  0.00491]\n",
      "\t\tAverage Time: \t0.02s/step\n",
      "Run: 2200  \tParameter: \t[  5.80975   5.29421  24.73022]\tReward: -12.9265949117\n",
      "\t\tGradient: \t[-0.18199  0.17839  0.00478]\n",
      "\t\tAverage Time: \t0.02s/step\n",
      "Run: 2300  \tParameter: \t[  5.88277   5.35197  25.14451]\tReward: -13.1088637641\n",
      "\t\tGradient: \t[-0.19663  0.19305  0.00473]\n",
      "\t\tAverage Time: \t0.02s/step\n",
      "Run: 2400  \tParameter: \t[  5.95564   5.39798  25.5667 ]\tReward: -13.4676478246\n",
      "\t\tGradient: \t[-0.22406  0.2203   0.00472]\n",
      "\t\tAverage Time: \t0.02s/step\n",
      "Run: 2500  \tParameter: \t[  6.0246    5.45699  25.98634]\tReward: -13.5550894875\n",
      "\t\tGradient: \t[-0.232    0.22823  0.00465]\n",
      "\t\tAverage Time: \t0.02s/step\n",
      "Run: 2600  \tParameter: \t[  6.08995   5.52012  26.39682]\tReward: -13.522143025\n",
      "\t\tGradient: \t[-0.23134  0.22759  0.00456]\n",
      "\t\tAverage Time: \t0.02s/step\n",
      "Run: 2700  \tParameter: \t[  6.15398   5.58318  26.795  ]\tReward: -13.4732602792\n",
      "\t\tGradient: \t[-0.22942  0.22568  0.00448]\n",
      "\t\tAverage Time: \t0.02s/step\n",
      "Run: 2800  \tParameter: \t[  6.21631   5.64469  27.18138]\tReward: -13.4250500561\n",
      "\t\tGradient: \t[-0.22745  0.22373  0.0044 ]\n",
      "\t\tAverage Time: \t0.02s/step\n",
      "Run: 2900  \tParameter: \t[  6.27759   5.7052   27.55642]\tReward: -13.3790396991\n",
      "\t\tGradient: \t[-0.22553  0.22182  0.00433]\n",
      "\t\tAverage Time: \t0.02s/step\n",
      "Run: 3000  \tParameter: \t[  6.33757   5.76449  27.92076]\tReward: -13.3345912766\n",
      "\t\tGradient: \t[-0.22364  0.22     0.00426]\n",
      "\t\tAverage Time: \t0.02s/step\n",
      "Run: 3100  \tParameter: \t[  6.39747   5.82384  28.27544]\tReward: -13.2909769305\n",
      "\t\tGradient: \t[-0.2217   0.21812  0.0042 ]\n",
      "\t\tAverage Time: \t0.02s/step\n",
      "Run: 3200  \tParameter: \t[  6.45591   5.8818   28.62053]\tReward: -13.2486770136\n",
      "\t\tGradient: \t[-0.2198   0.21625  0.00414]\n",
      "\t\tAverage Time: \t0.02s/step\n",
      "Run: 3300  \tParameter: \t[  6.51279   5.93821  28.95531]\tReward: -13.2083689027\n",
      "\t\tGradient: \t[-0.21797  0.21445  0.00408]\n",
      "\t\tAverage Time: \t0.02s/step\n",
      "Run: 3400  \tParameter: \t[  6.56841   5.99347  29.28003]\tReward: -13.1688960308\n",
      "\t\tGradient: \t[-0.21613  0.21264  0.00403]\n",
      "\t\tAverage Time: \t0.02s/step\n",
      "Run: 3500  \tParameter: \t[  6.6222    6.04695  29.59495]\tReward: -13.1307496809\n",
      "\t\tGradient: \t[-0.21435  0.21089  0.00398]\n",
      "\t\tAverage Time: \t0.02s/step\n",
      "Run: 3600  \tParameter: \t[  6.67419   6.09867  29.90059]\tReward: -13.0935066758\n",
      "\t\tGradient: \t[-0.21259  0.20917  0.00393]\n",
      "\t\tAverage Time: \t0.02s/step\n",
      "Run: 3700  \tParameter: \t[  6.7058    6.15883  30.19722]\tReward: -12.6564074837\n",
      "\t\tGradient: \t[-0.18246  0.17944  0.0038 ]\n",
      "\t\tAverage Time: \t0.02s/step\n",
      "Run: 3800  \tParameter: \t[  6.65848   6.19332  30.47367]\tReward: -11.4904670403\n",
      "\t\tGradient: \t[-0.10039  0.09776  0.00287]\n",
      "\t\tAverage Time: \t0.02s/step\n",
      "Run: 3900  \tParameter: \t[  6.69406   6.19146  30.72213]\tReward: -11.9641989665\n",
      "\t\tGradient: \t[-0.13642  0.13409  0.00286]\n",
      "\t\tAverage Time: \t0.02s/step\n",
      "Run: 4000  \tParameter: \t[  6.69156   6.23997  30.96669]\tReward: -11.2568865646\n",
      "\t\tGradient: \t[-0.0853  0.0827  0.0027]\n",
      "\t\tAverage Time: \t0.02s/step\n",
      "Run: 4100  \tParameter: \t[  6.6826    6.25873  31.21021]\tReward: -10.8605187075\n",
      "\t\tGradient: \t[-0.05639  0.05455  0.00259]\n",
      "\t\tAverage Time: \t0.02s/step\n",
      "Run: 4200  \tParameter: \t[  6.67932   6.2907   31.45247]\tReward: -10.7285711784\n",
      "\t\tGradient: \t[-0.01978  0.01933  0.00259]\n",
      "\t\tAverage Time: \t0.02s/step\n",
      "Run: 4300  \tParameter: \t[  6.70537   6.33382  31.69215]\tReward: -10.8625997716\n",
      "\t\tGradient: \t[-0.00193  0.00265  0.00236]\n",
      "\t\tAverage Time: \t0.02s/step\n",
      "Run: 4400  \tParameter: \t[  6.74586   6.37627  31.92436]\tReward: -10.869106895\n",
      "\t\tGradient: \t[ 0.00034  0.0005   0.00231]\n",
      "\t\tAverage Time: \t0.02s/step\n",
      "Run: 4500  \tParameter: \t[  6.78827   6.4185   32.15427]\tReward: -10.8572909228\n",
      "\t\tGradient: \t[ 0.00042  0.00042  0.00229]\n",
      "\t\tAverage Time: \t0.02s/step\n",
      "Run: 4600  \tParameter: \t[  6.83068   6.46065  32.38221]\tReward: -10.8451479231\n",
      "\t\tGradient: \t[ 0.00042  0.00042  0.00227]\n",
      "\t\tAverage Time: \t0.02s/step\n",
      "Run: 4700  \tParameter: \t[  6.87285   6.50257  32.60825]\tReward: -10.8333026905\n",
      "\t\tGradient: \t[ 0.00042  0.00042  0.00225]\n",
      "\t\tAverage Time: \t0.02s/step\n",
      "Run: 4800  \tParameter: \t[  6.91473   6.54419  32.83243]\tReward: -10.8217235005\n",
      "\t\tGradient: \t[ 0.00042  0.00041  0.00223]\n",
      "\t\tAverage Time: \t0.02s/step\n",
      "Run: 4900  \tParameter: \t[  6.95631   6.58552  33.05481]\tReward: -10.8103924513\n",
      "\t\tGradient: \t[ 0.00041  0.00041  0.00221]\n",
      "\t\tAverage Time: \t0.02s/step\n",
      "Run: 5000  \tParameter: \t[  6.99758   6.62655  33.27543]\tReward: -10.7992943448\n",
      "\t\tGradient: \t[ 0.00041  0.00041  0.0022 ]\n",
      "\t\tAverage Time: \t0.02s/step\n",
      "Run: 5100  \tParameter: \t[  7.03857   6.66729  33.49434]\tReward: -10.7884211837\n",
      "\t\tGradient: \t[ 0.00041  0.00041  0.00218]\n",
      "\t\tAverage Time: \t0.02s/step\n",
      "Run: 5200  \tParameter: \t[  7.07926   6.70774  33.71158]\tReward: -10.7777634681\n",
      "\t\tGradient: \t[ 0.00041  0.0004   0.00216]\n",
      "\t\tAverage Time: \t0.02s/step\n",
      "Run: 5300  \tParameter: \t[  7.1193    6.74755  33.92717]\tReward: -10.7673614675\n",
      "\t\tGradient: \t[ 0.0004   0.0004   0.00215]\n",
      "\t\tAverage Time: \t0.02s/step\n",
      "Run: 5400  \tParameter: \t[  7.15938   6.78745  34.14114]\tReward: -10.7575818623\n",
      "\t\tGradient: \t[ 0.0004   0.0004   0.00213]\n",
      "\t\tAverage Time: \t0.02s/step\n",
      "Run: 5500  \tParameter: \t[  7.2       6.8279   34.35358]\tReward: -10.7483639659\n",
      "\t\tGradient: \t[ 0.00041  0.00041  0.00212]\n",
      "\t\tAverage Time: \t0.02s/step\n",
      "Run: 5600  \tParameter: \t[  7.241     6.86873  34.56457]\tReward: -10.7395868019\n",
      "\t\tGradient: \t[ 0.00041  0.00041  0.0021 ]\n",
      "\t\tAverage Time: \t0.02s/step\n",
      "Run: 5700  \tParameter: \t[  7.28138   6.90893  34.77417]\tReward: -10.7307758874\n",
      "\t\tGradient: \t[ 0.00039  0.00039  0.00209]\n",
      "\t\tAverage Time: \t0.02s/step\n",
      "Run: 5800  \tParameter: \t[  7.31911   6.94648  34.98231]\tReward: -10.72118099\n",
      "\t\tGradient: \t[ 0.00036  0.00036  0.00207]\n",
      "\t\tAverage Time: \t0.02s/step\n",
      "Run: 5900  \tParameter: \t[  7.35464   6.98179  35.18882]\tReward: -10.7107799203\n",
      "\t\tGradient: \t[ 0.00036  0.00036  0.00206]\n",
      "\t\tAverage Time: \t0.02s/step\n",
      "Run: 6000  \tParameter: \t[  7.39129   7.01827  35.39373]\tReward: -10.7015149437\n",
      "\t\tGradient: \t[ 0.00037  0.00037  0.00204]\n",
      "\t\tAverage Time: \t0.02s/step\n",
      "Run: 6100  \tParameter: \t[  7.42888   7.05573  35.59718]\tReward: -10.6930664882\n",
      "\t\tGradient: \t[ 0.00038  0.00038  0.00203]\n",
      "\t\tAverage Time: \t0.02s/step\n",
      "Run: 6200  \tParameter: \t[  7.46671   7.09345  35.79925]\tReward: -10.6850285327\n",
      "\t\tGradient: \t[ 0.00038  0.00038  0.00201]\n",
      "\t\tAverage Time: \t0.02s/step\n",
      "Run: 6300  \tParameter: \t[  7.50451   7.13113  36.     ]\tReward: -10.677235198\n",
      "\t\tGradient: \t[ 0.00038  0.00038  0.002  ]\n",
      "\t\tAverage Time: \t0.02s/step\n",
      "Run: 6400  \tParameter: \t[  7.54216   7.16867  36.19946]\tReward: -10.6696169819\n",
      "\t\tGradient: \t[ 0.00038  0.00037  0.00199]\n",
      "\t\tAverage Time: \t0.02s/step\n",
      "Run: 6500  \tParameter: \t[  7.57962   7.20602  36.39766]\tReward: -10.6621433541\n",
      "\t\tGradient: \t[ 0.00037  0.00037  0.00198]\n",
      "\t\tAverage Time: \t0.02s/step\n",
      "Run: 6600  \tParameter: \t[  7.61688   7.24316  36.59462]\tReward: -10.6547996426\n",
      "\t\tGradient: \t[ 0.00037  0.00037  0.00196]\n",
      "\t\tAverage Time: \t0.02s/step\n",
      "Run: 6700  \tParameter: \t[  7.65392   7.28009  36.79037]\tReward: -10.6475776988\n",
      "\t\tGradient: \t[ 0.00037  0.00037  0.00195]\n",
      "\t\tAverage Time: \t0.02s/step\n",
      "Run: 6800  \tParameter: \t[  7.69075   7.31682  36.98492]\tReward: -10.6404721099\n",
      "\t\tGradient: \t[ 0.00037  0.00037  0.00194]\n",
      "\t\tAverage Time: \t0.02s/step\n",
      "Run: 6900  \tParameter: \t[  7.72737   7.35333  37.1783 ]\tReward: -10.6334786585\n",
      "\t\tGradient: \t[ 0.00037  0.00036  0.00193]\n",
      "\t\tAverage Time: \t0.02s/step\n",
      "Run: 7000  \tParameter: \t[  7.76378   7.38963  37.37053]\tReward: -10.6265936951\n",
      "\t\tGradient: \t[ 0.00036  0.00036  0.00192]\n",
      "\t\tAverage Time: \t0.02s/step\n",
      "Run: 7100  \tParameter: \t[  7.79998   7.42573  37.56162]\tReward: -10.6198138816\n",
      "\t\tGradient: \t[ 0.00036  0.00036  0.00191]\n",
      "\t\tAverage Time: \t0.02s/step\n",
      "Run: 7200  \tParameter: \t[  7.83598   7.46162  37.7516 ]\tReward: -10.6131360833\n",
      "\t\tGradient: \t[ 0.00036  0.00036  0.00189]\n",
      "\t\tAverage Time: \t0.02s/step\n",
      "Run: 7300  \tParameter: \t[  7.87178   7.49732  37.94049]\tReward: -10.6065573205\n",
      "\t\tGradient: \t[ 0.00036  0.00036  0.00188]\n",
      "\t\tAverage Time: \t0.02s/step\n",
      "Run: 7400  \tParameter: \t[  7.90738   7.53282  38.12829]\tReward: -10.6000747455\n",
      "\t\tGradient: \t[ 0.00036  0.00035  0.00187]\n",
      "\t\tAverage Time: \t0.02s/step\n",
      "Run: 7500  \tParameter: \t[  7.94279   7.56812  38.31504]\tReward: -10.5936861385\n",
      "\t\tGradient: \t[ 0.00035  0.00035  0.00186]\n",
      "\t\tAverage Time: \t0.02s/step\n",
      "Run: 7600  \tParameter: \t[  7.97805   7.60327  38.50074]\tReward: -10.5874020618\n",
      "\t\tGradient: \t[ 0.00035  0.00035  0.00185]\n",
      "\t\tAverage Time: \t0.02s/step\n",
      "Run: 7700  \tParameter: \t[  8.01313   7.63825  38.68542]\tReward: -10.5812157285\n",
      "\t\tGradient: \t[ 0.00035  0.00035  0.00184]\n",
      "\t\tAverage Time: \t0.02s/step\n",
      "Run: 7800  \tParameter: \t[  8.04803   7.67305  38.86908]\tReward: -10.5751198206\n",
      "\t\tGradient: \t[ 0.00035  0.00035  0.00183]\n",
      "\t\tAverage Time: \t0.02s/step\n",
      "Run: 7900  \tParameter: \t[  8.08275   7.70767  39.05176]\tReward: -10.569109867\n",
      "\t\tGradient: \t[ 0.00035  0.00035  0.00182]\n",
      "\t\tAverage Time: \t0.02s/step\n",
      "Run: 8000  \tParameter: \t[  8.11729   7.74211  39.23345]\tReward: -10.5631826745\n",
      "\t\tGradient: \t[ 0.00034  0.00034  0.00181]\n",
      "\t\tAverage Time: \t0.02s/step\n",
      "Run: 8100  \tParameter: \t[  8.15166   7.77638  39.41419]\tReward: -10.5573356502\n",
      "\t\tGradient: \t[ 0.00034  0.00034  0.0018 ]\n",
      "\t\tAverage Time: \t0.02s/step\n",
      "Run: 8200  \tParameter: \t[  8.18585   7.81047  39.59397]\tReward: -10.5515665062\n",
      "\t\tGradient: \t[ 0.00034  0.00034  0.00179]\n",
      "\t\tAverage Time: \t0.02s/step\n",
      "Run: 8300  \tParameter: \t[  8.21986   7.84438  39.77281]\tReward: -10.5458731302\n",
      "\t\tGradient: \t[ 0.00034  0.00034  0.00178]\n",
      "\t\tAverage Time: \t0.02s/step\n",
      "Run: 8400  \tParameter: \t[  8.2537    7.87812  39.95074]\tReward: -10.540253527\n",
      "\t\tGradient: \t[ 0.00034  0.00034  0.00177]\n",
      "\t\tAverage Time: \t0.02s/step\n",
      "Run: 8500  \tParameter: \t[  8.2871    7.91141  40.12775]\tReward: -10.5344720429\n",
      "\t\tGradient: \t[ 0.00033  0.00033  0.00177]\n",
      "\t\tAverage Time: \t0.02s/step\n",
      "Run: 8600  \tParameter: \t[  8.31969   7.94385  40.30382]\tReward: -10.5283761556\n",
      "\t\tGradient: \t[ 0.00032  0.00032  0.00176]\n",
      "\t\tAverage Time: \t0.02s/step\n",
      "Run: 8700  \tParameter: \t[  8.3516    7.97561  40.47894]\tReward: -10.5221256605\n",
      "\t\tGradient: \t[ 0.00032  0.00031  0.00175]\n",
      "\t\tAverage Time: \t0.02s/step\n",
      "Run: 8800  \tParameter: \t[  8.38297   8.00682  40.65309]\tReward: -10.5157869342\n",
      "\t\tGradient: \t[ 0.00031  0.00031  0.00174]\n",
      "\t\tAverage Time: \t0.02s/step\n",
      "Run: 8900  \tParameter: \t[  8.41389   8.03758  40.82537]\tReward: -10.5095088319\n",
      "\t\tGradient: \t[ 0.00031  0.00031  0.00171]\n",
      "\t\tAverage Time: \t0.02s/step\n",
      "Run: 9000  \tParameter: \t[  8.44436   8.06789  40.99421]\tReward: -10.5034758622\n",
      "\t\tGradient: \t[ 0.0003   0.0003   0.00167]\n",
      "\t\tAverage Time: \t0.02s/step\n",
      "Run: 9100  \tParameter: \t[  8.47435   8.09774  41.15971]\tReward: -10.4976634004\n",
      "\t\tGradient: \t[ 0.0003   0.0003   0.00164]\n",
      "\t\tAverage Time: \t0.02s/step\n",
      "Run: 9200  \tParameter: \t[  8.50387   8.12711  41.32198]\tReward: -10.4920491243\n",
      "\t\tGradient: \t[ 0.00029  0.00029  0.00161]\n",
      "\t\tAverage Time: \t0.02s/step\n",
      "Run: 9300  \tParameter: \t[  8.5329    8.156    41.48113]\tReward: -10.4866155881\n",
      "\t\tGradient: \t[ 0.00029  0.00029  0.00158]\n",
      "\t\tAverage Time: \t0.02s/step\n",
      "Run: 9400  \tParameter: \t[  8.56144   8.1844   41.63727]\tReward: -10.4813488666\n",
      "\t\tGradient: \t[ 0.00028  0.00028  0.00155]\n",
      "\t\tAverage Time: \t0.02s/step\n",
      "Run: 9500  \tParameter: \t[  8.5895    8.21233  41.79048]\tReward: -10.476264035\n",
      "\t\tGradient: \t[ 0.00028  0.00028  0.00152]\n",
      "\t\tAverage Time: \t0.02s/step\n",
      "Run: 9600  \tParameter: \t[  8.61708   8.23978  41.94084]\tReward: -10.4718167151\n",
      "\t\tGradient: \t[ 0.00027  0.00027  0.00149]\n",
      "\t\tAverage Time: \t0.02s/step\n",
      "Run: 9700  \tParameter: \t[  8.64419   8.26677  42.08843]\tReward: -10.4674936006\n",
      "\t\tGradient: \t[ 0.00027  0.00027  0.00146]\n",
      "\t\tAverage Time: \t0.02s/step\n",
      "Run: 9800  \tParameter: \t[  8.67085   8.2933   42.23333]\tReward: -10.4632886408\n",
      "\t\tGradient: \t[ 0.00026  0.00026  0.00144]\n",
      "\t\tAverage Time: \t0.02s/step\n",
      "Run: 9900  \tParameter: \t[  8.697     8.31933  42.3756 ]\tReward: -10.4591882342\n",
      "\t\tGradient: \t[ 0.00026  0.00026  0.00141]\n",
      "\t\tAverage Time: \t0.02s/step\n",
      "Finished\n"
     ]
    }
   ],
   "source": [
    "par, conv = optimizer.optimize(policy)"
   ]
  },
  {
   "cell_type": "code",
   "execution_count": 8,
   "metadata": {
    "collapsed": false
   },
   "outputs": [
    {
     "data": {
      "image/png": "[encoded data removed]",
      "text/plain": [
       "<matplotlib.figure.Figure at 0x109684f60>"
      ]
     },
     "metadata": {},
     "output_type": "display_data"
    }
   ],
   "source": [
    "rewards = optimizer.rewards\n",
    "plt.plot(np.arange(0,len(rewards)),rewards)\n",
    "plt.show()"
   ]
  },
  {
   "cell_type": "code",
   "execution_count": 9,
   "metadata": {
    "collapsed": false
   },
   "outputs": [
    {
     "name": "stdout",
     "output_type": "stream",
     "text": [
      "Best Parameter:\t[  8.72239   8.3446   42.5139 ]\n",
      "Best Reward: \t-10.4552116712\n"
     ]
    },
    {
     "data": {
      "image/png": "[encoded data removed]",
      "text/plain": [
       "<matplotlib.figure.Figure at 0x10ce09198>"
      ]
     },
     "metadata": {},
     "output_type": "display_data"
    }
   ],
   "source": [
    "print(\"Best Parameter:\\t\"+str(optimizer.best_parameter))\n",
    "print(\"Best Reward: \\t\"+str(optimizer.best_reward))\n",
    "\n",
    "policy.setParameter(optimizer.best_parameter)\n",
    "trace, i, achieved = executer.rollout(policy)\n",
    "\n",
    "y = np.array([t[0] for t in [s[1] for s in trace]])\n",
    "x = np.arange(0,i+1)\n",
    "\n",
    "plt.plot(x,y)\n",
    "plt.show()"
   ]
  },
  {
   "cell_type": "code",
   "execution_count": 5,
   "metadata": {
    "collapsed": false,
    "scrolled": false
   },
   "outputs": [],
   "source": [
    "policy_par = lambda par: (lambda x: par[0] + par[1:].dot(x))\n",
    "\n",
    "#policy_par = lambda par: (lambda x: np.exp(par[0] - par[1:].dot(x)) - 1.5)\n",
    "\n",
    "policy = tools.Policy(policy_par,(3))\n",
    "optimizer = srb.PolicyGradient(executer, lincar, estimator='forward_fd', max_it=1000, eps=0.0001,  \n",
    "                       parameter_domain=np.array([-1,1]), rate = 0.2)\n",
    "optimizer.estimator.var = 0.5"
   ]
  },
  {
   "cell_type": "code",
   "execution_count": 6,
   "metadata": {
    "collapsed": false
   },
   "outputs": [
    {
     "ename": "KeyboardInterrupt",
     "evalue": "",
     "output_type": "error",
     "traceback": [
      "\u001b[0;31m---------------------------------------------------------------------------\u001b[0m",
      "\u001b[0;31mKeyboardInterrupt\u001b[0m                         Traceback (most recent call last)",
      "\u001b[0;32m<ipython-input-6-bfa720d7696d>\u001b[0m in \u001b[0;36m<module>\u001b[0;34m()\u001b[0m\n\u001b[0;32m----> 1\u001b[0;31m \u001b[0mpar\u001b[0m\u001b[0;34m,\u001b[0m \u001b[0mconv\u001b[0m \u001b[0;34m=\u001b[0m \u001b[0moptimizer\u001b[0m\u001b[0;34m.\u001b[0m\u001b[0moptimize\u001b[0m\u001b[0;34m(\u001b[0m\u001b[0mpolicy\u001b[0m\u001b[0;34m)\u001b[0m\u001b[0;34m\u001b[0m\u001b[0m\n\u001b[0m",
      "\u001b[0;32m/Users/TheUser/Documents/University/safe_rl_benchmark/SafeRLBench/policygradient.py\u001b[0m in \u001b[0;36moptimize\u001b[0;34m(self, policy)\u001b[0m\n\u001b[1;32m     47\u001b[0m         \u001b[0mestimator\u001b[0m \u001b[0;34m=\u001b[0m \u001b[0mself\u001b[0m\u001b[0;34m.\u001b[0m\u001b[0mestimator\u001b[0m\u001b[0;34m\u001b[0m\u001b[0m\n\u001b[1;32m     48\u001b[0m \u001b[0;34m\u001b[0m\u001b[0m\n\u001b[0;32m---> 49\u001b[0;31m         \u001b[0mparameter\u001b[0m \u001b[0;34m=\u001b[0m \u001b[0mself\u001b[0m\u001b[0;34m.\u001b[0m\u001b[0m_initialize_parameters\u001b[0m\u001b[0;34m(\u001b[0m\u001b[0mpolicy\u001b[0m\u001b[0;34m)\u001b[0m\u001b[0;34m\u001b[0m\u001b[0m\n\u001b[0m\u001b[1;32m     50\u001b[0m \u001b[0;34m\u001b[0m\u001b[0m\n\u001b[1;32m     51\u001b[0m         \u001b[0mconverged\u001b[0m \u001b[0;34m=\u001b[0m \u001b[0;32mFalse\u001b[0m\u001b[0;34m\u001b[0m\u001b[0m\n",
      "\u001b[0;32m/Users/TheUser/Documents/University/safe_rl_benchmark/SafeRLBench/policygradient.py\u001b[0m in \u001b[0;36m_initialize_parameters\u001b[0;34m(self, policy)\u001b[0m\n\u001b[1;32m    103\u001b[0m             \u001b[0mparameter\u001b[0m \u001b[0;34m=\u001b[0m \u001b[0mrand\u001b[0m\u001b[0;34m(\u001b[0m\u001b[0mself\u001b[0m\u001b[0;34m.\u001b[0m\u001b[0mpar_dim\u001b[0m\u001b[0;34m)\u001b[0m \u001b[0;34m*\u001b[0m \u001b[0;34m(\u001b[0m\u001b[0mpard\u001b[0m\u001b[0;34m[\u001b[0m\u001b[0;36m1\u001b[0m\u001b[0;34m]\u001b[0m \u001b[0;34m-\u001b[0m \u001b[0mpard\u001b[0m\u001b[0;34m[\u001b[0m\u001b[0;36m0\u001b[0m\u001b[0;34m]\u001b[0m\u001b[0;34m)\u001b[0m \u001b[0;34m+\u001b[0m \u001b[0mpard\u001b[0m\u001b[0;34m[\u001b[0m\u001b[0;36m0\u001b[0m\u001b[0;34m]\u001b[0m\u001b[0;34m\u001b[0m\u001b[0m\n\u001b[1;32m    104\u001b[0m \u001b[0;34m\u001b[0m\u001b[0m\n\u001b[0;32m--> 105\u001b[0;31m             \u001b[0mgrad\u001b[0m\u001b[0;34m,\u001b[0m \u001b[0m_\u001b[0m\u001b[0;34m,\u001b[0m \u001b[0m_\u001b[0m \u001b[0;34m=\u001b[0m \u001b[0mself\u001b[0m\u001b[0;34m.\u001b[0m\u001b[0mestimator\u001b[0m\u001b[0;34m(\u001b[0m\u001b[0mpolicy\u001b[0m\u001b[0;34m,\u001b[0m \u001b[0mparameter\u001b[0m\u001b[0;34m)\u001b[0m\u001b[0;34m\u001b[0m\u001b[0m\n\u001b[0m\u001b[1;32m    106\u001b[0m \u001b[0;34m\u001b[0m\u001b[0m\n\u001b[1;32m    107\u001b[0m             \u001b[0;32mif\u001b[0m \u001b[0;34m(\u001b[0m\u001b[0mnorm\u001b[0m\u001b[0;34m(\u001b[0m\u001b[0mgrad\u001b[0m\u001b[0;34m)\u001b[0m \u001b[0;34m>=\u001b[0m \u001b[0mself\u001b[0m\u001b[0;34m.\u001b[0m\u001b[0meps\u001b[0m\u001b[0;34m)\u001b[0m\u001b[0;34m:\u001b[0m\u001b[0;34m\u001b[0m\u001b[0m\n",
      "\u001b[0;32m/Users/TheUser/Documents/University/safe_rl_benchmark/SafeRLBench/policygradient.py\u001b[0m in \u001b[0;36m__call__\u001b[0;34m(self, policy, parameter)\u001b[0m\n\u001b[1;32m    123\u001b[0m \u001b[0;34m\u001b[0m\u001b[0m\n\u001b[1;32m    124\u001b[0m     \u001b[0;32mdef\u001b[0m \u001b[0m__call__\u001b[0m\u001b[0;34m(\u001b[0m\u001b[0mself\u001b[0m\u001b[0;34m,\u001b[0m \u001b[0mpolicy\u001b[0m\u001b[0;34m,\u001b[0m \u001b[0mparameter\u001b[0m\u001b[0;34m)\u001b[0m\u001b[0;34m:\u001b[0m\u001b[0;34m\u001b[0m\u001b[0m\n\u001b[0;32m--> 125\u001b[0;31m         \u001b[0;32mreturn\u001b[0m \u001b[0mself\u001b[0m\u001b[0;34m.\u001b[0m\u001b[0m_estimate_gradient\u001b[0m\u001b[0;34m(\u001b[0m\u001b[0mpolicy\u001b[0m\u001b[0;34m,\u001b[0m \u001b[0mparameter\u001b[0m\u001b[0;34m)\u001b[0m\u001b[0;34m\u001b[0m\u001b[0m\n\u001b[0m\u001b[1;32m    126\u001b[0m \u001b[0;34m\u001b[0m\u001b[0m\n\u001b[1;32m    127\u001b[0m \u001b[0;34m\u001b[0m\u001b[0m\n",
      "\u001b[0;32m/Users/TheUser/Documents/University/safe_rl_benchmark/SafeRLBench/policygradient.py\u001b[0m in \u001b[0;36m_estimate_gradient\u001b[0;34m(self, policy, parameter)\u001b[0m\n\u001b[1;32m    150\u001b[0m \u001b[0;34m\u001b[0m\u001b[0m\n\u001b[1;32m    151\u001b[0m             \u001b[0mpolicy\u001b[0m\u001b[0;34m.\u001b[0m\u001b[0msetParameter\u001b[0m\u001b[0;34m(\u001b[0m\u001b[0mparameter\u001b[0m \u001b[0;34m+\u001b[0m \u001b[0mvariation\u001b[0m\u001b[0;34m)\u001b[0m\u001b[0;34m\u001b[0m\u001b[0m\n\u001b[0;32m--> 152\u001b[0;31m             \u001b[0mtrace_n\u001b[0m\u001b[0;34m,\u001b[0m \u001b[0mi_n\u001b[0m\u001b[0;34m,\u001b[0m \u001b[0machieved\u001b[0m \u001b[0;34m=\u001b[0m \u001b[0mexecuter\u001b[0m\u001b[0;34m.\u001b[0m\u001b[0mrollout\u001b[0m\u001b[0;34m(\u001b[0m\u001b[0mpolicy\u001b[0m\u001b[0;34m)\u001b[0m\u001b[0;34m\u001b[0m\u001b[0m\n\u001b[0m\u001b[1;32m    153\u001b[0m \u001b[0;34m\u001b[0m\u001b[0m\n\u001b[1;32m    154\u001b[0m             \u001b[0mJn\u001b[0m \u001b[0;34m=\u001b[0m \u001b[0msum\u001b[0m\u001b[0;34m(\u001b[0m\u001b[0;34m[\u001b[0m\u001b[0mx\u001b[0m\u001b[0;34m[\u001b[0m\u001b[0;36m2\u001b[0m\u001b[0;34m]\u001b[0m \u001b[0;32mfor\u001b[0m \u001b[0mx\u001b[0m \u001b[0;32min\u001b[0m \u001b[0mtrace\u001b[0m\u001b[0;34m]\u001b[0m\u001b[0;34m)\u001b[0m\u001b[0;34m/\u001b[0m\u001b[0mi_n\u001b[0m\u001b[0;34m\u001b[0m\u001b[0m\n",
      "\u001b[0;32m/Users/TheUser/Documents/University/safe_rl_benchmark/SafeRLBench/tools/rollout.py\u001b[0m in \u001b[0;36mrollout\u001b[0;34m(self, policy)\u001b[0m\n\u001b[1;32m     25\u001b[0m         \u001b[0;32mfor\u001b[0m \u001b[0mi\u001b[0m \u001b[0;32min\u001b[0m \u001b[0mrange\u001b[0m\u001b[0;34m(\u001b[0m\u001b[0mself\u001b[0m\u001b[0;34m.\u001b[0m\u001b[0mmax_it\u001b[0m\u001b[0;34m)\u001b[0m\u001b[0;34m:\u001b[0m\u001b[0;34m\u001b[0m\u001b[0m\n\u001b[1;32m     26\u001b[0m             \u001b[0maction\u001b[0m \u001b[0;34m=\u001b[0m \u001b[0mpolicy\u001b[0m\u001b[0;34m(\u001b[0m\u001b[0mstate\u001b[0m\u001b[0;34m)\u001b[0m\u001b[0;34m\u001b[0m\u001b[0m\n\u001b[0;32m---> 27\u001b[0;31m             \u001b[0maction\u001b[0m\u001b[0;34m,\u001b[0m \u001b[0mstate\u001b[0m\u001b[0;34m,\u001b[0m \u001b[0mreward\u001b[0m\u001b[0;34m,\u001b[0m \u001b[0machieved\u001b[0m \u001b[0;34m=\u001b[0m \u001b[0menvironment\u001b[0m\u001b[0;34m.\u001b[0m\u001b[0mupdate\u001b[0m\u001b[0;34m(\u001b[0m\u001b[0maction\u001b[0m\u001b[0;34m)\u001b[0m\u001b[0;34m\u001b[0m\u001b[0m\n\u001b[0m\u001b[1;32m     28\u001b[0m             \u001b[0mtrace\u001b[0m\u001b[0;34m.\u001b[0m\u001b[0mappend\u001b[0m\u001b[0;34m(\u001b[0m\u001b[0;34m(\u001b[0m\u001b[0maction\u001b[0m\u001b[0;34m,\u001b[0m \u001b[0mnp\u001b[0m\u001b[0;34m.\u001b[0m\u001b[0mcopy\u001b[0m\u001b[0;34m(\u001b[0m\u001b[0mstate\u001b[0m\u001b[0;34m)\u001b[0m\u001b[0;34m,\u001b[0m \u001b[0mreward\u001b[0m\u001b[0;34m)\u001b[0m\u001b[0;34m)\u001b[0m\u001b[0;34m\u001b[0m\u001b[0m\n\u001b[1;32m     29\u001b[0m             \u001b[0;32mif\u001b[0m \u001b[0mself\u001b[0m\u001b[0;34m.\u001b[0m\u001b[0mabort\u001b[0m \u001b[0;32mand\u001b[0m \u001b[0machieved\u001b[0m\u001b[0;34m:\u001b[0m\u001b[0;34m\u001b[0m\u001b[0m\n",
      "\u001b[0;32m/Users/TheUser/Documents/University/safe_rl_benchmark/SafeRLBench/envs/linear_car.py\u001b[0m in \u001b[0;36mupdate\u001b[0;34m(self, action)\u001b[0m\n\u001b[1;32m     22\u001b[0m         \u001b[0mself\u001b[0m\u001b[0;34m.\u001b[0m\u001b[0mstate\u001b[0m\u001b[0;34m[\u001b[0m\u001b[0;36m0\u001b[0m\u001b[0;34m]\u001b[0m \u001b[0;34m+=\u001b[0m \u001b[0mself\u001b[0m\u001b[0;34m.\u001b[0m\u001b[0mstate\u001b[0m\u001b[0;34m[\u001b[0m\u001b[0;36m1\u001b[0m\u001b[0;34m]\u001b[0m\u001b[0;34m\u001b[0m\u001b[0m\n\u001b[1;32m     23\u001b[0m \u001b[0;34m\u001b[0m\u001b[0m\n\u001b[0;32m---> 24\u001b[0;31m         \u001b[0;32mreturn\u001b[0m\u001b[0;34m(\u001b[0m\u001b[0maction\u001b[0m\u001b[0;34m,\u001b[0m \u001b[0mself\u001b[0m\u001b[0;34m.\u001b[0m\u001b[0mstate\u001b[0m\u001b[0;34m,\u001b[0m \u001b[0mself\u001b[0m\u001b[0;34m.\u001b[0m\u001b[0m_reward\u001b[0m\u001b[0;34m(\u001b[0m\u001b[0;34m)\u001b[0m\u001b[0;34m,\u001b[0m \u001b[0mself\u001b[0m\u001b[0;34m.\u001b[0m\u001b[0m_achieved\u001b[0m\u001b[0;34m(\u001b[0m\u001b[0;34m)\u001b[0m\u001b[0;34m)\u001b[0m\u001b[0;34m\u001b[0m\u001b[0m\n\u001b[0m\u001b[1;32m     25\u001b[0m \u001b[0;34m\u001b[0m\u001b[0m\n\u001b[1;32m     26\u001b[0m     \u001b[0;32mdef\u001b[0m \u001b[0mreset\u001b[0m\u001b[0;34m(\u001b[0m\u001b[0mself\u001b[0m\u001b[0;34m)\u001b[0m\u001b[0;34m:\u001b[0m\u001b[0;34m\u001b[0m\u001b[0m\n",
      "\u001b[0;32m/Users/TheUser/Documents/University/safe_rl_benchmark/SafeRLBench/envs/linear_car.py\u001b[0m in \u001b[0;36m_achieved\u001b[0;34m(self)\u001b[0m\n\u001b[1;32m     31\u001b[0m \u001b[0;34m\u001b[0m\u001b[0m\n\u001b[1;32m     32\u001b[0m     \u001b[0;32mdef\u001b[0m \u001b[0m_achieved\u001b[0m\u001b[0;34m(\u001b[0m\u001b[0mself\u001b[0m\u001b[0;34m)\u001b[0m\u001b[0;34m:\u001b[0m\u001b[0;34m\u001b[0m\u001b[0m\n\u001b[0;32m---> 33\u001b[0;31m         \u001b[0;32mreturn\u001b[0m \u001b[0;34m(\u001b[0m\u001b[0;34m-\u001b[0m\u001b[0mself\u001b[0m\u001b[0;34m.\u001b[0m\u001b[0m_reward\u001b[0m\u001b[0;34m(\u001b[0m\u001b[0;34m)\u001b[0m \u001b[0;34m<\u001b[0m \u001b[0mself\u001b[0m\u001b[0;34m.\u001b[0m\u001b[0meps\u001b[0m\u001b[0;34m)\u001b[0m\u001b[0;34m\u001b[0m\u001b[0m\n\u001b[0m",
      "\u001b[0;32m/Users/TheUser/Documents/University/safe_rl_benchmark/SafeRLBench/envs/linear_car.py\u001b[0m in \u001b[0;36m_reward\u001b[0;34m(self)\u001b[0m\n\u001b[1;32m     28\u001b[0m \u001b[0;34m\u001b[0m\u001b[0m\n\u001b[1;32m     29\u001b[0m     \u001b[0;32mdef\u001b[0m \u001b[0m_reward\u001b[0m\u001b[0;34m(\u001b[0m\u001b[0mself\u001b[0m\u001b[0;34m)\u001b[0m\u001b[0;34m:\u001b[0m\u001b[0;34m\u001b[0m\u001b[0m\n\u001b[0;32m---> 30\u001b[0;31m         \u001b[0;32mreturn\u001b[0m \u001b[0;34m-\u001b[0m\u001b[0mnorm\u001b[0m\u001b[0;34m(\u001b[0m\u001b[0mself\u001b[0m\u001b[0;34m.\u001b[0m\u001b[0mstate\u001b[0m\u001b[0;34m[\u001b[0m\u001b[0;36m0\u001b[0m\u001b[0;34m]\u001b[0m \u001b[0;34m-\u001b[0m \u001b[0mself\u001b[0m\u001b[0;34m.\u001b[0m\u001b[0mgoal_position\u001b[0m\u001b[0;34m)\u001b[0m\u001b[0;34m-\u001b[0m\u001b[0mnorm\u001b[0m\u001b[0;34m(\u001b[0m\u001b[0mself\u001b[0m\u001b[0;34m.\u001b[0m\u001b[0mstate\u001b[0m\u001b[0;34m[\u001b[0m\u001b[0;36m1\u001b[0m\u001b[0;34m]\u001b[0m\u001b[0;34m)\u001b[0m\u001b[0;34m\u001b[0m\u001b[0m\n\u001b[0m\u001b[1;32m     31\u001b[0m \u001b[0;34m\u001b[0m\u001b[0m\n\u001b[1;32m     32\u001b[0m     \u001b[0;32mdef\u001b[0m \u001b[0m_achieved\u001b[0m\u001b[0;34m(\u001b[0m\u001b[0mself\u001b[0m\u001b[0;34m)\u001b[0m\u001b[0;34m:\u001b[0m\u001b[0;34m\u001b[0m\u001b[0m\n",
      "\u001b[0;31mKeyboardInterrupt\u001b[0m: "
     ]
    }
   ],
   "source": [
    "par, conv = optimizer.optimize(policy)"
   ]
  },
  {
   "cell_type": "code",
   "execution_count": null,
   "metadata": {
    "collapsed": true
   },
   "outputs": [],
   "source": [
    "rewards = optimizer.rewards\n",
    "plt.plot(np.arange(0,len(rewards)),rewards)\n",
    "plt.show()"
   ]
  },
  {
   "cell_type": "code",
   "execution_count": 8,
   "metadata": {
    "collapsed": false
   },
   "outputs": [
    {
     "name": "stdout",
     "output_type": "stream",
     "text": [
      "Best Parameter: [  5.54976  -6.31094 -10.8346 ]\n",
      "Best Reward: -27.5753021636\n"
     ]
    },
    {
     "data": {
      "image/png": "[encoded data removed]",
      "text/plain": [
       "<matplotlib.figure.Figure at 0x10d39bd30>"
      ]
     },
     "metadata": {},
     "output_type": "display_data"
    }
   ],
   "source": [
    "print(\"Best Parameter: \"+str(optimizer.best_parameter))\n",
    "print(\"Best Reward: \"+str(optimizer.best_reward))\n",
    "\n",
    "policy.setParameter(optimizer.best_parameter)\n",
    "trace, i, achieved = executer.rollout(policy)\n",
    "\n",
    "y = np.array([t[0] for t in [s[1] for s in trace]])\n",
    "x = np.arange(0,i+1)\n",
    "\n",
    "plt.plot(x,y)\n",
    "plt.show()"
   ]
  },
  {
   "cell_type": "code",
   "execution_count": null,
   "metadata": {
    "collapsed": true
   },
   "outputs": [],
   "source": []
  },
  {
   "cell_type": "code",
   "execution_count": null,
   "metadata": {
    "collapsed": true
   },
   "outputs": [],
   "source": []
  }
 ],
 "metadata": {
  "kernelspec": {
   "display_name": "Python 3",
   "language": "python",
   "name": "python3"
  },
  "language_info": {
   "codemirror_mode": {
    "name": "ipython",
    "version": 3
   },
   "file_extension": ".py",
   "mimetype": "text/x-python",
   "name": "python",
   "nbconvert_exporter": "python",
   "pygments_lexer": "ipython3",
   "version": "3.5.2"
  }
 },
 "nbformat": 4,
 "nbformat_minor": 1
}
