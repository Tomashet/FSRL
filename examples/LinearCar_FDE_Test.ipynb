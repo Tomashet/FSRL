{
 "cells": [
  {
   "cell_type": "code",
   "execution_count": 1,
   "metadata": {
    "collapsed": false
   },
   "outputs": [],
   "source": [
    "import matplotlib.pyplot as plt\n",
    "import numpy as np\n",
    "\n",
    "try:\n",
    "    import SafeRLBench as srb\n",
    "    import SafeRLBench.envs as envs\n",
    "    import SafeRLBench.tools as tools\n",
    "except ImportError:\n",
    "    import sys\n",
    "    import os\n",
    "    module_path = os.path.abspath('..')\n",
    "    sys.path.append(module_path)\n",
    "    import SafeRLBench as srb\n",
    "    import SafeRLBench.envs as envs\n",
    "    import SafeRLBench.tools as tools\n",
    "    \n",
    "np.set_printoptions(precision=5)"
   ]
  },
  {
   "cell_type": "code",
   "execution_count": 2,
   "metadata": {
    "collapsed": false
   },
   "outputs": [],
   "source": [
    "lincar = envs.LinearCar()\n",
    "\n",
    "#policy_par = lambda par: (lambda x: par[0] + par[1:].dot(x))\n",
    "\n",
    "policy_par = lambda par: (lambda x: np.exp(par[0] - par[1:].dot(x)) - 1.5)\n",
    "\n",
    "policy = tools.Policy(policy_par,(3))\n",
    "optimizer = srb.PolicyGradient(lincar, estimator='central_fd', max_it=10000, eps=0.000001,  \n",
    "                       parameter_domain=np.array([0,1]), rate = 1)\n",
    "optimizer.estimator.var = 0.5"
   ]
  },
  {
   "cell_type": "code",
   "execution_count": 4,
   "metadata": {
    "collapsed": false
   },
   "outputs": [
    {
     "name": "stdout",
     "output_type": "stream",
     "text": [
      "Start Central Finite Differences optimization:\n",
      "Initial Parameters: [ 0.94114  0.60722  0.45418]\n",
      "Run: 0  \tParameter: \t[ 0.94114  0.60722  0.45418]\tReward: -52.9157460471\n",
      "\t\tGradient: \t[-1.31196  2.28503  0.38968]\n",
      "Run: 100  \tParameter: \t[ 3.12663  2.69394  6.77838]\tReward: -19.7532633623\n",
      "\t\tGradient: \t[-0.2718   0.24693  0.05019]\n",
      "\t\tAverage Time: \t0.01s/step\n",
      "Run: 200  \tParameter: \t[ 3.29346  3.49628  9.21239]\tReward: -23.5563607626\n",
      "\t\tGradient: \t[ 0.32536 -0.28023  0.01005]\n",
      "\t\tAverage Time: \t0.01s/step\n",
      "Run: 300  \tParameter: \t[  3.82203   3.54379  10.91079]\tReward: -15.7635189346\n",
      "\t\tGradient: \t[ 0.07225 -0.07719  0.0164 ]\n",
      "\t\tAverage Time: \t0.01s/step\n",
      "Run: 400  \tParameter: \t[  3.86541   3.81986  12.36702]\tReward: -17.9724948041\n",
      "\t\tGradient: \t[ 0.27617 -0.27396  0.0091 ]\n",
      "\t\tAverage Time: \t0.01s/step\n",
      "Run: 500  \tParameter: \t[  4.21383   3.89737  13.57791]\tReward: -13.8991251701\n",
      "\t\tGradient: \t[ 0.0324  -0.04073  0.01257]\n",
      "\t\tAverage Time: \t0.01s/step\n",
      "Run: 600  \tParameter: \t[  4.25792   4.08459  14.6723 ]\tReward: -15.2087902827\n",
      "\t\tGradient: \t[ 0.2292  -0.23775  0.00882]\n",
      "\t\tAverage Time: \t0.01s/step\n",
      "Run: 700  \tParameter: \t[  4.31796   4.31445  15.6412 ]\tReward: -17.1117431039\n",
      "\t\tGradient: \t[ 0.27261 -0.26339  0.00589]\n",
      "\t\tAverage Time: \t0.01s/step\n",
      "Run: 800  \tParameter: \t[  4.44277   4.37847  16.519  ]\tReward: -15.9878355092\n",
      "\t\tGradient: \t[ 0.26545 -0.26197  0.00592]\n",
      "\t\tAverage Time: \t0.01s/step\n",
      "Run: 900  \tParameter: \t[  4.50895   4.59209  17.29001]\tReward: -17.6644496783\n",
      "\t\tGradient: \t[ 0.27805 -0.25793  0.00536]\n",
      "\t\tAverage Time: \t0.01s/step\n",
      "Run: 1000  \tParameter: \t[  4.70491   4.58347  18.0146 ]\tReward: -14.7635977722\n",
      "\t\tGradient: \t[ 0.25142 -0.25377  0.00565]\n",
      "\t\tAverage Time: \t0.01s/step\n",
      "Run: 1100  \tParameter: \t[  4.77052   4.68581  18.6845 ]\tReward: -15.0469683708\n",
      "\t\tGradient: \t[ 0.25525 -0.25249  0.00484]\n",
      "\t\tAverage Time: \t0.01s/step\n",
      "Run: 1200  \tParameter: \t[  4.78552   4.82461  19.30787]\tReward: -16.4684497644\n",
      "\t\tGradient: \t[ 0.26991 -0.25298  0.00467]\n",
      "\t\tAverage Time: \t0.01s/step\n",
      "Run: 1300  \tParameter: \t[  4.84538   4.92046  19.89105]\tReward: -16.7672566438\n",
      "\t\tGradient: \t[ 0.2734  -0.25203  0.00375]\n",
      "\t\tAverage Time: \t0.01s/step\n",
      "Run: 1400  \tParameter: \t[  4.98796   4.93913  20.44562]\tReward: -15.0602351446\n",
      "\t\tGradient: \t[ 0.25609 -0.24762  0.00411]\n",
      "\t\tAverage Time: \t0.01s/step\n",
      "Run: 1500  \tParameter: \t[  5.04065   5.04138  20.96765]\tReward: -15.5441069902\n",
      "\t\tGradient: \t[ 0.26043 -0.24666  0.00426]\n",
      "\t\tAverage Time: \t0.01s/step\n",
      "Run: 1600  \tParameter: \t[  5.13138   5.10024  21.46731]\tReward: -15.0342487941\n",
      "\t\tGradient: \t[ 0.25468 -0.24397  0.00412]\n",
      "\t\tAverage Time: \t0.01s/step\n",
      "Run: 1700  \tParameter: \t[  5.18401   5.19281  21.94674]\tReward: -15.4082890107\n",
      "\t\tGradient: \t[ 0.25764 -0.243    0.00366]\n",
      "\t\tAverage Time: \t0.01s/step\n",
      "Run: 1800  \tParameter: \t[  5.253     5.26573  22.40822]\tReward: -15.3503125812\n",
      "\t\tGradient: \t[ 0.25633 -0.24109  0.00341]\n",
      "\t\tAverage Time: \t0.01s/step\n",
      "Run: 1900  \tParameter: \t[  5.32693   5.32812  22.85352]\tReward: -15.1125480713\n",
      "\t\tGradient: \t[ 0.25325 -0.23898  0.00337]\n",
      "\t\tAverage Time: \t0.01s/step\n",
      "Run: 2000  \tParameter: \t[  5.40848   5.37823  23.28534]\tReward: -14.6476626133\n",
      "\t\tGradient: \t[ 0.24783 -0.23644  0.00359]\n",
      "\t\tAverage Time: \t0.01s/step\n",
      "Run: 2100  \tParameter: \t[  5.47083   5.44372  23.70504]\tReward: -14.6002903611\n",
      "\t\tGradient: \t[ 0.24679 -0.23483  0.00338]\n",
      "\t\tAverage Time: \t0.01s/step\n",
      "Run: 2200  \tParameter: \t[  5.54353   5.49854  24.11331]\tReward: -14.3127084225\n",
      "\t\tGradient: \t[ 0.24306 -0.23259  0.00332]\n",
      "\t\tAverage Time: \t0.01s/step\n",
      "Run: 2300  \tParameter: \t[  5.60864   5.55895  24.50899]\tReward: -14.1845493974\n",
      "\t\tGradient: \t[ 0.24097 -0.23074  0.00318]\n",
      "\t\tAverage Time: \t0.01s/step\n",
      "Run: 2400  \tParameter: \t[  5.67557   5.61446  24.89182]\tReward: -13.9851002015\n",
      "\t\tGradient: \t[ 0.23807 -0.22871  0.003  ]\n",
      "\t\tAverage Time: \t0.01s/step\n",
      "Run: 2500  \tParameter: \t[  5.744     5.66248  25.26116]\tReward: -13.6880735758\n",
      "\t\tGradient: \t[ 0.23417 -0.22642  0.00276]\n",
      "\t\tAverage Time: \t0.02s/step\n",
      "Run: 2600  \tParameter: \t[  5.81156   5.70272  25.61077]\tReward: -13.3168138465\n",
      "\t\tGradient: \t[ 0.22951 -0.22387  0.00247]\n",
      "\t\tAverage Time: \t0.01s/step\n",
      "Run: 2700  \tParameter: \t[  5.86864   5.74894  25.9469 ]\tReward: -13.1414214823\n",
      "\t\tGradient: \t[ 0.22701 -0.22203  0.00246]\n",
      "\t\tAverage Time: \t0.01s/step\n",
      "Run: 2800  \tParameter: \t[  5.92155   5.7975   26.27404]\tReward: -13.0437549842\n",
      "\t\tGradient: \t[ 0.22538 -0.22053  0.0024 ]\n",
      "\t\tAverage Time: \t0.01s/step\n",
      "Run: 2900  \tParameter: \t[  5.97256   5.84487  26.59267]\tReward: -12.9569768267\n",
      "\t\tGradient: \t[ 0.22391 -0.21912  0.00235]\n",
      "\t\tAverage Time: \t0.01s/step\n",
      "Run: 3000  \tParameter: \t[  6.02169   5.89054  26.90297]\tReward: -12.8749703678\n",
      "\t\tGradient: \t[ 0.22252 -0.21779  0.0023 ]\n",
      "\t\tAverage Time: \t0.01s/step\n",
      "Run: 3100  \tParameter: \t[  6.0692    5.93473  27.20576]\tReward: -12.7969685131\n",
      "\t\tGradient: \t[ 0.2212  -0.21651  0.00225]\n",
      "\t\tAverage Time: \t0.01s/step\n",
      "Run: 3200  \tParameter: \t[  6.11669   5.97897  27.5028 ]\tReward: -12.7215487737\n",
      "\t\tGradient: \t[ 0.21985 -0.21521  0.0022 ]\n",
      "\t\tAverage Time: \t0.01s/step\n",
      "Run: 3300  \tParameter: \t[  6.16453   6.02351  27.79459]\tReward: -12.6475168732\n",
      "\t\tGradient: \t[ 0.21843 -0.21386  0.00215]\n",
      "\t\tAverage Time: \t0.01s/step\n",
      "Run: 3400  \tParameter: \t[  6.21221   6.06791  28.07982]\tReward: -12.5754185352\n",
      "\t\tGradient: \t[ 0.21696 -0.2125   0.00205]\n",
      "\t\tAverage Time: \t0.01s/step\n",
      "Run: 3500  \tParameter: \t[  6.25932   6.11177  28.3576 ]\tReward: -12.5068030203\n",
      "\t\tGradient: \t[ 0.21548 -0.21111  0.00196]\n",
      "\t\tAverage Time: \t0.01s/step\n",
      "Run: 3600  \tParameter: \t[  6.30573   6.15498  28.62869]\tReward: -12.4408328314\n",
      "\t\tGradient: \t[ 0.21401 -0.20972  0.0019 ]\n",
      "\t\tAverage Time: \t0.01s/step\n",
      "Run: 3700  \tParameter: \t[  6.35143   6.19754  28.8956 ]\tReward: -12.3768328333\n",
      "\t\tGradient: \t[ 0.21253 -0.20834  0.00187]\n",
      "\t\tAverage Time: \t0.01s/step\n",
      "Run: 3800  \tParameter: \t[  6.40317   6.2322   29.15901]\tReward: -12.1651696508\n",
      "\t\tGradient: \t[ 0.19603 -0.1923   0.00191]\n",
      "\t\tAverage Time: \t0.01s/step\n",
      "Run: 3900  \tParameter: \t[  6.46686   6.21019  29.42519]\tReward: -11.2404882998\n",
      "\t\tGradient: \t[ 0.10957 -0.1084   0.0024 ]\n",
      "\t\tAverage Time: \t0.01s/step\n",
      "Run: 4000  \tParameter: \t[  6.49829   6.18753  29.69288]\tReward: -10.6636538881\n",
      "\t\tGradient: \t[ 0.05621 -0.05562  0.00249]\n",
      "\t\tAverage Time: \t0.01s/step\n",
      "Run: 4100  \tParameter: \t[  6.51214   6.18889  29.94615]\tReward: -10.5120907946\n",
      "\t\tGradient: \t[ 0.04467 -0.04378  0.00239]\n",
      "\t\tAverage Time: \t0.01s/step\n",
      "Run: 4200  \tParameter: \t[  6.53766   6.20408  30.18871]\tReward: -10.3881782043\n",
      "\t\tGradient: \t[ 0.03491 -0.03387  0.00235]\n",
      "\t\tAverage Time: \t0.01s/step\n",
      "Run: 4300  \tParameter: \t[  6.57461   6.22303  30.42999]\tReward: -10.195294604\n",
      "\t\tGradient: \t[ 0.01726 -0.01635  0.00236]\n",
      "\t\tAverage Time: \t0.01s/step\n",
      "Run: 4400  \tParameter: \t[  6.61539   6.25034  30.66851]\tReward: -10.0524204388\n",
      "\t\tGradient: \t[ 0.00415 -0.00334  0.00236]\n",
      "\t\tAverage Time: \t0.01s/step\n",
      "Run: 4500  \tParameter: \t[  6.65609   6.28728  30.9034 ]\tReward: -10.00372191\n",
      "\t\tGradient: \t[ 0.0007   0.00011  0.00233]\n",
      "\t\tAverage Time: \t0.01s/step\n",
      "Run: 4600  \tParameter: \t[  6.69778   6.32845  31.13495]\tReward: -9.98645061878\n",
      "\t\tGradient: \t[ 0.00043  0.00041  0.0023 ]\n",
      "\t\tAverage Time: \t0.01s/step\n",
      "Run: 4700  \tParameter: \t[  6.74044   6.37092  31.36237]\tReward: -9.97313833058\n",
      "\t\tGradient: \t[ 0.00043  0.00043  0.00223]\n",
      "\t\tAverage Time: \t0.01s/step\n",
      "Run: 4800  \tParameter: \t[  6.78313   6.41344  31.58111]\tReward: -9.96201627942\n",
      "\t\tGradient: \t[ 0.00042  0.00042  0.00214]\n",
      "\t\tAverage Time: \t0.01s/step\n",
      "Run: 4900  \tParameter: \t[  6.82509   6.45526  31.79135]\tReward: -9.95288155272\n",
      "\t\tGradient: \t[ 0.00041  0.00041  0.00207]\n",
      "\t\tAverage Time: \t0.01s/step\n",
      "Run: 5000  \tParameter: \t[  6.86614   6.49617  31.9977 ]\tReward: -9.94396533456\n",
      "\t\tGradient: \t[ 0.00041  0.00041  0.00205]\n",
      "\t\tAverage Time: \t0.01s/step\n",
      "Run: 5100  \tParameter: \t[  6.90666   6.53655  32.20231]\tReward: -9.93512784791\n",
      "\t\tGradient: \t[ 0.0004   0.0004   0.00204]\n",
      "\t\tAverage Time: \t0.01s/step\n",
      "Run: 5200  \tParameter: \t[  6.94681   6.57656  32.40523]\tReward: -9.92645827967\n",
      "\t\tGradient: \t[ 0.0004   0.0004   0.00202]\n",
      "\t\tAverage Time: \t0.01s/step\n",
      "Run: 5300  \tParameter: \t[  6.98664   6.61624  32.60647]\tReward: -9.91796824242\n",
      "\t\tGradient: \t[ 0.0004  0.0004  0.002 ]\n",
      "\t\tAverage Time: \t0.01s/step\n",
      "Run: 5400  \tParameter: \t[  7.02617   6.65564  32.80609]\tReward: -9.90966109576\n",
      "\t\tGradient: \t[ 0.00039  0.00039  0.00199]\n",
      "\t\tAverage Time: \t0.01s/step\n",
      "Run: 5500  \tParameter: \t[  7.06543   6.69475  33.00411]\tReward: -9.90153592258\n",
      "\t\tGradient: \t[ 0.00039  0.00039  0.00197]\n",
      "\t\tAverage Time: \t0.01s/step\n",
      "Run: 5600  \tParameter: \t[  7.10443   6.73361  33.20058]\tReward: -9.89358963654\n",
      "\t\tGradient: \t[ 0.00039  0.00039  0.00196]\n",
      "\t\tAverage Time: \t0.01s/step\n",
      "Run: 5700  \tParameter: \t[  7.14318   6.77222  33.39553]\tReward: -9.88581810982\n",
      "\t\tGradient: \t[ 0.00039  0.00038  0.00194]\n",
      "\t\tAverage Time: \t0.01s/step\n",
      "Run: 5800  \tParameter: \t[  7.18168   6.81059  33.589  ]\tReward: -9.8782167798\n",
      "\t\tGradient: \t[ 0.00038  0.00038  0.00193]\n",
      "\t\tAverage Time: \t0.01s/step\n",
      "Run: 5900  \tParameter: \t[  7.21995   6.84873  33.78103]\tReward: -9.87078097648\n",
      "\t\tGradient: \t[ 0.00038  0.00038  0.00191]\n",
      "\t\tAverage Time: \t0.01s/step\n",
      "Run: 6000  \tParameter: \t[  7.258     6.88665  33.97164]\tReward: -9.86350609872\n",
      "\t\tGradient: \t[ 0.00038  0.00038  0.0019 ]\n",
      "\t\tAverage Time: \t0.01s/step\n",
      "Run: 6100  \tParameter: \t[  7.29582   6.92434  34.16088]\tReward: -9.8563877086\n",
      "\t\tGradient: \t[ 0.00038  0.00038  0.00189]\n",
      "\t\tAverage Time: \t0.01s/step\n",
      "Run: 6200  \tParameter: \t[  7.33344   6.96183  34.34877]\tReward: -9.84942158114\n",
      "\t\tGradient: \t[ 0.00038  0.00037  0.00187]\n",
      "\t\tAverage Time: \t0.01s/step\n",
      "Run: 6300  \tParameter: \t[  7.37001   6.99829  34.53532]\tReward: -9.84248450051\n",
      "\t\tGradient: \t[ 0.00035  0.00035  0.00186]\n",
      "\t\tAverage Time: \t0.01s/step\n",
      "Run: 6400  \tParameter: \t[  7.40392   7.03207  34.72037]\tReward: -9.83473899033\n",
      "\t\tGradient: \t[ 0.00033  0.00033  0.00184]\n",
      "\t\tAverage Time: \t0.01s/step\n",
      "Run: 6500  \tParameter: \t[  7.43601   7.064    34.90375]\tReward: -9.82648196868\n",
      "\t\tGradient: \t[ 0.00031  0.00031  0.00183]\n",
      "\t\tAverage Time: \t0.01s/step\n",
      "Run: 6600  \tParameter: \t[  7.46747   7.09532  35.08539]\tReward: -9.81842901222\n",
      "\t\tGradient: \t[ 0.00032  0.00032  0.00181]\n",
      "\t\tAverage Time: \t0.01s/step\n",
      "Run: 6700  \tParameter: \t[  7.49996   7.1277   35.26538]\tReward: -9.81117235136\n",
      "\t\tGradient: \t[ 0.00033  0.00033  0.00179]\n",
      "\t\tAverage Time: \t0.01s/step\n",
      "Run: 6800  \tParameter: \t[  7.53308   7.16073  35.44388]\tReward: -9.80443728812\n",
      "\t\tGradient: \t[ 0.00033  0.00033  0.00178]\n",
      "\t\tAverage Time: \t0.01s/step\n",
      "Run: 6900  \tParameter: \t[  7.56652   7.19408  35.62097]\tReward: -9.79806365662\n",
      "\t\tGradient: \t[ 0.00034  0.00033  0.00176]\n",
      "\t\tAverage Time: \t0.01s/step\n",
      "Run: 7000  \tParameter: \t[  7.60006   7.22755  35.79673]\tReward: -9.7919513543\n",
      "\t\tGradient: \t[ 0.00034  0.00033  0.00175]\n",
      "\t\tAverage Time: \t0.01s/step\n",
      "Run: 7100  \tParameter: \t[  7.63359   7.26101  35.97122]\tReward: -9.78603765286\n",
      "\t\tGradient: \t[ 0.00033  0.00033  0.00174]\n",
      "\t\tAverage Time: \t0.01s/step\n",
      "Run: 7200  \tParameter: \t[  7.66703   7.29438  36.14446]\tReward: -9.78028287495\n",
      "\t\tGradient: \t[ 0.00033  0.00033  0.00173]\n",
      "\t\tAverage Time: \t0.01s/step\n",
      "Run: 7300  \tParameter: \t[  7.70034   7.32761  36.31649]\tReward: -9.77466152731\n",
      "\t\tGradient: \t[ 0.00033  0.00033  0.00171]\n",
      "\t\tAverage Time: \t0.01s/step\n",
      "Run: 7400  \tParameter: \t[  7.73349   7.36069  36.48734]\tReward: -9.76915686232\n",
      "\t\tGradient: \t[ 0.00033  0.00033  0.0017 ]\n",
      "\t\tAverage Time: \t0.01s/step\n",
      "Run: 7500  \tParameter: \t[  7.76646   7.39359  36.65704]\tReward: -9.76375755307\n",
      "\t\tGradient: \t[ 0.00033  0.00033  0.00169]\n",
      "\t\tAverage Time: \t0.01s/step\n",
      "Run: 7600  \tParameter: \t[  7.79924   7.42631  36.8256 ]\tReward: -9.75845565942\n",
      "\t\tGradient: \t[ 0.00033  0.00033  0.00168]\n",
      "\t\tAverage Time: \t0.01s/step\n",
      "Run: 7700  \tParameter: \t[  7.83184   7.45884  36.99305]\tReward: -9.75324538021\n",
      "\t\tGradient: \t[ 0.00032  0.00032  0.00167]\n",
      "\t\tAverage Time: \t0.01s/step\n",
      "Run: 7800  \tParameter: \t[  7.86424   7.49118  37.15941]\tReward: -9.7481222843\n",
      "\t\tGradient: \t[ 0.00032  0.00032  0.00166]\n",
      "\t\tAverage Time: \t0.01s/step\n",
      "Run: 7900  \tParameter: \t[  7.89646   7.52333  37.32469]\tReward: -9.74308283407\n",
      "\t\tGradient: \t[ 0.00032  0.00032  0.00165]\n",
      "\t\tAverage Time: \t0.01s/step\n",
      "Run: 8000  \tParameter: \t[  7.92848   7.55529  37.48892]\tReward: -9.73812408814\n",
      "\t\tGradient: \t[ 0.00032  0.00032  0.00164]\n",
      "\t\tAverage Time: \t0.01s/step\n",
      "Run: 8100  \tParameter: \t[  7.96032   7.58707  37.65211]\tReward: -9.73324351452\n",
      "\t\tGradient: \t[ 0.00032  0.00032  0.00163]\n",
      "\t\tAverage Time: \t0.01s/step\n",
      "Run: 8200  \tParameter: \t[  7.99198   7.61866  37.81427]\tReward: -9.72843887222\n",
      "\t\tGradient: \t[ 0.00032  0.00031  0.00162]\n",
      "\t\tAverage Time: \t0.01s/step\n",
      "Run: 8300  \tParameter: \t[  8.02345   7.65007  37.97543]\tReward: -9.72370813552\n",
      "\t\tGradient: \t[ 0.00031  0.00031  0.00161]\n",
      "\t\tAverage Time: \t0.01s/step\n",
      "Run: 8400  \tParameter: \t[  8.05475   7.6813   38.1356 ]\tReward: -9.71904944498\n",
      "\t\tGradient: \t[ 0.00031  0.00031  0.0016 ]\n",
      "\t\tAverage Time: \t0.01s/step\n",
      "Run: 8500  \tParameter: \t[  8.08568   7.71217  38.29479]\tReward: -9.71443154259\n",
      "\t\tGradient: \t[ 0.00031  0.00031  0.00159]\n",
      "\t\tAverage Time: \t0.01s/step\n",
      "Run: 8600  \tParameter: \t[  8.11608   7.7425   38.45299]\tReward: -9.70974543463\n",
      "\t\tGradient: \t[ 0.0003   0.0003   0.00158]\n",
      "\t\tAverage Time: \t0.01s/step\n",
      "Run: 8700  \tParameter: \t[  8.14609   7.77244  38.61018]\tReward: -9.70504151617\n",
      "\t\tGradient: \t[ 0.0003   0.0003   0.00157]\n",
      "\t\tAverage Time: \t0.01s/step\n",
      "Run: 8800  \tParameter: \t[  8.17579   7.80207  38.76637]\tReward: -9.700355783\n",
      "\t\tGradient: \t[ 0.0003   0.00029  0.00156]\n",
      "\t\tAverage Time: \t0.01s/step\n",
      "Run: 8900  \tParameter: \t[  8.20524   7.83145  38.92156]\tReward: -9.69571019562\n",
      "\t\tGradient: \t[ 0.00029  0.00029  0.00155]\n",
      "\t\tAverage Time: \t0.01s/step\n",
      "Run: 9000  \tParameter: \t[  8.23459   7.86072  39.07577]\tReward: -9.69112955084\n",
      "\t\tGradient: \t[ 0.00029  0.00029  0.00154]\n",
      "\t\tAverage Time: \t0.01s/step\n",
      "Run: 9100  \tParameter: \t[  8.26409   7.89015  39.22903]\tReward: -9.68672610474\n",
      "\t\tGradient: \t[ 0.0003   0.00029  0.00153]\n",
      "\t\tAverage Time: \t0.01s/step\n",
      "Run: 9200  \tParameter: \t[  8.29363   7.91962  39.38138]\tReward: -9.68246760609\n",
      "\t\tGradient: \t[ 0.0003   0.00029  0.00152]\n",
      "\t\tAverage Time: \t0.01s/step\n",
      "Run: 9300  \tParameter: \t[  8.32314   7.94906  39.53284]\tReward: -9.67832021634\n",
      "\t\tGradient: \t[ 0.00029  0.00029  0.00151]\n",
      "\t\tAverage Time: \t0.01s/step\n",
      "Run: 9400  \tParameter: \t[  8.35258   7.97844  39.68345]\tReward: -9.67426256325\n",
      "\t\tGradient: \t[ 0.00029  0.00029  0.0015 ]\n",
      "\t\tAverage Time: \t0.01s/step\n",
      "Run: 9500  \tParameter: \t[  8.38191   8.00771  39.83321]\tReward: -9.67028092588\n",
      "\t\tGradient: \t[ 0.00029  0.00029  0.00149]\n",
      "\t\tAverage Time: \t0.01s/step\n",
      "Run: 9600  \tParameter: \t[  8.41113   8.03686  39.98214]\tReward: -9.66636630528\n",
      "\t\tGradient: \t[ 0.00029  0.00029  0.00149]\n",
      "\t\tAverage Time: \t0.01s/step\n",
      "Run: 9700  \tParameter: \t[  8.44022   8.06589  40.13025]\tReward: -9.66251263386\n",
      "\t\tGradient: \t[ 0.00029  0.00029  0.00148]\n",
      "\t\tAverage Time: \t0.01s/step\n",
      "Run: 9800  \tParameter: \t[  8.46917   8.09479  40.27757]\tReward: -9.65871567569\n",
      "\t\tGradient: \t[ 0.00029  0.00029  0.00147]\n",
      "\t\tAverage Time: \t0.01s/step\n",
      "Run: 9900  \tParameter: \t[  8.49799   8.12355  40.42409]\tReward: -9.65497234828\n",
      "\t\tGradient: \t[ 0.00029  0.00029  0.00146]\n",
      "\t\tAverage Time: \t0.01s/step\n",
      "Finished\n"
     ]
    }
   ],
   "source": [
    "par, conv = optimizer.optimize(policy)"
   ]
  },
  {
   "cell_type": "code",
   "execution_count": 5,
   "metadata": {
    "collapsed": false
   },
   "outputs": [
    {
     "data": {
      "image/png": "[encoded data removed]",
      "text/plain": [
       "<matplotlib.figure.Figure at 0x104ff7a90>"
      ]
     },
     "metadata": {},
     "output_type": "display_data"
    }
   ],
   "source": [
    "rewards = optimizer.rewards\n",
    "plt.plot(np.arange(0,len(rewards)),rewards)\n",
    "plt.show()"
   ]
  },
  {
   "cell_type": "code",
   "execution_count": 6,
   "metadata": {
    "collapsed": false
   },
   "outputs": [
    {
     "name": "stdout",
     "output_type": "stream",
     "text": [
      "Best Parameter:\t[  8.52639   8.15188  40.56838]\n",
      "Best Reward: \t-9.65131697556\n"
     ]
    },
    {
     "data": {
      "image/png": "[encoded data removed]",
      "text/plain": [
       "<matplotlib.figure.Figure at 0x1086d9dd8>"
      ]
     },
     "metadata": {},
     "output_type": "display_data"
    }
   ],
   "source": [
    "print(\"Best Parameter:\\t\"+str(optimizer.best_parameter))\n",
    "print(\"Best Reward: \\t\"+str(optimizer.best_reward))\n",
    "\n",
    "policy.setParameter(optimizer.best_parameter)\n",
    "trace = lincar.rollout(policy)\n",
    "\n",
    "y = np.array([t[0] for t in [s[1] for s in trace]])\n",
    "x = np.arange(0,len(trace))\n",
    "\n",
    "plt.plot(x,y)\n",
    "plt.show()"
   ]
  },
  {
   "cell_type": "code",
   "execution_count": 7,
   "metadata": {
    "collapsed": false,
    "scrolled": false
   },
   "outputs": [],
   "source": [
    "policy_par = lambda par: (lambda x: par[0] + par[1:].dot(x))\n",
    "\n",
    "#policy_par = lambda par: (lambda x: np.exp(par[0] - par[1:].dot(x)) - 1.5)\n",
    "\n",
    "policy = tools.Policy(policy_par,(3))\n",
    "optimizer = srb.PolicyGradient(lincar, estimator='forward_fd', max_it=1000, eps=0.0001,  \n",
    "                       parameter_domain=np.array([-1,1]), rate = 0.2)\n",
    "optimizer.estimator.var = 0.5"
   ]
  },
  {
   "cell_type": "code",
   "execution_count": 8,
   "metadata": {
    "collapsed": true
   },
   "outputs": [
    {
     "ename": "KeyboardInterrupt",
     "evalue": "",
     "output_type": "error",
     "traceback": [
      "\u001b[0;31m---------------------------------------------------------------------------\u001b[0m",
      "\u001b[0;31mKeyboardInterrupt\u001b[0m                         Traceback (most recent call last)",
      "\u001b[0;32m<ipython-input-8-bfa720d7696d>\u001b[0m in \u001b[0;36m<module>\u001b[0;34m()\u001b[0m\n\u001b[0;32m----> 1\u001b[0;31m \u001b[0mpar\u001b[0m\u001b[0;34m,\u001b[0m \u001b[0mconv\u001b[0m \u001b[0;34m=\u001b[0m \u001b[0moptimizer\u001b[0m\u001b[0;34m.\u001b[0m\u001b[0moptimize\u001b[0m\u001b[0;34m(\u001b[0m\u001b[0mpolicy\u001b[0m\u001b[0;34m)\u001b[0m\u001b[0;34m\u001b[0m\u001b[0m\n\u001b[0m",
      "\u001b[0;32m/Users/TheUser/Documents/University/Safe-RL-Benchmark/SafeRLBench/policygradient.py\u001b[0m in \u001b[0;36moptimize\u001b[0;34m(self, policy)\u001b[0m\n\u001b[1;32m     45\u001b[0m         \u001b[0mestimator\u001b[0m \u001b[0;34m=\u001b[0m \u001b[0mself\u001b[0m\u001b[0;34m.\u001b[0m\u001b[0mestimator\u001b[0m\u001b[0;34m\u001b[0m\u001b[0m\n\u001b[1;32m     46\u001b[0m \u001b[0;34m\u001b[0m\u001b[0m\n\u001b[0;32m---> 47\u001b[0;31m         \u001b[0mparameter\u001b[0m \u001b[0;34m=\u001b[0m \u001b[0mself\u001b[0m\u001b[0;34m.\u001b[0m\u001b[0m_initialize_parameters\u001b[0m\u001b[0;34m(\u001b[0m\u001b[0mpolicy\u001b[0m\u001b[0;34m)\u001b[0m\u001b[0;34m\u001b[0m\u001b[0m\n\u001b[0m\u001b[1;32m     48\u001b[0m \u001b[0;34m\u001b[0m\u001b[0m\n\u001b[1;32m     49\u001b[0m         \u001b[0mconverged\u001b[0m \u001b[0;34m=\u001b[0m \u001b[0;32mFalse\u001b[0m\u001b[0;34m\u001b[0m\u001b[0m\n",
      "\u001b[0;32m/Users/TheUser/Documents/University/Safe-RL-Benchmark/SafeRLBench/policygradient.py\u001b[0m in \u001b[0;36m_initialize_parameters\u001b[0;34m(self, policy)\u001b[0m\n\u001b[1;32m    105\u001b[0m             \u001b[0mparameter\u001b[0m \u001b[0;34m=\u001b[0m \u001b[0mrand\u001b[0m\u001b[0;34m(\u001b[0m\u001b[0mself\u001b[0m\u001b[0;34m.\u001b[0m\u001b[0mpar_dim\u001b[0m\u001b[0;34m)\u001b[0m \u001b[0;34m*\u001b[0m \u001b[0;34m(\u001b[0m\u001b[0mpard\u001b[0m\u001b[0;34m[\u001b[0m\u001b[0;36m1\u001b[0m\u001b[0;34m]\u001b[0m \u001b[0;34m-\u001b[0m \u001b[0mpard\u001b[0m\u001b[0;34m[\u001b[0m\u001b[0;36m0\u001b[0m\u001b[0;34m]\u001b[0m\u001b[0;34m)\u001b[0m \u001b[0;34m+\u001b[0m \u001b[0mpard\u001b[0m\u001b[0;34m[\u001b[0m\u001b[0;36m0\u001b[0m\u001b[0;34m]\u001b[0m\u001b[0;34m\u001b[0m\u001b[0m\n\u001b[1;32m    106\u001b[0m \u001b[0;34m\u001b[0m\u001b[0m\n\u001b[0;32m--> 107\u001b[0;31m             \u001b[0mgrad\u001b[0m\u001b[0;34m,\u001b[0m \u001b[0m_\u001b[0m \u001b[0;34m=\u001b[0m \u001b[0mself\u001b[0m\u001b[0;34m.\u001b[0m\u001b[0mestimator\u001b[0m\u001b[0;34m(\u001b[0m\u001b[0mpolicy\u001b[0m\u001b[0;34m,\u001b[0m \u001b[0mparameter\u001b[0m\u001b[0;34m)\u001b[0m\u001b[0;34m\u001b[0m\u001b[0m\n\u001b[0m\u001b[1;32m    108\u001b[0m \u001b[0;34m\u001b[0m\u001b[0m\n\u001b[1;32m    109\u001b[0m             \u001b[0;32mif\u001b[0m \u001b[0;34m(\u001b[0m\u001b[0mnorm\u001b[0m\u001b[0;34m(\u001b[0m\u001b[0mgrad\u001b[0m\u001b[0;34m)\u001b[0m \u001b[0;34m>=\u001b[0m \u001b[0mself\u001b[0m\u001b[0;34m.\u001b[0m\u001b[0meps\u001b[0m\u001b[0;34m)\u001b[0m\u001b[0;34m:\u001b[0m\u001b[0;34m\u001b[0m\u001b[0m\n",
      "\u001b[0;32m/Users/TheUser/Documents/University/Safe-RL-Benchmark/SafeRLBench/policygradient.py\u001b[0m in \u001b[0;36m__call__\u001b[0;34m(self, policy, parameter)\u001b[0m\n\u001b[1;32m    125\u001b[0m \u001b[0;34m\u001b[0m\u001b[0m\n\u001b[1;32m    126\u001b[0m     \u001b[0;32mdef\u001b[0m \u001b[0m__call__\u001b[0m\u001b[0;34m(\u001b[0m\u001b[0mself\u001b[0m\u001b[0;34m,\u001b[0m \u001b[0mpolicy\u001b[0m\u001b[0;34m,\u001b[0m \u001b[0mparameter\u001b[0m\u001b[0;34m)\u001b[0m\u001b[0;34m:\u001b[0m\u001b[0;34m\u001b[0m\u001b[0m\n\u001b[0;32m--> 127\u001b[0;31m         \u001b[0;32mreturn\u001b[0m \u001b[0mself\u001b[0m\u001b[0;34m.\u001b[0m\u001b[0m_estimate_gradient\u001b[0m\u001b[0;34m(\u001b[0m\u001b[0mpolicy\u001b[0m\u001b[0;34m,\u001b[0m \u001b[0mparameter\u001b[0m\u001b[0;34m)\u001b[0m\u001b[0;34m\u001b[0m\u001b[0m\n\u001b[0m\u001b[1;32m    128\u001b[0m \u001b[0;34m\u001b[0m\u001b[0m\n\u001b[1;32m    129\u001b[0m \u001b[0;34m\u001b[0m\u001b[0m\n",
      "\u001b[0;32m/Users/TheUser/Documents/University/Safe-RL-Benchmark/SafeRLBench/policygradient.py\u001b[0m in \u001b[0;36m_estimate_gradient\u001b[0;34m(self, policy, parameter)\u001b[0m\n\u001b[1;32m    153\u001b[0m \u001b[0;34m\u001b[0m\u001b[0m\n\u001b[1;32m    154\u001b[0m             \u001b[0mpolicy\u001b[0m\u001b[0;34m.\u001b[0m\u001b[0msetParameter\u001b[0m\u001b[0;34m(\u001b[0m\u001b[0mparameter\u001b[0m \u001b[0;34m+\u001b[0m \u001b[0mvariation\u001b[0m\u001b[0;34m)\u001b[0m\u001b[0;34m\u001b[0m\u001b[0m\n\u001b[0;32m--> 155\u001b[0;31m             \u001b[0mtrace_n\u001b[0m \u001b[0;34m=\u001b[0m \u001b[0menv\u001b[0m\u001b[0;34m.\u001b[0m\u001b[0mrollout\u001b[0m\u001b[0;34m(\u001b[0m\u001b[0mpolicy\u001b[0m\u001b[0;34m)\u001b[0m\u001b[0;34m\u001b[0m\u001b[0m\n\u001b[0m\u001b[1;32m    156\u001b[0m \u001b[0;34m\u001b[0m\u001b[0m\n\u001b[1;32m    157\u001b[0m             \u001b[0mJn\u001b[0m \u001b[0;34m=\u001b[0m \u001b[0msum\u001b[0m\u001b[0;34m(\u001b[0m\u001b[0;34m[\u001b[0m\u001b[0mx\u001b[0m\u001b[0;34m[\u001b[0m\u001b[0;36m2\u001b[0m\u001b[0;34m]\u001b[0m \u001b[0;32mfor\u001b[0m \u001b[0mx\u001b[0m \u001b[0;32min\u001b[0m \u001b[0mtrace\u001b[0m\u001b[0;34m]\u001b[0m\u001b[0;34m)\u001b[0m \u001b[0;34m/\u001b[0m \u001b[0mlen\u001b[0m\u001b[0;34m(\u001b[0m\u001b[0mtrace_n\u001b[0m\u001b[0;34m)\u001b[0m\u001b[0;34m\u001b[0m\u001b[0m\n",
      "\u001b[0;32m/Users/TheUser/Documents/University/Safe-RL-Benchmark/SafeRLBench/base.py\u001b[0m in \u001b[0;36mrollout\u001b[0;34m(self, policy)\u001b[0m\n\u001b[1;32m     93\u001b[0m         \u001b[0mtrace\u001b[0m\u001b[0;34m:\u001b[0m \u001b[0mlist\u001b[0m \u001b[0mof\u001b[0m \u001b[0;34m(\u001b[0m\u001b[0maction\u001b[0m\u001b[0;34m,\u001b[0m \u001b[0mstate\u001b[0m\u001b[0;34m,\u001b[0m \u001b[0mreward\u001b[0m\u001b[0;34m)\u001b[0m\u001b[0;34m-\u001b[0m\u001b[0mtuples\u001b[0m\u001b[0;34m\u001b[0m\u001b[0m\n\u001b[1;32m     94\u001b[0m         \"\"\"\n\u001b[0;32m---> 95\u001b[0;31m         \u001b[0mtrace\u001b[0m \u001b[0;34m=\u001b[0m \u001b[0mself\u001b[0m\u001b[0;34m.\u001b[0m\u001b[0m_rollout\u001b[0m\u001b[0;34m(\u001b[0m\u001b[0mpolicy\u001b[0m\u001b[0;34m)\u001b[0m\u001b[0;34m\u001b[0m\u001b[0m\n\u001b[0m\u001b[1;32m     96\u001b[0m         \u001b[0;32mreturn\u001b[0m \u001b[0mtrace\u001b[0m\u001b[0;34m\u001b[0m\u001b[0m\n\u001b[1;32m     97\u001b[0m \u001b[0;34m\u001b[0m\u001b[0m\n",
      "\u001b[0;32m/Users/TheUser/Documents/University/Safe-RL-Benchmark/SafeRLBench/base.py\u001b[0m in \u001b[0;36m_rollout\u001b[0;34m(self, policy)\u001b[0m\n\u001b[1;32m     44\u001b[0m         \u001b[0;32mfor\u001b[0m \u001b[0mn\u001b[0m \u001b[0;32min\u001b[0m \u001b[0mrange\u001b[0m\u001b[0;34m(\u001b[0m\u001b[0mself\u001b[0m\u001b[0;34m.\u001b[0m\u001b[0mhorizon\u001b[0m\u001b[0;34m)\u001b[0m\u001b[0;34m:\u001b[0m\u001b[0;34m\u001b[0m\u001b[0m\n\u001b[1;32m     45\u001b[0m             \u001b[0maction\u001b[0m \u001b[0;34m=\u001b[0m \u001b[0mpolicy\u001b[0m\u001b[0;34m(\u001b[0m\u001b[0mself\u001b[0m\u001b[0;34m.\u001b[0m\u001b[0mstate\u001b[0m\u001b[0;34m)\u001b[0m\u001b[0;34m\u001b[0m\u001b[0m\n\u001b[0;32m---> 46\u001b[0;31m             \u001b[0mtrace\u001b[0m\u001b[0;34m.\u001b[0m\u001b[0mappend\u001b[0m\u001b[0;34m(\u001b[0m\u001b[0mself\u001b[0m\u001b[0;34m.\u001b[0m\u001b[0mupdate\u001b[0m\u001b[0;34m(\u001b[0m\u001b[0maction\u001b[0m\u001b[0;34m)\u001b[0m\u001b[0;34m)\u001b[0m\u001b[0;34m\u001b[0m\u001b[0m\n\u001b[0m\u001b[1;32m     47\u001b[0m         \u001b[0;32mreturn\u001b[0m \u001b[0mtrace\u001b[0m\u001b[0;34m\u001b[0m\u001b[0m\n\u001b[1;32m     48\u001b[0m \u001b[0;34m\u001b[0m\u001b[0m\n",
      "\u001b[0;32m/Users/TheUser/Documents/University/Safe-RL-Benchmark/SafeRLBench/base.py\u001b[0m in \u001b[0;36mupdate\u001b[0;34m(self, action)\u001b[0m\n\u001b[1;32m     68\u001b[0m                 \u001b[0mreward\u001b[0m \u001b[0;32mfor\u001b[0m \u001b[0mresulting\u001b[0m \u001b[0mstate\u001b[0m\u001b[0;34m\u001b[0m\u001b[0m\n\u001b[1;32m     69\u001b[0m         \"\"\"\n\u001b[0;32m---> 70\u001b[0;31m         \u001b[0mret\u001b[0m \u001b[0;34m=\u001b[0m \u001b[0mself\u001b[0m\u001b[0;34m.\u001b[0m\u001b[0m_update\u001b[0m\u001b[0;34m(\u001b[0m\u001b[0maction\u001b[0m\u001b[0;34m)\u001b[0m\u001b[0;34m\u001b[0m\u001b[0m\n\u001b[0m\u001b[1;32m     71\u001b[0m         \u001b[0;32mreturn\u001b[0m \u001b[0mret\u001b[0m\u001b[0;34m\u001b[0m\u001b[0m\n\u001b[1;32m     72\u001b[0m \u001b[0;34m\u001b[0m\u001b[0m\n",
      "\u001b[0;32m/Users/TheUser/Documents/University/Safe-RL-Benchmark/SafeRLBench/envs/linear_car.py\u001b[0m in \u001b[0;36m_update\u001b[0;34m(self, action)\u001b[0m\n\u001b[1;32m     32\u001b[0m         \u001b[0maction\u001b[0m \u001b[0;34m=\u001b[0m \u001b[0mnp\u001b[0m\u001b[0;34m.\u001b[0m\u001b[0mmaximum\u001b[0m\u001b[0;34m(\u001b[0m\u001b[0mnp\u001b[0m\u001b[0;34m.\u001b[0m\u001b[0mminimum\u001b[0m\u001b[0;34m(\u001b[0m\u001b[0maction\u001b[0m\u001b[0;34m,\u001b[0m \u001b[0mone\u001b[0m\u001b[0;34m)\u001b[0m\u001b[0;34m,\u001b[0m \u001b[0;34m-\u001b[0m\u001b[0mone\u001b[0m\u001b[0;34m)\u001b[0m\u001b[0;34m\u001b[0m\u001b[0m\n\u001b[1;32m     33\u001b[0m \u001b[0;34m\u001b[0m\u001b[0m\n\u001b[0;32m---> 34\u001b[0;31m         \u001b[0mself\u001b[0m\u001b[0;34m.\u001b[0m\u001b[0mstate\u001b[0m\u001b[0;34m[\u001b[0m\u001b[0;36m1\u001b[0m\u001b[0;34m]\u001b[0m \u001b[0;34m+=\u001b[0m \u001b[0mself\u001b[0m\u001b[0;34m.\u001b[0m\u001b[0mstep\u001b[0m \u001b[0;34m*\u001b[0m \u001b[0maction\u001b[0m\u001b[0;34m\u001b[0m\u001b[0m\n\u001b[0m\u001b[1;32m     35\u001b[0m         \u001b[0mself\u001b[0m\u001b[0;34m.\u001b[0m\u001b[0mstate\u001b[0m\u001b[0;34m[\u001b[0m\u001b[0;36m0\u001b[0m\u001b[0;34m]\u001b[0m \u001b[0;34m+=\u001b[0m \u001b[0mself\u001b[0m\u001b[0;34m.\u001b[0m\u001b[0mstate\u001b[0m\u001b[0;34m[\u001b[0m\u001b[0;36m1\u001b[0m\u001b[0;34m]\u001b[0m\u001b[0;34m\u001b[0m\u001b[0m\n\u001b[1;32m     36\u001b[0m \u001b[0;34m\u001b[0m\u001b[0m\n",
      "\u001b[0;31mKeyboardInterrupt\u001b[0m: "
     ]
    }
   ],
   "source": [
    "par, conv = optimizer.optimize(policy)"
   ]
  },
  {
   "cell_type": "code",
   "execution_count": null,
   "metadata": {
    "collapsed": true
   },
   "outputs": [],
   "source": [
    "rewards = optimizer.rewards\n",
    "plt.plot(np.arange(0,len(rewards)),rewards)\n",
    "plt.show()"
   ]
  },
  {
   "cell_type": "code",
   "execution_count": 8,
   "metadata": {
    "collapsed": false
   },
   "outputs": [
    {
     "name": "stdout",
     "output_type": "stream",
     "text": [
      "Best Parameter: [  5.54976  -6.31094 -10.8346 ]\n",
      "Best Reward: -27.5753021636\n"
     ]
    },
    {
     "data": {
      "image/png": "[encoded data removed]",
      "text/plain": [
       "<matplotlib.figure.Figure at 0x10d39bd30>"
      ]
     },
     "metadata": {},
     "output_type": "display_data"
    }
   ],
   "source": [
    "print(\"Best Parameter: \"+str(optimizer.best_parameter))\n",
    "print(\"Best Reward: \"+str(optimizer.best_reward))\n",
    "\n",
    "policy.setParameter(optimizer.best_parameter)\n",
    "trace = lincar.rollout(policy)\n",
    "\n",
    "y = np.array([t[0] for t in [s[1] for s in trace]])\n",
    "x = np.arange(0,i+1)\n",
    "\n",
    "plt.plot(x,y)\n",
    "plt.show()"
   ]
  },
  {
   "cell_type": "code",
   "execution_count": null,
   "metadata": {
    "collapsed": true
   },
   "outputs": [],
   "source": []
  },
  {
   "cell_type": "code",
   "execution_count": null,
   "metadata": {
    "collapsed": true
   },
   "outputs": [],
   "source": []
  }
 ],
 "metadata": {
  "kernelspec": {
   "display_name": "Python 3",
   "language": "python",
   "name": "python3"
  },
  "language_info": {
   "codemirror_mode": {
    "name": "ipython",
    "version": 3
   },
   "file_extension": ".py",
   "mimetype": "text/x-python",
   "name": "python",
   "nbconvert_exporter": "python",
   "pygments_lexer": "ipython3",
   "version": "3.5.2"
  }
 },
 "nbformat": 4,
 "nbformat_minor": 1
}
