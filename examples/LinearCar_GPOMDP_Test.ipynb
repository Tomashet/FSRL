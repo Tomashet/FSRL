{
 "cells": [
  {
   "cell_type": "markdown",
   "metadata": {},
   "source": [
    "## Not A Unit Test :D "
   ]
  },
  {
   "cell_type": "code",
   "execution_count": 1,
   "metadata": {
    "collapsed": true
   },
   "outputs": [],
   "source": [
    "import matplotlib.pyplot as plt\n",
    "import numpy as np\n",
    "\n",
    "try:\n",
    "    import SafeRLBench as srb\n",
    "    import SafeRLBench.envs as envs\n",
    "    import SafeRLBench.tools as tools\n",
    "except ImportError:\n",
    "    import sys\n",
    "    import os\n",
    "    module_path = os.path.abspath('..')\n",
    "    sys.path.append(module_path)\n",
    "    import SafeRLBench as srb\n",
    "    import SafeRLBench.envs as envs\n",
    "    import SafeRLBench.tools as tools\n",
    "    \n",
    "np.set_printoptions(precision=5)"
   ]
  },
  {
   "cell_type": "code",
   "execution_count": 47,
   "metadata": {
    "collapsed": false
   },
   "outputs": [],
   "source": [
    "lincar = envs.LinearCar()\n",
    "executer = tools.Rollout(lincar, max_it=100, abort=False)\n",
    "\n",
    "#policy_par = lambda par: (lambda x: par[0] + par[1:].dot(x))\n",
    "#policy_grad = lambda x, a: np.array([1.,x[0],x[1]]) / a\n",
    "\n",
    "policy_par = lambda par: (lambda x: np.exp(par[0] - par[1:].dot(x)) - 1.5)\n",
    "policy_grad = lambda x, a, par: np.array([1.,-x[0],-x[1]])*policy_par(par)(x)\n",
    "\n",
    "policy = tools.Policy(policy_par,(3), gradient=policy_grad, sigma=0.1)\n",
    "optimizer = srb.PolicyGradient(executer, lincar, estimator='gpomdp', max_it=10000, eps=0.00001,  \n",
    "                       parameter_domain=np.array([0,5]), rate = 0.5)"
   ]
  },
  {
   "cell_type": "code",
   "execution_count": 48,
   "metadata": {
    "collapsed": false
   },
   "outputs": [
    {
     "name": "stdout",
     "output_type": "stream",
     "text": [
      "[-0.85663  0.46752  0.06375]\n"
     ]
    }
   ],
   "source": [
    "policy.setParameter(np.array([1,1,1]))\n",
    "trace, i, _ = executer.rollout(policy)\n",
    "t = trace[10]\n",
    "print(policy.log_grad(t[1],t[0]))"
   ]
  },
  {
   "cell_type": "code",
   "execution_count": 49,
   "metadata": {
    "collapsed": false
   },
   "outputs": [
    {
     "name": "stdout",
     "output_type": "stream",
     "text": [
      "Start GPOMDP optimization:\n",
      "Initial Parameters: [ 3.94742  2.93443  3.94539]\n",
      "Run: 0  \tParameter: \t[ 3.94742  2.93443  3.94539]\tReward: -52.1395070519\n",
      "\t\tGradient: \t[-0.19033  0.01343  0.00567]\n",
      "Run: 100  \tParameter: \t[ 2.5762   3.01612  3.98346]\tReward: -34.4179607533\n",
      "\t\tGradient: \t[ 0.01635 -0.00068 -0.0005 ]\n",
      "\t\tAverage Time: \t0.16s/step\n",
      "Run: 200  \tParameter: \t[ 2.61142  3.01856  3.97651]\tReward: -33.4066635183\n",
      "\t\tGradient: \t[ 0.01261 -0.0006  -0.00045]\n",
      "\t\tAverage Time: \t0.14s/step\n",
      "Run: 300  \tParameter: \t[ 2.67589  3.01715  3.97131]\tReward: -33.200528572\n",
      "\t\tGradient: \t[ -3.17025e-03   2.71843e-04  -2.78120e-05]\n",
      "\t\tAverage Time: \t0.16s/step\n",
      "Run: 400  \tParameter: \t[ 2.55061  3.02541  3.97122]\tReward: -35.0719946187\n",
      "\t\tGradient: \t[ 0.08238 -0.00458 -0.00212]\n",
      "\t\tAverage Time: \t0.13s/step\n",
      "Run: 500  \tParameter: \t[ 2.67587  3.02072  3.96333]\tReward: -33.7434713945\n",
      "\t\tGradient: \t[ -2.45999e-03   1.90073e-04  -4.29569e-05]\n",
      "\t\tAverage Time: \t0.16s/step\n",
      "Run: 600  \tParameter: \t[ 2.62226  3.02537  3.9625 ]\tReward: -34.1037966278\n",
      "\t\tGradient: \t[-0.00688  0.00018  0.00048]\n",
      "\t\tAverage Time: \t0.15s/step\n",
      "Run: 700  \tParameter: \t[ 2.59061  3.02643  3.96103]\tReward: -34.5555624252\n",
      "\t\tGradient: \t[-0.01362  0.0008   0.00022]\n",
      "\t\tAverage Time: \t0.14s/step\n",
      "Run: 800  \tParameter: \t[ 2.66652  3.02455  3.95416]\tReward: -33.83111936\n",
      "\t\tGradient: \t[ 0.05662 -0.00309 -0.00162]\n",
      "\t\tAverage Time: \t0.16s/step\n",
      "Run: 900  \tParameter: \t[ 2.66717  3.02662  3.95073]\tReward: -33.6574292562\n",
      "\t\tGradient: \t[-0.01479  0.00101  0.00033]\n",
      "\t\tAverage Time: \t0.14s/step\n",
      "Run: 1000  \tParameter: \t[ 2.65168  3.0287   3.94754]\tReward: -34.0316837356\n",
      "\t\tGradient: \t[ 0.01433 -0.00086 -0.00038]\n",
      "\t\tAverage Time: \t0.16s/step\n",
      "Run: 1100  \tParameter: \t[ 2.63346  3.03344  3.94314]\tReward: -34.0807032458\n",
      "\t\tGradient: \t[-0.02034  0.00106  0.00073]\n",
      "\t\tAverage Time: \t0.15s/step\n",
      "Run: 1200  \tParameter: \t[ 2.61609  3.03449  3.94081]\tReward: -34.3545315383\n",
      "\t\tGradient: \t[-0.01877  0.00103  0.00044]\n",
      "\t\tAverage Time: \t0.13s/step\n",
      "Run: 1300  \tParameter: \t[ 2.61038  3.03667  3.9365 ]\tReward: -34.1874106121\n",
      "\t\tGradient: \t[ 0.03031 -0.00166 -0.00114]\n",
      "\t\tAverage Time: \t0.18s/step\n",
      "Run: 1400  \tParameter: \t[ 2.62751  3.03668  3.93238]\tReward: -34.3335611476\n",
      "\t\tGradient: \t[-0.04778  0.00262  0.00129]\n",
      "\t\tAverage Time: \t0.16s/step\n",
      "Run: 1500  \tParameter: \t[ 2.61937  3.04018  3.92871]\tReward: -34.4193891251\n",
      "\t\tGradient: \t[ 0.01803 -0.00093 -0.00079]\n",
      "\t\tAverage Time: \t0.16s/step\n",
      "Run: 1600  \tParameter: \t[ 2.59193  3.04404  3.92573]\tReward: -34.3219989575\n",
      "\t\tGradient: \t[ 0.04409 -0.00213 -0.00136]\n",
      "\t\tAverage Time: \t0.15s/step\n",
      "Run: 1700  \tParameter: \t[ 2.63829  3.04228  3.92145]\tReward: -34.1169509366\n",
      "\t\tGradient: \t[-0.03284  0.00187  0.00079]\n",
      "\t\tAverage Time: \t0.16s/step\n",
      "Run: 1800  \tParameter: \t[ 2.61542  3.04511  3.91841]\tReward: -34.4315996528\n",
      "\t\tGradient: \t[ 0.03859 -0.00191 -0.00136]\n",
      "\t\tAverage Time: \t0.15s/step\n",
      "Run: 1900  \tParameter: \t[ 2.62512  3.04502  3.91525]\tReward: -33.8993553532\n",
      "\t\tGradient: \t[ -4.81156e-03  -6.54658e-05   3.27325e-04]\n",
      "\t\tAverage Time: \t0.17s/step\n",
      "Run: 2000  \tParameter: \t[ 2.63979  3.04595  3.91214]\tReward: -34.188356717\n",
      "\t\tGradient: \t[-0.04672  0.00268  0.00111]\n",
      "\t\tAverage Time: \t0.16s/step\n",
      "Run: 2100  \tParameter: \t[ 2.67583  3.04556  3.90766]\tReward: -33.6646517448\n",
      "\t\tGradient: \t[ 0.02199 -0.00146 -0.00061]\n",
      "\t\tAverage Time: \t0.16s/step\n",
      "Run: 2200  \tParameter: \t[ 2.68263  3.04749  3.90338]\tReward: -32.9864431996\n",
      "\t\tGradient: \t[ -6.68406e-03   5.92475e-04   8.37734e-05]\n",
      "\t\tAverage Time: \t0.15s/step\n",
      "Run: 2300  \tParameter: \t[ 2.71361  3.04775  3.8981 ]\tReward: -33.5699757485\n",
      "\t\tGradient: \t[ 0.02257 -0.00139 -0.00058]\n",
      "\t\tAverage Time: \t0.15s/step\n",
      "Run: 2400  \tParameter: \t[ 2.68772  3.05023  3.89649]\tReward: -34.0220613758\n",
      "\t\tGradient: \t[ -7.41373e-03   6.21675e-04   2.33189e-05]\n",
      "\t\tAverage Time: \t0.14s/step\n",
      "Run: 2500  \tParameter: \t[ 2.63232  3.05555  3.89406]\tReward: -34.1402686593\n",
      "\t\tGradient: \t[-0.02818  0.00155  0.0006 ]\n",
      "\t\tAverage Time: \t0.17s/step\n",
      "Run: 2600  \tParameter: \t[ 2.60931  3.05852  3.89099]\tReward: -34.0270124379\n",
      "\t\tGradient: \t[  2.68911e-04   3.95500e-05  -1.73925e-05]\n",
      "\t\tAverage Time: \t0.17s/step\n",
      "Run: 2700  \tParameter: \t[ 2.64065  3.05874  3.88668]\tReward: -33.8703549464\n",
      "\t\tGradient: \t[  1.15393e-02  -9.67466e-04   4.37862e-06]\n",
      "\t\tAverage Time: \t0.16s/step\n",
      "Run: 2800  \tParameter: \t[ 2.62078  3.06459  3.88275]\tReward: -34.9659951353\n",
      "\t\tGradient: \t[-0.00117  0.0003  -0.00021]\n",
      "\t\tAverage Time: \t0.16s/step\n",
      "Run: 2900  \tParameter: \t[ 2.69086  3.06409  3.8762 ]\tReward: -33.7197572226\n",
      "\t\tGradient: \t[ 0.01531 -0.00081 -0.00052]\n",
      "\t\tAverage Time: \t0.16s/step\n",
      "Run: 3000  \tParameter: \t[ 2.64712  3.06804  3.87317]\tReward: -33.7674302708\n",
      "\t\tGradient: \t[ 0.055  -0.003  -0.0015]\n",
      "\t\tAverage Time: \t0.14s/step\n",
      "Run: 3100  \tParameter: \t[ 2.61387  3.07414  3.86841]\tReward: -34.8761247001\n",
      "\t\tGradient: \t[ 0.02083 -0.00093 -0.00074]\n",
      "\t\tAverage Time: \t0.17s/step\n",
      "Run: 3200  \tParameter: \t[ 2.6521   3.07457  3.86303]\tReward: -33.7029955137\n",
      "\t\tGradient: \t[-0.00964  0.0006   0.00014]\n",
      "\t\tAverage Time: \t0.16s/step\n",
      "Run: 3300  \tParameter: \t[ 2.67628  3.07596  3.85805]\tReward: -33.6936280393\n",
      "\t\tGradient: \t[-0.03185  0.00195  0.00075]\n",
      "\t\tAverage Time: \t0.15s/step\n",
      "Run: 3400  \tParameter: \t[ 2.63251  3.08091  3.85515]\tReward: -34.6696690081\n",
      "\t\tGradient: \t[ 0.04784 -0.00282 -0.00143]\n",
      "\t\tAverage Time: \t0.16s/step\n",
      "Run: 3500  \tParameter: \t[ 2.63268  3.08289  3.85116]\tReward: -34.8966602888\n",
      "\t\tGradient: \t[ 0.01901 -0.00117 -0.00051]\n",
      "\t\tAverage Time: \t0.15s/step\n",
      "Run: 3600  \tParameter: \t[ 2.62178  3.085    3.84855]\tReward: -35.2641168832\n",
      "\t\tGradient: \t[ 0.08402 -0.00442 -0.00232]\n",
      "\t\tAverage Time: \t0.17s/step\n",
      "Run: 3700  \tParameter: \t[ 2.61668  3.08676  3.8455 ]\tReward: -35.4625675404\n",
      "\t\tGradient: \t[ 0.01575 -0.00085 -0.00034]\n",
      "\t\tAverage Time: \t0.16s/step\n",
      "Run: 3800  \tParameter: \t[ 2.65132  3.08737  3.84166]\tReward: -34.3548894148\n",
      "\t\tGradient: \t[-0.00757  0.00043  0.00012]\n",
      "\t\tAverage Time: \t0.15s/step\n",
      "Run: 3900  \tParameter: \t[ 2.61976  3.0907   3.83953]\tReward: -35.3492556097\n",
      "\t\tGradient: \t[ 0.07065 -0.00387 -0.00195]\n",
      "\t\tAverage Time: \t0.16s/step\n",
      "Run: 4000  \tParameter: \t[ 2.67264  3.08891  3.83444]\tReward: -35.0910033994\n",
      "\t\tGradient: \t[-0.01089  0.00085  0.00014]\n",
      "\t\tAverage Time: \t0.16s/step\n",
      "Run: 4100  \tParameter: \t[ 2.64688  3.09193  3.8324 ]\tReward: -35.0738816347\n",
      "\t\tGradient: \t[-0.08275  0.00458  0.00204]\n",
      "\t\tAverage Time: \t0.16s/step\n",
      "Run: 4200  \tParameter: \t[ 2.6593   3.09251  3.82902]\tReward: -35.2010472679\n",
      "\t\tGradient: \t[-0.00704  0.00052  0.00014]\n",
      "\t\tAverage Time: \t0.16s/step\n",
      "Run: 4300  \tParameter: \t[ 2.73265  3.09075  3.82314]\tReward: -33.3412176559\n",
      "\t\tGradient: \t[-0.0156   0.00109  0.00033]\n",
      "\t\tAverage Time: \t0.14s/step\n",
      "Run: 4400  \tParameter: \t[ 2.57971  3.10007  3.82533]\tReward: -36.3379412545\n",
      "\t\tGradient: \t[ 0.04503 -0.00234 -0.00125]\n",
      "\t\tAverage Time: \t0.15s/step\n",
      "Run: 4500  \tParameter: \t[ 2.69305  3.09464  3.81941]\tReward: -34.262735495\n",
      "\t\tGradient: \t[-0.03514  0.00195  0.00089]\n",
      "\t\tAverage Time: \t0.14s/step\n",
      "Run: 4600  \tParameter: \t[ 2.68228  3.0966   3.8166 ]\tReward: -34.5659983322\n",
      "\t\tGradient: \t[-0.01403  0.00084  0.00036]\n",
      "\t\tAverage Time: \t0.15s/step\n",
      "Run: 4700  \tParameter: \t[ 2.61663  3.10266  3.81616]\tReward: -34.9463382877\n",
      "\t\tGradient: \t[ 0.00121  0.00033 -0.0004 ]\n",
      "\t\tAverage Time: \t0.17s/step\n",
      "Run: 4800  \tParameter: \t[ 2.64568  3.10085  3.81286]\tReward: -35.0161189736\n",
      "\t\tGradient: \t[-0.04142  0.00227  0.00114]\n",
      "\t\tAverage Time: \t0.13s/step\n",
      "Run: 4900  \tParameter: \t[ 2.67708  3.10325  3.80718]\tReward: -33.9412365057\n",
      "\t\tGradient: \t[ 0.02644 -0.00139 -0.00078]\n",
      "\t\tAverage Time: \t0.15s/step\n",
      "Run: 5000  \tParameter: \t[ 2.74842  3.10113  3.80193]\tReward: -33.3322680556\n",
      "\t\tGradient: \t[ -4.52633e-03   3.94151e-04   5.19251e-05]\n",
      "\t\tAverage Time: \t0.15s/step\n",
      "Run: 5100  \tParameter: \t[ 2.66937  3.10521  3.80199]\tReward: -35.3765451798\n",
      "\t\tGradient: \t[ 0.00508 -0.00043 -0.00015]\n",
      "\t\tAverage Time: \t0.16s/step\n",
      "Run: 5200  \tParameter: \t[ 2.70527  3.1028   3.79904]\tReward: -34.0012557059\n",
      "\t\tGradient: \t[-0.00921  0.0005   0.00031]\n",
      "\t\tAverage Time: \t0.16s/step\n",
      "Run: 5300  \tParameter: \t[ 2.65261  3.10729  3.79731]\tReward: -35.9966339634\n",
      "\t\tGradient: \t[  3.38363e-03  -3.00653e-04  -5.11458e-05]\n",
      "\t\tAverage Time: \t0.15s/step\n",
      "Run: 5400  \tParameter: \t[ 2.65205  3.1096   3.7941 ]\tReward: -35.1210976014\n",
      "\t\tGradient: \t[ 0.01213 -0.00078 -0.00037]\n",
      "\t\tAverage Time: \t0.16s/step\n",
      "Run: 5500  \tParameter: \t[ 2.63695  3.1124   3.79095]\tReward: -34.6618141405\n",
      "\t\tGradient: \t[ 0.04218 -0.00217 -0.00117]\n",
      "\t\tAverage Time: \t0.17s/step\n",
      "Run: 5600  \tParameter: \t[ 2.66685  3.11274  3.78794]\tReward: -34.1715884821\n",
      "\t\tGradient: \t[-0.04781  0.00262  0.00126]\n",
      "\t\tAverage Time: \t0.15s/step\n",
      "Run: 5700  \tParameter: \t[ 2.67714  3.11755  3.784  ]\tReward: -34.8604542518\n",
      "\t\tGradient: \t[-0.0322   0.00184  0.00094]\n",
      "\t\tAverage Time: \t0.17s/step\n",
      "Run: 5800  \tParameter: \t[ 2.70008  3.11707  3.78123]\tReward: -33.8653631245\n",
      "\t\tGradient: \t[ 0.00857 -0.0005  -0.00023]\n",
      "\t\tAverage Time: \t0.17s/step\n",
      "Run: 5900  \tParameter: \t[ 2.62201  3.12281  3.78049]\tReward: -35.5302240521\n",
      "\t\tGradient: \t[ 0.04611 -0.00257 -0.00098]\n",
      "\t\tAverage Time: \t0.15s/step\n",
      "Run: 6000  \tParameter: \t[ 2.60007  3.12494  3.77861]\tReward: -36.1519641275\n",
      "\t\tGradient: \t[ 0.02401 -0.0012  -0.0007 ]\n",
      "\t\tAverage Time: \t0.18s/step\n",
      "Run: 6100  \tParameter: \t[ 2.66375  3.12303  3.77387]\tReward: -35.3218690269\n",
      "\t\tGradient: \t[ 0.02056 -0.00111 -0.00056]\n",
      "\t\tAverage Time: \t0.16s/step\n",
      "Run: 6200  \tParameter: \t[ 2.76449  3.12029  3.76798]\tReward: -32.3148729911\n",
      "\t\tGradient: \t[ -4.52410e-03   3.56270e-04  -3.19740e-05]\n",
      "\t\tAverage Time: \t0.15s/step\n",
      "Run: 6300  \tParameter: \t[ 2.66561  3.12728  3.76795]\tReward: -35.4731332889\n",
      "\t\tGradient: \t[-0.02495  0.00128  0.00062]\n",
      "\t\tAverage Time: \t0.17s/step\n"
     ]
    },
    {
     "ename": "KeyboardInterrupt",
     "evalue": "",
     "output_type": "error",
     "traceback": [
      "\u001b[0;31m---------------------------------------------------------------------------\u001b[0m",
      "\u001b[0;31mKeyboardInterrupt\u001b[0m                         Traceback (most recent call last)",
      "\u001b[0;32m<ipython-input-49-bfa720d7696d>\u001b[0m in \u001b[0;36m<module>\u001b[0;34m()\u001b[0m\n\u001b[0;32m----> 1\u001b[0;31m \u001b[0mpar\u001b[0m\u001b[0;34m,\u001b[0m \u001b[0mconv\u001b[0m \u001b[0;34m=\u001b[0m \u001b[0moptimizer\u001b[0m\u001b[0;34m.\u001b[0m\u001b[0moptimize\u001b[0m\u001b[0;34m(\u001b[0m\u001b[0mpolicy\u001b[0m\u001b[0;34m)\u001b[0m\u001b[0;34m\u001b[0m\u001b[0m\n\u001b[0m",
      "\u001b[0;32m/Users/TheUser/Documents/University/Safe-RL-Benchmark/SafeRLBench/policygradient.py\u001b[0m in \u001b[0;36moptimize\u001b[0;34m(self, policy)\u001b[0m\n\u001b[1;32m     56\u001b[0m         \u001b[0;32mfor\u001b[0m \u001b[0mn\u001b[0m \u001b[0;32min\u001b[0m \u001b[0mrange\u001b[0m\u001b[0;34m(\u001b[0m\u001b[0mself\u001b[0m\u001b[0;34m.\u001b[0m\u001b[0mmax_it\u001b[0m\u001b[0;34m)\u001b[0m\u001b[0;34m:\u001b[0m\u001b[0;34m\u001b[0m\u001b[0m\n\u001b[1;32m     57\u001b[0m             \u001b[0mself\u001b[0m\u001b[0;34m.\u001b[0m\u001b[0mparameters\u001b[0m\u001b[0;34m.\u001b[0m\u001b[0mappend\u001b[0m\u001b[0;34m(\u001b[0m\u001b[0mnp\u001b[0m\u001b[0;34m.\u001b[0m\u001b[0mcopy\u001b[0m\u001b[0;34m(\u001b[0m\u001b[0mparameter\u001b[0m\u001b[0;34m)\u001b[0m\u001b[0;34m)\u001b[0m\u001b[0;34m\u001b[0m\u001b[0m\n\u001b[0;32m---> 58\u001b[0;31m             \u001b[0mgrad\u001b[0m\u001b[0;34m,\u001b[0m \u001b[0mtrace\u001b[0m\u001b[0;34m,\u001b[0m \u001b[0machieved\u001b[0m \u001b[0;34m=\u001b[0m \u001b[0mestimator\u001b[0m\u001b[0;34m(\u001b[0m\u001b[0mpolicy\u001b[0m\u001b[0;34m,\u001b[0m \u001b[0mparameter\u001b[0m\u001b[0;34m)\u001b[0m\u001b[0;34m\u001b[0m\u001b[0m\n\u001b[0m\u001b[1;32m     59\u001b[0m \u001b[0;34m\u001b[0m\u001b[0m\n\u001b[1;32m     60\u001b[0m             \u001b[0;31m# store best result\u001b[0m\u001b[0;34m\u001b[0m\u001b[0;34m\u001b[0m\u001b[0m\n",
      "\u001b[0;32m/Users/TheUser/Documents/University/Safe-RL-Benchmark/SafeRLBench/policygradient.py\u001b[0m in \u001b[0;36m__call__\u001b[0;34m(self, policy, parameter)\u001b[0m\n\u001b[1;32m    123\u001b[0m \u001b[0;34m\u001b[0m\u001b[0m\n\u001b[1;32m    124\u001b[0m     \u001b[0;32mdef\u001b[0m \u001b[0m__call__\u001b[0m\u001b[0;34m(\u001b[0m\u001b[0mself\u001b[0m\u001b[0;34m,\u001b[0m \u001b[0mpolicy\u001b[0m\u001b[0;34m,\u001b[0m \u001b[0mparameter\u001b[0m\u001b[0;34m)\u001b[0m\u001b[0;34m:\u001b[0m\u001b[0;34m\u001b[0m\u001b[0m\n\u001b[0;32m--> 125\u001b[0;31m         \u001b[0;32mreturn\u001b[0m \u001b[0mself\u001b[0m\u001b[0;34m.\u001b[0m\u001b[0m_estimate_gradient\u001b[0m\u001b[0;34m(\u001b[0m\u001b[0mpolicy\u001b[0m\u001b[0;34m,\u001b[0m \u001b[0mparameter\u001b[0m\u001b[0;34m)\u001b[0m\u001b[0;34m\u001b[0m\u001b[0m\n\u001b[0m\u001b[1;32m    126\u001b[0m \u001b[0;34m\u001b[0m\u001b[0m\n\u001b[1;32m    127\u001b[0m \u001b[0;34m\u001b[0m\u001b[0m\n",
      "\u001b[0;32m/Users/TheUser/Documents/University/Safe-RL-Benchmark/SafeRLBench/policygradient.py\u001b[0m in \u001b[0;36m_estimate_gradient\u001b[0;34m(self, policy, parameter)\u001b[0m\n\u001b[1;32m    293\u001b[0m             \u001b[0mupdate\u001b[0m \u001b[0;34m=\u001b[0m \u001b[0mnp\u001b[0m\u001b[0;34m.\u001b[0m\u001b[0mzeros\u001b[0m\u001b[0;34m(\u001b[0m\u001b[0mshape\u001b[0m\u001b[0;34m)\u001b[0m\u001b[0;34m\u001b[0m\u001b[0m\n\u001b[1;32m    294\u001b[0m             \u001b[0;32mfor\u001b[0m \u001b[0mk\u001b[0m\u001b[0;34m,\u001b[0m \u001b[0mstate\u001b[0m \u001b[0;32min\u001b[0m \u001b[0menumerate\u001b[0m\u001b[0;34m(\u001b[0m\u001b[0mtrace\u001b[0m\u001b[0;34m)\u001b[0m\u001b[0;34m:\u001b[0m\u001b[0;34m\u001b[0m\u001b[0m\n\u001b[0;32m--> 295\u001b[0;31m                 \u001b[0mupdate\u001b[0m \u001b[0;34m+=\u001b[0m \u001b[0mpolicy\u001b[0m\u001b[0;34m.\u001b[0m\u001b[0mlog_grad\u001b[0m\u001b[0;34m(\u001b[0m\u001b[0mstate\u001b[0m\u001b[0;34m[\u001b[0m\u001b[0;36m1\u001b[0m\u001b[0;34m]\u001b[0m\u001b[0;34m,\u001b[0m \u001b[0mstate\u001b[0m\u001b[0;34m[\u001b[0m\u001b[0;36m0\u001b[0m\u001b[0;34m]\u001b[0m\u001b[0;34m)\u001b[0m\u001b[0;34m\u001b[0m\u001b[0m\n\u001b[0m\u001b[1;32m    296\u001b[0m                 \u001b[0mgrad_update\u001b[0m \u001b[0;34m+=\u001b[0m \u001b[0mupdate\u001b[0m \u001b[0;34m*\u001b[0m \u001b[0;34m(\u001b[0m\u001b[0;34m-\u001b[0m\u001b[0mb\u001b[0m\u001b[0;34m[\u001b[0m\u001b[0mk\u001b[0m\u001b[0;34m]\u001b[0m \u001b[0;34m+\u001b[0m \u001b[0mstate\u001b[0m\u001b[0;34m[\u001b[0m\u001b[0;36m2\u001b[0m\u001b[0;34m]\u001b[0m \u001b[0;34m*\u001b[0m \u001b[0mlam\u001b[0m\u001b[0;34m**\u001b[0m\u001b[0mk\u001b[0m\u001b[0;34m)\u001b[0m\u001b[0;34m\u001b[0m\u001b[0m\n\u001b[1;32m    297\u001b[0m \u001b[0;34m\u001b[0m\u001b[0m\n",
      "\u001b[0;32m/Users/TheUser/Documents/University/Safe-RL-Benchmark/SafeRLBench/tools/policy.py\u001b[0m in \u001b[0;36mlog_grad\u001b[0;34m(self, state, action)\u001b[0m\n\u001b[1;32m     28\u001b[0m             \u001b[0mpar\u001b[0m \u001b[0;34m=\u001b[0m \u001b[0mself\u001b[0m\u001b[0;34m.\u001b[0m\u001b[0mparameter\u001b[0m\u001b[0;34m\u001b[0m\u001b[0m\n\u001b[1;32m     29\u001b[0m             \u001b[0msigma\u001b[0m \u001b[0;34m=\u001b[0m \u001b[0mself\u001b[0m\u001b[0;34m.\u001b[0m\u001b[0msigma\u001b[0m\u001b[0;34m\u001b[0m\u001b[0m\n\u001b[0;32m---> 30\u001b[0;31m             \u001b[0mret\u001b[0m \u001b[0;34m=\u001b[0m \u001b[0;36m2\u001b[0m\u001b[0;34m*\u001b[0m\u001b[0;34m(\u001b[0m\u001b[0maction\u001b[0m\u001b[0;34m-\u001b[0m\u001b[0mself\u001b[0m\u001b[0;34m.\u001b[0m\u001b[0mpolicy\u001b[0m\u001b[0;34m(\u001b[0m\u001b[0mstate\u001b[0m\u001b[0;34m)\u001b[0m\u001b[0;34m)\u001b[0m\u001b[0;34m*\u001b[0m\u001b[0mself\u001b[0m\u001b[0;34m.\u001b[0m\u001b[0mgradient\u001b[0m\u001b[0;34m(\u001b[0m\u001b[0mstate\u001b[0m\u001b[0;34m,\u001b[0m\u001b[0maction\u001b[0m\u001b[0;34m,\u001b[0m\u001b[0mpar\u001b[0m\u001b[0;34m)\u001b[0m\u001b[0;34m/\u001b[0m\u001b[0msigma\u001b[0m\u001b[0;34m**\u001b[0m\u001b[0;36m2\u001b[0m\u001b[0;34m\u001b[0m\u001b[0m\n\u001b[0m\u001b[1;32m     31\u001b[0m             \u001b[0;32mreturn\u001b[0m \u001b[0mret\u001b[0m\u001b[0;34m\u001b[0m\u001b[0m\n\u001b[1;32m     32\u001b[0m         \u001b[0;32melse\u001b[0m\u001b[0;34m:\u001b[0m\u001b[0;34m\u001b[0m\u001b[0m\n",
      "\u001b[0;32m<ipython-input-47-3b3d0d8a3fe9>\u001b[0m in \u001b[0;36m<lambda>\u001b[0;34m(x)\u001b[0m\n\u001b[1;32m      5\u001b[0m \u001b[0;31m#policy_grad = lambda x, a: np.array([1.,x[0],x[1]]) / a\u001b[0m\u001b[0;34m\u001b[0m\u001b[0;34m\u001b[0m\u001b[0m\n\u001b[1;32m      6\u001b[0m \u001b[0;34m\u001b[0m\u001b[0m\n\u001b[0;32m----> 7\u001b[0;31m \u001b[0mpolicy_par\u001b[0m \u001b[0;34m=\u001b[0m \u001b[0;32mlambda\u001b[0m \u001b[0mpar\u001b[0m\u001b[0;34m:\u001b[0m \u001b[0;34m(\u001b[0m\u001b[0;32mlambda\u001b[0m \u001b[0mx\u001b[0m\u001b[0;34m:\u001b[0m \u001b[0mnp\u001b[0m\u001b[0;34m.\u001b[0m\u001b[0mexp\u001b[0m\u001b[0;34m(\u001b[0m\u001b[0mpar\u001b[0m\u001b[0;34m[\u001b[0m\u001b[0;36m0\u001b[0m\u001b[0;34m]\u001b[0m \u001b[0;34m-\u001b[0m \u001b[0mpar\u001b[0m\u001b[0;34m[\u001b[0m\u001b[0;36m1\u001b[0m\u001b[0;34m:\u001b[0m\u001b[0;34m]\u001b[0m\u001b[0;34m.\u001b[0m\u001b[0mdot\u001b[0m\u001b[0;34m(\u001b[0m\u001b[0mx\u001b[0m\u001b[0;34m)\u001b[0m\u001b[0;34m)\u001b[0m \u001b[0;34m-\u001b[0m \u001b[0;36m1.5\u001b[0m\u001b[0;34m)\u001b[0m\u001b[0;34m\u001b[0m\u001b[0m\n\u001b[0m\u001b[1;32m      8\u001b[0m \u001b[0mpolicy_grad\u001b[0m \u001b[0;34m=\u001b[0m \u001b[0;32mlambda\u001b[0m \u001b[0mx\u001b[0m\u001b[0;34m,\u001b[0m \u001b[0ma\u001b[0m\u001b[0;34m,\u001b[0m \u001b[0mpar\u001b[0m\u001b[0;34m:\u001b[0m \u001b[0mnp\u001b[0m\u001b[0;34m.\u001b[0m\u001b[0marray\u001b[0m\u001b[0;34m(\u001b[0m\u001b[0;34m[\u001b[0m\u001b[0;36m1.\u001b[0m\u001b[0;34m,\u001b[0m\u001b[0;34m-\u001b[0m\u001b[0mx\u001b[0m\u001b[0;34m[\u001b[0m\u001b[0;36m0\u001b[0m\u001b[0;34m]\u001b[0m\u001b[0;34m,\u001b[0m\u001b[0;34m-\u001b[0m\u001b[0mx\u001b[0m\u001b[0;34m[\u001b[0m\u001b[0;36m1\u001b[0m\u001b[0;34m]\u001b[0m\u001b[0;34m]\u001b[0m\u001b[0;34m)\u001b[0m\u001b[0;34m*\u001b[0m\u001b[0mpolicy_par\u001b[0m\u001b[0;34m(\u001b[0m\u001b[0mpar\u001b[0m\u001b[0;34m)\u001b[0m\u001b[0;34m(\u001b[0m\u001b[0mx\u001b[0m\u001b[0;34m)\u001b[0m\u001b[0;34m\u001b[0m\u001b[0m\n\u001b[1;32m      9\u001b[0m \u001b[0;34m\u001b[0m\u001b[0m\n",
      "\u001b[0;31mKeyboardInterrupt\u001b[0m: "
     ]
    }
   ],
   "source": [
    "par, conv = optimizer.optimize(policy)"
   ]
  },
  {
   "cell_type": "code",
   "execution_count": 50,
   "metadata": {
    "collapsed": false
   },
   "outputs": [
    {
     "data": {
      "image/png": "[encoded data removed]",
      "text/plain": [
       "<matplotlib.figure.Figure at 0x1082102b0>"
      ]
     },
     "metadata": {},
     "output_type": "display_data"
    }
   ],
   "source": [
    "rewards = optimizer.rewards\n",
    "plt.plot(np.arange(0,len(rewards)),rewards)\n",
    "plt.show()"
   ]
  },
  {
   "cell_type": "code",
   "execution_count": 51,
   "metadata": {
    "collapsed": false
   },
   "outputs": [
    {
     "name": "stdout",
     "output_type": "stream",
     "text": [
      "Best Parameter:\t[ 2.95665  2.99513  3.97435]\n",
      "Best Reward: \t-30.1857752931\n"
     ]
    },
    {
     "data": {
      "image/png": "[encoded data removed]",
      "text/plain": [
       "<matplotlib.figure.Figure at 0x107d5c390>"
      ]
     },
     "metadata": {},
     "output_type": "display_data"
    }
   ],
   "source": [
    "print(\"Best Parameter:\\t\"+str(optimizer.best_parameter))\n",
    "print(\"Best Reward: \\t\"+str(optimizer.best_reward))\n",
    "\n",
    "policy.setParameter(optimizer.best_parameter)\n",
    "trace, i, achieved = executer.rollout(policy)\n",
    "\n",
    "y = np.array([t[0] for t in [s[1] for s in trace]])\n",
    "x = np.arange(0,i+1)\n",
    "\n",
    "plt.plot(x,y)\n",
    "plt.show()"
   ]
  },
  {
   "cell_type": "code",
   "execution_count": null,
   "metadata": {
    "collapsed": true
   },
   "outputs": [],
   "source": []
  },
  {
   "cell_type": "code",
   "execution_count": null,
   "metadata": {
    "collapsed": true
   },
   "outputs": [],
   "source": []
  }
 ],
 "metadata": {
  "kernelspec": {
   "display_name": "Python 3",
   "language": "python",
   "name": "python3"
  },
  "language_info": {
   "codemirror_mode": {
    "name": "ipython",
    "version": 3
   },
   "file_extension": ".py",
   "mimetype": "text/x-python",
   "name": "python",
   "nbconvert_exporter": "python",
   "pygments_lexer": "ipython3",
   "version": "3.5.2"
  }
 },
 "nbformat": 4,
 "nbformat_minor": 1
}
