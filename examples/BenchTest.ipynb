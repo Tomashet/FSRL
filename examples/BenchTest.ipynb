{
 "cells": [
  {
   "cell_type": "code",
   "execution_count": null,
   "metadata": {
    "collapsed": false
   },
   "outputs": [],
   "source": [
    "import matplotlib.pyplot as plt\n",
    "import numpy as np\n",
    "import pprint\n",
    "\n",
    "import sys\n",
    "import os\n",
    "\n",
    "sys.path.append(os.path.abspath('..'))\n",
    "\n",
    "from SafeRLBench import config\n",
    "from SafeRLBench import Bench, BenchConfig, BestPerformance\n",
    "from SafeRLBench.algo import PolicyGradient\n",
    "from SafeRLBench.envs import LinearCar, GeneralMountainCar\n",
    "from SafeRLBench.policy import LinearPolicy, NoisyLinearPolicy\n",
    "from SafeRLBench.spaces import BoundedSpace\n",
    "from SafeRLBench import SRBConfig\n",
    "\n",
    "import logging\n",
    "    \n",
    "np.set_printoptions(precision=5)"
   ]
  },
  {
   "cell_type": "code",
   "execution_count": null,
   "metadata": {
    "collapsed": false
   },
   "outputs": [],
   "source": [
    "config.logger_set_level(logging.DEBUG)\n",
    "config.logger_add_stream_handler()\n",
    "# config.logger_add_file_handler('BenchTestLog.log')\n",
    "config.monitor_set_verbosity(2)\n",
    "config.jobs_set(2)"
   ]
  },
  {
   "cell_type": "code",
   "execution_count": null,
   "metadata": {
    "collapsed": false
   },
   "outputs": [],
   "source": [
    "# configure policy\n",
    "policy = LinearPolicy(2, 1)\n",
    "noisy_policy = NoisyLinearPolicy(2, 1, sigma=1)\n",
    "noisy_policy.parameter_space = BoundedSpace(-1, 1, (3,))\n",
    "\n",
    "# configure environments\n",
    "algs = [\n",
    "    (PolicyGradient, [{'policy': noisy_policy, 'max_it': 2000, 'eps': 0.0000000001, 'estimator': 'reinforce', 'rate': 4, 'var': 0.5},\n",
    "                      {'policy': policy, 'max_it': 2000, 'eps': 0.0000001, 'estimator': 'central_fd', 'var': 5}])\n",
    "]\n",
    "\n",
    "env = [[\n",
    "    (LinearCar, {'horizon': 200})\n",
    "]]\n",
    "\n",
    "\n",
    "test_config = BenchConfig(algs, env)"
   ]
  },
  {
   "cell_type": "code",
   "execution_count": null,
   "metadata": {
    "collapsed": false
   },
   "outputs": [],
   "source": [
    "benchmark = Bench(test_config, [BestPerformance()])"
   ]
  },
  {
   "cell_type": "code",
   "execution_count": null,
   "metadata": {
    "collapsed": false
   },
   "outputs": [],
   "source": [
    "benchmark()"
   ]
  },
  {
   "cell_type": "code",
   "execution_count": null,
   "metadata": {
    "collapsed": false
   },
   "outputs": [],
   "source": [
    "benchmark.measures[0].result"
   ]
  },
  {
   "cell_type": "code",
   "execution_count": null,
   "metadata": {
    "collapsed": false
   },
   "outputs": [],
   "source": [
    "monitor = benchmark.measures[0].result[0][0].get_alg_monitor()\n",
    "rewards = monitor.rewards\n",
    "traces = monitor.traces\n",
    "\n",
    "trace = traces[rewards.index(max(rewards))]\n",
    "y = [t[1][0] for t in trace]\n",
    "x = range(len(y))\n",
    "\n",
    "plt.plot(x, y)\n",
    "plt.show()"
   ]
  },
  {
   "cell_type": "code",
   "execution_count": null,
   "metadata": {
    "collapsed": false
   },
   "outputs": [],
   "source": [
    "monitor = benchmark.measures[0].result[1][0].get_alg_monitor()\n",
    "rewards = monitor.rewards\n",
    "traces = monitor.traces\n",
    "\n",
    "trace = traces[rewards.index(max(rewards))]\n",
    "y = [t[1][0] for t in trace]\n",
    "x = range(len(y))\n",
    "\n",
    "plt.plot(x, y)\n",
    "plt.show()"
   ]
  },
  {
   "cell_type": "code",
   "execution_count": null,
   "metadata": {
    "collapsed": true
   },
   "outputs": [],
   "source": []
  }
 ],
 "metadata": {
  "kernelspec": {
   "display_name": "Python 3",
   "language": "python",
   "name": "python3"
  },
  "language_info": {
   "codemirror_mode": {
    "name": "ipython",
    "version": 3
   },
   "file_extension": ".py",
   "mimetype": "text/x-python",
   "name": "python",
   "nbconvert_exporter": "python",
   "pygments_lexer": "ipython3",
   "version": "3.5.3"
  }
 },
 "nbformat": 4,
 "nbformat_minor": 1
}
