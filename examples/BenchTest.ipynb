{
 "cells": [
  {
   "cell_type": "code",
   "execution_count": null,
   "metadata": {
    "collapsed": false
   },
   "outputs": [],
   "source": [
    "import matplotlib.pyplot as plt\n",
    "import numpy as np\n",
    "import pprint\n",
    "\n",
    "import sys\n",
    "import os\n",
    "\n",
    "sys.path.append(os.path.abspath('..'))\n",
    "\n",
    "from SafeRLBench import config\n",
    "from SafeRLBench import Bench, BenchConfig\n",
    "from SafeRLBench.algo import PolicyGradient\n",
    "from SafeRLBench.envs import LinearCar, GeneralMountainCar\n",
    "from SafeRLBench import envs, tools, algo\n",
    "    \n",
    "np.set_printoptions(precision=5)"
   ]
  },
  {
   "cell_type": "code",
   "execution_count": null,
   "metadata": {
    "collapsed": false
   },
   "outputs": [],
   "source": [
    "config.loggerSetLevel()\n",
    "config.loggerAddStreamHandler()\n",
    "config.monitorSetVerbosity(2)"
   ]
  },
  {
   "cell_type": "code",
   "execution_count": null,
   "metadata": {
    "collapsed": false
   },
   "outputs": [],
   "source": [
    "# algorithms and environments\n",
    "algorithms = [PolicyGradient]\n",
    "environments = [LinearCar, GeneralMountainCar]\n",
    "\n",
    "test_config = BenchConfig()\n",
    "\n",
    "# configure a policy\n",
    "policy_par = lambda par: (lambda x: np.exp(par[0] - par[1:].dot(x)) - 1.5)\n",
    "policy = tools.Policy(policy_par,(3))\n",
    "\n",
    "policy_par_rif = lambda par: (lambda x: np.exp(par[0] - par[1:].dot(x)) - 1.5)\n",
    "policy_grad_rif = lambda x, a, par: np.array([1., -x[0], -x[1]]) * policy_par(par)(x)\n",
    "\n",
    "policy_rif = tools.Policy(policy_par_rif,(3), gradient=policy_grad_rif, sigma=0.2)\n",
    "\n",
    "# configure environments\n",
    "pg_config = [\n",
    "    {\n",
    "        'policy': policy,\n",
    "        'max_it': 1000,\n",
    "        'eps': 0.00001,\n",
    "        'estimator': 'central_fd'\n",
    "    },\n",
    "    {\n",
    "        'policy': policy_rif,\n",
    "        'max_it': 1000,\n",
    "        'eps': 0.00001,\n",
    "        'estimator': 'reinforce'\n",
    "    }\n",
    "]\n",
    "\n",
    "test_config.addAlgConfig(PolicyGradient, LinearCar, pg_config, {})\n",
    "test_config.addAlgConfig(PolicyGradient, GeneralMountainCar, pg_config, {})"
   ]
  },
  {
   "cell_type": "code",
   "execution_count": null,
   "metadata": {
    "collapsed": false
   },
   "outputs": [],
   "source": [
    "benchmark = Bench(algorithms, environments, test_config)"
   ]
  },
  {
   "cell_type": "code",
   "execution_count": null,
   "metadata": {
    "collapsed": false
   },
   "outputs": [],
   "source": [
    "benchmark()"
   ]
  },
  {
   "cell_type": "code",
   "execution_count": null,
   "metadata": {
    "collapsed": false
   },
   "outputs": [],
   "source": [
    "pprint.pprint(benchmark.tests[0].__dict__, depth=2)"
   ]
  },
  {
   "cell_type": "code",
   "execution_count": null,
   "metadata": {
    "collapsed": true
   },
   "outputs": [],
   "source": []
  },
  {
   "cell_type": "code",
   "execution_count": null,
   "metadata": {
    "collapsed": true
   },
   "outputs": [],
   "source": []
  }
 ],
 "metadata": {
  "kernelspec": {
   "display_name": "Python 3",
   "language": "python",
   "name": "python3"
  },
  "language_info": {
   "codemirror_mode": {
    "name": "ipython",
    "version": 3
   },
   "file_extension": ".py",
   "mimetype": "text/x-python",
   "name": "python",
   "nbconvert_exporter": "python",
   "pygments_lexer": "ipython3",
   "version": "3.5.2"
  }
 },
 "nbformat": 4,
 "nbformat_minor": 1
}
