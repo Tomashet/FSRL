{
 "cells": [
  {
   "cell_type": "markdown",
   "metadata": {
    "deletable": true,
    "editable": true
   },
   "source": [
    "# Using SafeOpt"
   ]
  },
  {
   "cell_type": "code",
   "execution_count": null,
   "metadata": {
    "collapsed": true,
    "deletable": true,
    "editable": true
   },
   "outputs": [],
   "source": [
    "# set up logging\n",
    "from SafeRLBench import config\n",
    "\n",
    "config.logger_set_level(config.DEBUG)\n",
    "config.logger_add_stream_handler()\n",
    "config.monitor_set_verbosity(3)"
   ]
  },
  {
   "cell_type": "code",
   "execution_count": null,
   "metadata": {
    "collapsed": true,
    "deletable": true,
    "editable": true
   },
   "outputs": [],
   "source": [
    "from SafeRLBench.algo import SafeOptSwarm\n",
    "from SafeRLBench.envs import Quadrocopter\n",
    "from SafeRLBench.policy import NonLinearQuadrocopterController\n",
    "\n",
    "import GPy\n",
    "import safeopt"
   ]
  },
  {
   "cell_type": "code",
   "execution_count": null,
   "metadata": {
    "collapsed": false,
    "deletable": true,
    "editable": true
   },
   "outputs": [],
   "source": [
    "noise_var = 0.05 ** 2\n",
    "\n",
    "# Set fixed Gaussian measurement noise\n",
    "likelihood = GPy.likelihoods.gaussian.Gaussian(variance=noise_var)\n",
    "likelihood.constrain_fixed(warning=False);\n",
    "\n",
    "# Bounds on the inputs variable\n",
    "bounds = [(0., 1.), (0., 1.), (0., 1.), (0., 1.), (0., 1.)]\n",
    "\n",
    "# Define Kernel\n",
    "kernel = GPy.kern.RBF(input_dim=len(bounds), variance=2., lengthscale=1.0, ARD=True)"
   ]
  },
  {
   "cell_type": "code",
   "execution_count": null,
   "metadata": {
    "collapsed": false,
    "deletable": true,
    "editable": true
   },
   "outputs": [],
   "source": [
    "env = Quadrocopter()\n",
    "controller = NonLinearQuadrocopterController()\n",
    "\n",
    "print([t[2] for t in env.rollout(controller)])\n",
    "\n",
    "opt = SafeOptSwarm(env, controller, max_it=20, avg_reward=-50, window=2, kernel=kernel, likelihood=likelihood,\n",
    "                   fmin=-1000, bounds=bounds)"
   ]
  },
  {
   "cell_type": "code",
   "execution_count": null,
   "metadata": {
    "collapsed": false,
    "deletable": true,
    "editable": true
   },
   "outputs": [],
   "source": [
    "opt.optimize()"
   ]
  },
  {
   "cell_type": "code",
   "execution_count": null,
   "metadata": {
    "collapsed": true,
    "deletable": true,
    "editable": true
   },
   "outputs": [],
   "source": []
  }
 ],
 "metadata": {
  "kernelspec": {
   "display_name": "Python (py36-srb)",
   "language": "python",
   "name": "py36-srb"
  },
  "language_info": {
   "codemirror_mode": {
    "name": "ipython",
    "version": 3
   },
   "file_extension": ".py",
   "mimetype": "text/x-python",
   "name": "python",
   "nbconvert_exporter": "python",
   "pygments_lexer": "ipython3",
   "version": "3.6.1"
  }
 },
 "nbformat": 4,
 "nbformat_minor": 2
}
