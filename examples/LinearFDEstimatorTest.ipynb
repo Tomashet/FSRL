{
 "cells": [
  {
   "cell_type": "code",
   "execution_count": 1,
   "metadata": {
    "collapsed": false
   },
   "outputs": [],
   "source": [
    "import matplotlib.pyplot as plt\n",
    "import numpy as np\n",
    "\n",
    "try:\n",
    "    import SafeRLBench as srb\n",
    "    import SafeRLBench.envs as envs\n",
    "    import SafeRLBench.tools as tools\n",
    "except ImportError:\n",
    "    import sys\n",
    "    import os\n",
    "    module_path = os.path.abspath('..')\n",
    "    sys.path.append(module_path)\n",
    "    import SafeRLBench as srb\n",
    "    import SafeRLBench.envs as envs\n",
    "    import SafeRLBench.tools as tools\n",
    "    \n",
    "np.set_printoptions(precision=5)"
   ]
  },
  {
   "cell_type": "markdown",
   "metadata": {},
   "source": [
    "Finite Difference Estimator only works if if gets a good guess. \n",
    "\n",
    "Thus the estimator will randomly choose parameters until it finds a non-zero gradient estimate. From there we can optimize. \n",
    "\n",
    "Additionally the scale of the state space causes weighting issues. Meaning the set of parameters that produce a non-zero gradient with respect to the entire parameter set we are choosing from is rather small. Thus the algorithm is likely to search very long for usefull initial parameters. To compensate for that, one can introduce a scaling variable. In this case it is arbitrary but, it makes sense to obtain it from the state domain.\n",
    "\n",
    "It still fails sometimes, because the gradient estimates are randomized. A deterministic gradient estimator would solve this issue.\n",
    "\n",
    "Estimator parameters are pretty arbitrary."
   ]
  },
  {
   "cell_type": "code",
   "execution_count": 2,
   "metadata": {
    "collapsed": false
   },
   "outputs": [],
   "source": [
    "mntcar = envs.GeneralMountainCar()\n",
    "executer = tools.Rollout(mntcar)\n",
    "par_policy = lambda par: (lambda x: par[0] + (par[1:]*np.array([10.,100.])).dot(x))\n",
    "policy = tools.Policy(par_policy,(3))\n",
    "estimator = srb.LinearFDEstimator(executer, mntcar, max_it=200, eps=0.01, var = 1, \n",
    "                                  parameter_domain=np.array([-2,2]), rate = 0.5)"
   ]
  },
  {
   "cell_type": "code",
   "execution_count": 3,
   "metadata": {
    "collapsed": false
   },
   "outputs": [
    {
     "name": "stdout",
     "output_type": "stream",
     "text": [
      "Start Linear Finite Difference optimization:\n",
      "Initial Parameters: [ 0.05974  0.67661  0.04815]\n",
      "Run: 0  \tParameter: \t[ 0.05974  0.67661  0.04815]\tReward: -399.91605004928\n",
      "\t\tGradient: \t[ 0.1059  -0.21599  0.35246]\n",
      "Run: 10  \tParameter: \t[ 0.50102 -0.10811  1.46584]\tReward: -185.9604275485478\n",
      "\t\tGradient: \t[-0.0013  -0.06589 -0.00134]\n",
      "Run: 20  \tParameter: \t[ 0.75596 -0.35301  1.59374]\tReward: -181.87201137859165\n",
      "\t\tGradient: \t[-0.01817 -0.08223 -0.02087]\n",
      "Run: 30  \tParameter: \t[ 0.86831 -0.64956  1.81961]\tReward: -300.6830014505147\n",
      "\t\tGradient: \t[ 0.60103  0.74159  0.98942]\n",
      "Run: 40  \tParameter: \t[ 1.11803 -0.55853  2.28011]\tReward: -181.54183509480058\n",
      "\t\tGradient: \t[-0.01126 -0.07166 -0.02   ]\n",
      "Run: 50  \tParameter: \t[ 1.33527 -0.51234  2.63311]\tReward: -182.8820156889351\n",
      "\t\tGradient: \t[-0.00866 -0.06074 -0.00126]\n",
      "Run: 60  \tParameter: \t[ 1.27381 -0.81868  2.58053]\tReward: -180.30660386132632\n",
      "\t\tGradient: \t[-0.01523 -0.07057 -0.01635]\n",
      "Run: 70  \tParameter: \t[ 1.74472 -0.88672  2.99015]\tReward: -181.8529401899269\n",
      "\t\tGradient: \t[-0.01355 -0.05594 -0.0087 ]\n",
      "Run: 80  \tParameter: \t[ 2.11018 -0.75847  3.28521]\tReward: -183.73420333259628\n",
      "\t\tGradient: \t[-0.00387 -0.05813 -0.00813]\n",
      "Run: 90  \tParameter: \t[ 2.08639 -1.02839  3.24334]\tReward: -182.14445057309626\n",
      "\t\tGradient: \t[-0.00554 -0.05462 -0.00352]\n",
      "Run: 100  \tParameter: \t[ 2.40217 -0.85351  3.62208]\tReward: -183.95919718672576\n",
      "\t\tGradient: \t[-0.00332 -0.04863 -0.00601]\n",
      "Run: 110  \tParameter: \t[ 2.35032 -1.09752  3.59985]\tReward: -182.36858002419189\n",
      "\t\tGradient: \t[-0.00231 -0.06431 -0.00198]\n",
      "Run: 120  \tParameter: \t[ 2.32528 -1.36059  3.53633]\tReward: -180.9742708214016\n",
      "\t\tGradient: \t[-0.00378 -0.05999 -0.0078 ]\n",
      "Run: 130  \tParameter: \t[ 2.68546 -1.08571  3.75857]\tReward: -183.1897422666536\n",
      "\t\tGradient: \t[-0.0166  -0.04786 -0.00763]\n",
      "Run: 140  \tParameter: \t[ 2.64193 -1.3471   3.71953]\tReward: -181.68837806278574\n",
      "\t\tGradient: \t[-0.0115  -0.0575  -0.01112]\n",
      "Run: 150  \tParameter: \t[ 2.85555 -1.01295  4.00559]\tReward: -184.16600990191316\n",
      "\t\tGradient: \t[-0.00028 -0.03753 -0.00707]\n",
      "Run: 160  \tParameter: \t[ 2.85529 -1.24522  3.97592]\tReward: -182.94708190900656\n",
      "\t\tGradient: \t[-0.01594 -0.04482 -0.00263]\n",
      "Run: 170  \tParameter: \t[ 2.81172 -1.4879   3.93524]\tReward: -181.61418616400383\n",
      "\t\tGradient: \t[-0.00717 -0.0489  -0.01146]\n",
      "Run: 180  \tParameter: \t[ 3.20782 -1.35884  4.36027]\tReward: -183.25152057076747\n",
      "\t\tGradient: \t[-0.00487 -0.05336  0.00748]\n",
      "Run: 190  \tParameter: \t[ 3.17651 -1.5762   4.32406]\tReward: -181.8770234721859\n",
      "\t\tGradient: \t[-0.01069 -0.05422 -0.00221]\n"
     ]
    }
   ],
   "source": [
    "par, conv = estimator.optimize(policy)"
   ]
  },
  {
   "cell_type": "markdown",
   "metadata": {},
   "source": [
    "This is the trajectory of the final parameter set."
   ]
  },
  {
   "cell_type": "code",
   "execution_count": 4,
   "metadata": {
    "collapsed": false
   },
   "outputs": [
    {
     "name": "stdout",
     "output_type": "stream",
     "text": [
      "Final Reward: -179.98056430898916\n"
     ]
    },
    {
     "data": {
      "image/png": "[encoded data removed]",
      "text/plain": [
       "<matplotlib.figure.Figure at 0x111dcd898>"
      ]
     },
     "metadata": {},
     "output_type": "display_data"
    }
   ],
   "source": [
    "policy.setParameter(estimator.best_parameter)\n",
    "trace, i, achieved = executer.rollout(policy)\n",
    "\n",
    "print(\"Final Reward: \"+str(estimator.best_reward))\n",
    "\n",
    "y = np.array([t[0] for t in [s[1] for s in trace]])\n",
    "x = np.arange(0,i+1)\n",
    "\n",
    "plt.plot(x,y)\n",
    "plt.show()"
   ]
  },
  {
   "cell_type": "code",
   "execution_count": null,
   "metadata": {
    "collapsed": true
   },
   "outputs": [],
   "source": []
  }
 ],
 "metadata": {
  "kernelspec": {
   "display_name": "Python 3",
   "language": "python",
   "name": "python3"
  },
  "language_info": {
   "codemirror_mode": {
    "name": "ipython",
    "version": 3
   },
   "file_extension": ".py",
   "mimetype": "text/x-python",
   "name": "python",
   "nbconvert_exporter": "python",
   "pygments_lexer": "ipython3",
   "version": "3.5.2"
  }
 },
 "nbformat": 4,
 "nbformat_minor": 1
}
