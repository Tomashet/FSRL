{
 "cells": [
  {
   "cell_type": "code",
   "execution_count": 1,
   "metadata": {
    "collapsed": false
   },
   "outputs": [],
   "source": [
    "import matplotlib.pyplot as plt\n",
    "import numpy as np\n",
    "\n",
    "try:\n",
    "    import SafeRLBench as srb\n",
    "    import SafeRLBench.envs as envs\n",
    "except ImportError:\n",
    "    import sys\n",
    "    import os\n",
    "    module_path = os.path.abspath('..')\n",
    "    sys.path.append(module_path)\n",
    "    import SafeRLBench as srb\n",
    "    import SafeRLBench.envs as envs\n",
    "    \n",
    "np.set_printoptions(precision=5)"
   ]
  },
  {
   "cell_type": "markdown",
   "metadata": {},
   "source": [
    "Finite Difference Estimator only works if if gets a good guess. \n",
    "\n",
    "Thus the estimator will randomly choose parameters until it finds a non-zero gradient estimate. From there we can optimize. \n",
    "\n",
    "Additionally the scale of the state space causes weighting issues. Meaning the set of parameters that produce a non-zero gradient with respect to the entire parameter set we are choosing from is rather small. Thus the algorithm is likely to search very long for usefull initial parameters. To compensate for that, one can introduce a scaling variable. In this case it is arbitrary but, it makes sense to obtain it from the state domain.\n",
    "\n",
    "It still fails sometimes, because the gradient estimates are randomized. A deterministic gradient estimator would solve this issue.\n",
    "\n",
    "Estimator parameters are pretty arbitrary."
   ]
  },
  {
   "cell_type": "code",
   "execution_count": 2,
   "metadata": {
    "collapsed": true
   },
   "outputs": [],
   "source": [
    "mntcar = envs.GeneralMountainCar()\n",
    "executer = srb.Rollout(mntcar)\n",
    "policy_scale = np.array([1,10,100])\n",
    "estimator = srb.LinearFDEstimator(executer, mntcar, max_it=200, eps=0.01, var = 1, \n",
    "                                  parameter_domain=np.array([-2,2]), rate = 0.5)"
   ]
  },
  {
   "cell_type": "code",
   "execution_count": 3,
   "metadata": {
    "collapsed": false
   },
   "outputs": [
    {
     "name": "stdout",
     "output_type": "stream",
     "text": [
      "Start Linear Finite Difference optimization:\n",
      "Initial Parameters: [ 0.70629  0.66668  0.66293]\n",
      "Run: 0  \tParameter: \t[ 0.70629  0.66668  0.66293]\tReward: -287.5668731977271\n",
      "\t\tGradient: \t[-0.13553 -0.28462  0.25635]\n",
      "Run: 10  \tParameter: \t[ 0.28234 -0.11254  1.22213]\tReward: -190.19762774388695\n",
      "\t\tGradient: \t[ 0.00114 -0.04847  0.0138 ]\n",
      "Run: 20  \tParameter: \t[ 0.52085 -0.2366   1.60542]\tReward: -184.52602800153224\n",
      "\t\tGradient: \t[ 0.00491 -0.07974  0.0001 ]\n",
      "Run: 30  \tParameter: \t[ 1.02317 -0.10825  1.82487]\tReward: -185.36040590470338\n",
      "\t\tGradient: \t[-0.01931 -0.07167 -0.00128]\n",
      "Run: 40  \tParameter: \t[ 0.93032 -0.44348  1.82024]\tReward: -183.36012057935272\n",
      "\t\tGradient: \t[-0.01069 -0.06705 -0.00962]\n",
      "Run: 50  \tParameter: \t[ 1.25168 -0.40197  2.26309]\tReward: -184.71550517578413\n",
      "\t\tGradient: \t[-0.0109  -0.05984  0.00486]\n",
      "Run: 60  \tParameter: \t[ 1.23496 -0.67476  2.26718]\tReward: -184.22981789408925\n",
      "\t\tGradient: \t[-0.01314 -0.05698  0.00563]\n",
      "Run: 70  \tParameter: \t[ 1.57555 -0.55146  2.76804]\tReward: -183.58361013148917\n",
      "\t\tGradient: \t[-0.01728 -0.05419 -0.0085 ]\n",
      "Run: 80  \tParameter: \t[ 1.5609  -0.78953  2.77793]\tReward: -183.97012048476668\n",
      "\t\tGradient: \t[-0.02239 -0.04077  0.00535]\n",
      "Run: 90  \tParameter: \t[ 1.54358 -0.98667  2.79958]\tReward: -184.2065856362282\n",
      "\t\tGradient: \t[-0.01062 -0.02399 -0.01664]\n",
      "Run: 100  \tParameter: \t[ 1.92886 -0.77149  3.14423]\tReward: -185.70296500561182\n",
      "\t\tGradient: \t[-0.00303 -0.04029  0.00885]\n"
     ]
    }
   ],
   "source": [
    "par, conv = estimator.optimize(policy_scale)"
   ]
  },
  {
   "cell_type": "markdown",
   "metadata": {},
   "source": [
    "This is the trajectory of the final parameter set."
   ]
  },
  {
   "cell_type": "code",
   "execution_count": 4,
   "metadata": {
    "collapsed": false
   },
   "outputs": [
    {
     "name": "stdout",
     "output_type": "stream",
     "text": [
      "Final Reward: -183.26577682415376\n"
     ]
    },
    {
     "data": {
      "image/png": "[encoded data removed]",
      "text/plain": [
       "<matplotlib.figure.Figure at 0x111435dd8>"
      ]
     },
     "metadata": {},
     "output_type": "display_data"
    }
   ],
   "source": [
    "par_policy = lambda parameter: (lambda x: (parameter * policy_scale).dot(np.array([1,x[0],x[1]])))\n",
    "trace, i, achieved = executer.rollout(par_policy(estimator.best_parameter))\n",
    "\n",
    "print(\"Final Reward: \"+str(estimator.best_reward))\n",
    "\n",
    "y = np.array([t[0] for t in [s[1] for s in trace]])\n",
    "x = np.arange(0,i+1)\n",
    "\n",
    "plt.plot(x,y)\n",
    "plt.show()"
   ]
  },
  {
   "cell_type": "code",
   "execution_count": null,
   "metadata": {
    "collapsed": true
   },
   "outputs": [],
   "source": []
  }
 ],
 "metadata": {
  "kernelspec": {
   "display_name": "Python 3",
   "language": "python",
   "name": "python3"
  },
  "language_info": {
   "codemirror_mode": {
    "name": "ipython",
    "version": 3
   },
   "file_extension": ".py",
   "mimetype": "text/x-python",
   "name": "python",
   "nbconvert_exporter": "python",
   "pygments_lexer": "ipython3",
   "version": "3.5.2"
  }
 },
 "nbformat": 4,
 "nbformat_minor": 1
}
