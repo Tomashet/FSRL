{
 "cells": [
  {
   "cell_type": "code",
   "execution_count": 1,
   "metadata": {
    "collapsed": false
   },
   "outputs": [],
   "source": [
    "import matplotlib.pyplot as plt\n",
    "import numpy as np\n",
    "\n",
    "try:\n",
    "    import SafeRLBench as srb\n",
    "except ImportError:\n",
    "    import sys\n",
    "    import os\n",
    "    module_path = os.path.abspath('..')\n",
    "    sys.path.append(module_path)\n",
    "    import SafeRLBench as srb\n",
    "    \n",
    "np.set_printoptions(precision=5)"
   ]
  },
  {
   "cell_type": "markdown",
   "metadata": {},
   "source": [
    "Finite Difference Estimator only works if if gets a good guess. \n",
    "\n",
    "Thus the estimator will randomly choose parameters until it finds a non-zero gradient estimate. From there we can optimize. \n",
    "\n",
    "Additionally the scale of the state space causes weighting issues. Meaning the set of parameters that produce a non-zero gradient with respect to the entire parameter set we are choosing from is rather small. Thus the algorithm is likely to search very long for usefull initial parameters. To compensate for that, one can introduce a scaling variable. In this case it is arbitrary but, it makes sense to obtain it from the state domain.\n",
    "\n",
    "It still fails sometimes, because the gradient estimates are randomized. A deterministic gradient estimator would solve this issue.\n",
    "\n",
    "Estimator parameters are pretty arbitrary."
   ]
  },
  {
   "cell_type": "code",
   "execution_count": 2,
   "metadata": {
    "collapsed": true
   },
   "outputs": [],
   "source": [
    "mntcar = srb.GeneralMountainCar()\n",
    "executer = srb.Rollout(mntcar)\n",
    "policy_scale = np.array([1,10,100])\n",
    "estimator = srb.LinearFDEstimator(executer, mntcar, max_it=600, eps=0.01, var = 0.2, \n",
    "                                  parameter_domain=np.array([-2,2]), rate = -0.1)"
   ]
  },
  {
   "cell_type": "code",
   "execution_count": 3,
   "metadata": {
    "collapsed": false
   },
   "outputs": [
    {
     "name": "stdout",
     "output_type": "stream",
     "text": [
      "Start Linear Finite Difference optimization:\n",
      "Initial Parameters: [ 2.19693  2.25398  5.81366]\n",
      "Run: 0  \tParameter: \t[ 2.19693  2.25398  5.81366]\tReward: -196.0242764082516\n",
      "\t\tGradient: \t[ 0.01602  0.01075 -0.01141]\n",
      "Run: 10  \tParameter: \t[ 2.18898  2.23224  5.82996]\tReward: -195.87442546069968\n",
      "\t\tGradient: \t[ 0.00086  0.0168  -0.01405]\n",
      "Run: 20  \tParameter: \t[ 2.18499  2.21687  5.83923]\tReward: -195.7674117134617\n",
      "\t\tGradient: \t[-0.00077  0.02095 -0.00383]\n",
      "Run: 30  \tParameter: \t[ 2.18149  2.19751  5.84716]\tReward: -195.6325307693846\n",
      "\t\tGradient: \t[ 0.01077  0.00701 -0.00906]\n",
      "Run: 40  \tParameter: \t[ 2.1764   2.18157  5.85783]\tReward: -195.50078246200798\n",
      "\t\tGradient: \t[ 0.00561  0.01238 -0.00753]\n",
      "Run: 50  \tParameter: \t[ 2.17327  2.16531  5.86763]\tReward: -195.37192171665004\n",
      "\t\tGradient: \t[ 0.00543  0.01753 -0.01265]\n"
     ]
    }
   ],
   "source": [
    "par, conv = estimator._optimize(policy_scale)"
   ]
  },
  {
   "cell_type": "markdown",
   "metadata": {},
   "source": [
    "This is the trajectory of the final parameter set."
   ]
  },
  {
   "cell_type": "code",
   "execution_count": 4,
   "metadata": {
    "collapsed": false
   },
   "outputs": [
    {
     "name": "stdout",
     "output_type": "stream",
     "text": [
      "Final Reward: -195.25619036104638\n"
     ]
    },
    {
     "data": {
      "image/png": "[encoded data removed]",
      "text/plain": [
       "<matplotlib.figure.Figure at 0x10bd929b0>"
      ]
     },
     "metadata": {},
     "output_type": "display_data"
    }
   ],
   "source": [
    "par_policy = lambda parameter: (lambda x: (parameter * policy_scale).dot(np.array([1,x[0],x[1]])))\n",
    "trace, i, achieved = executer.rollout(par_policy(par))\n",
    "\n",
    "print(\"Final Reward: \"+str(sum([x[2] for x in trace])))\n",
    "\n",
    "y = np.array([t[0] for t in [s[1] for s in trace]])\n",
    "x = np.arange(0,i+1)\n",
    "\n",
    "plt.plot(x,y)\n",
    "plt.show()"
   ]
  },
  {
   "cell_type": "code",
   "execution_count": null,
   "metadata": {
    "collapsed": true
   },
   "outputs": [],
   "source": []
  }
 ],
 "metadata": {
  "kernelspec": {
   "display_name": "Python 3",
   "language": "python",
   "name": "python3"
  },
  "language_info": {
   "codemirror_mode": {
    "name": "ipython",
    "version": 3
   },
   "file_extension": ".py",
   "mimetype": "text/x-python",
   "name": "python",
   "nbconvert_exporter": "python",
   "pygments_lexer": "ipython3",
   "version": "3.5.2"
  }
 },
 "nbformat": 4,
 "nbformat_minor": 1
}
